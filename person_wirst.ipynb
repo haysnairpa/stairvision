{
  "cells": [
    {
      "cell_type": "markdown",
      "metadata": {
        "id": "view-in-github",
        "colab_type": "text"
      },
      "source": [
        "<a href=\"https://colab.research.google.com/github/haysnairpa/stairvision/blob/main/person_wirst.ipynb\" target=\"_parent\"><img src=\"https://colab.research.google.com/assets/colab-badge.svg\" alt=\"Open In Colab\"/></a>"
      ]
    },
    {
      "cell_type": "code",
      "source": [
        "!pip install ultralytics"
      ],
      "metadata": {
        "colab": {
          "base_uri": "https://localhost:8080/"
        },
        "id": "OomDwM7S_WhS",
        "outputId": "97f9e543-0ed6-45c9-b562-a910d6d4b93d"
      },
      "execution_count": null,
      "outputs": [
        {
          "output_type": "stream",
          "name": "stdout",
          "text": [
            "Collecting ultralytics\n",
            "  Downloading ultralytics-8.3.176-py3-none-any.whl.metadata (37 kB)\n",
            "Requirement already satisfied: numpy>=1.23.0 in /usr/local/lib/python3.11/dist-packages (from ultralytics) (2.0.2)\n",
            "Requirement already satisfied: matplotlib>=3.3.0 in /usr/local/lib/python3.11/dist-packages (from ultralytics) (3.10.0)\n",
            "Requirement already satisfied: opencv-python>=4.6.0 in /usr/local/lib/python3.11/dist-packages (from ultralytics) (4.12.0.88)\n",
            "Requirement already satisfied: pillow>=7.1.2 in /usr/local/lib/python3.11/dist-packages (from ultralytics) (11.3.0)\n",
            "Requirement already satisfied: pyyaml>=5.3.1 in /usr/local/lib/python3.11/dist-packages (from ultralytics) (6.0.2)\n",
            "Requirement already satisfied: requests>=2.23.0 in /usr/local/lib/python3.11/dist-packages (from ultralytics) (2.32.3)\n",
            "Requirement already satisfied: scipy>=1.4.1 in /usr/local/lib/python3.11/dist-packages (from ultralytics) (1.16.1)\n",
            "Requirement already satisfied: torch>=1.8.0 in /usr/local/lib/python3.11/dist-packages (from ultralytics) (2.6.0+cu124)\n",
            "Requirement already satisfied: torchvision>=0.9.0 in /usr/local/lib/python3.11/dist-packages (from ultralytics) (0.21.0+cu124)\n",
            "Requirement already satisfied: tqdm>=4.64.0 in /usr/local/lib/python3.11/dist-packages (from ultralytics) (4.67.1)\n",
            "Requirement already satisfied: psutil in /usr/local/lib/python3.11/dist-packages (from ultralytics) (5.9.5)\n",
            "Requirement already satisfied: py-cpuinfo in /usr/local/lib/python3.11/dist-packages (from ultralytics) (9.0.0)\n",
            "Requirement already satisfied: pandas>=1.1.4 in /usr/local/lib/python3.11/dist-packages (from ultralytics) (2.2.2)\n",
            "Collecting ultralytics-thop>=2.0.0 (from ultralytics)\n",
            "  Downloading ultralytics_thop-2.0.15-py3-none-any.whl.metadata (14 kB)\n",
            "Requirement already satisfied: contourpy>=1.0.1 in /usr/local/lib/python3.11/dist-packages (from matplotlib>=3.3.0->ultralytics) (1.3.3)\n",
            "Requirement already satisfied: cycler>=0.10 in /usr/local/lib/python3.11/dist-packages (from matplotlib>=3.3.0->ultralytics) (0.12.1)\n",
            "Requirement already satisfied: fonttools>=4.22.0 in /usr/local/lib/python3.11/dist-packages (from matplotlib>=3.3.0->ultralytics) (4.59.0)\n",
            "Requirement already satisfied: kiwisolver>=1.3.1 in /usr/local/lib/python3.11/dist-packages (from matplotlib>=3.3.0->ultralytics) (1.4.8)\n",
            "Requirement already satisfied: packaging>=20.0 in /usr/local/lib/python3.11/dist-packages (from matplotlib>=3.3.0->ultralytics) (25.0)\n",
            "Requirement already satisfied: pyparsing>=2.3.1 in /usr/local/lib/python3.11/dist-packages (from matplotlib>=3.3.0->ultralytics) (3.2.3)\n",
            "Requirement already satisfied: python-dateutil>=2.7 in /usr/local/lib/python3.11/dist-packages (from matplotlib>=3.3.0->ultralytics) (2.9.0.post0)\n",
            "Requirement already satisfied: pytz>=2020.1 in /usr/local/lib/python3.11/dist-packages (from pandas>=1.1.4->ultralytics) (2025.2)\n",
            "Requirement already satisfied: tzdata>=2022.7 in /usr/local/lib/python3.11/dist-packages (from pandas>=1.1.4->ultralytics) (2025.2)\n",
            "Requirement already satisfied: charset-normalizer<4,>=2 in /usr/local/lib/python3.11/dist-packages (from requests>=2.23.0->ultralytics) (3.4.2)\n",
            "Requirement already satisfied: idna<4,>=2.5 in /usr/local/lib/python3.11/dist-packages (from requests>=2.23.0->ultralytics) (3.10)\n",
            "Requirement already satisfied: urllib3<3,>=1.21.1 in /usr/local/lib/python3.11/dist-packages (from requests>=2.23.0->ultralytics) (2.5.0)\n",
            "Requirement already satisfied: certifi>=2017.4.17 in /usr/local/lib/python3.11/dist-packages (from requests>=2.23.0->ultralytics) (2025.8.3)\n",
            "Requirement already satisfied: filelock in /usr/local/lib/python3.11/dist-packages (from torch>=1.8.0->ultralytics) (3.18.0)\n",
            "Requirement already satisfied: typing-extensions>=4.10.0 in /usr/local/lib/python3.11/dist-packages (from torch>=1.8.0->ultralytics) (4.14.1)\n",
            "Requirement already satisfied: networkx in /usr/local/lib/python3.11/dist-packages (from torch>=1.8.0->ultralytics) (3.5)\n",
            "Requirement already satisfied: jinja2 in /usr/local/lib/python3.11/dist-packages (from torch>=1.8.0->ultralytics) (3.1.6)\n",
            "Requirement already satisfied: fsspec in /usr/local/lib/python3.11/dist-packages (from torch>=1.8.0->ultralytics) (2025.3.0)\n",
            "Collecting nvidia-cuda-nvrtc-cu12==12.4.127 (from torch>=1.8.0->ultralytics)\n",
            "  Downloading nvidia_cuda_nvrtc_cu12-12.4.127-py3-none-manylinux2014_x86_64.whl.metadata (1.5 kB)\n",
            "Collecting nvidia-cuda-runtime-cu12==12.4.127 (from torch>=1.8.0->ultralytics)\n",
            "  Downloading nvidia_cuda_runtime_cu12-12.4.127-py3-none-manylinux2014_x86_64.whl.metadata (1.5 kB)\n",
            "Collecting nvidia-cuda-cupti-cu12==12.4.127 (from torch>=1.8.0->ultralytics)\n",
            "  Downloading nvidia_cuda_cupti_cu12-12.4.127-py3-none-manylinux2014_x86_64.whl.metadata (1.6 kB)\n",
            "Collecting nvidia-cudnn-cu12==9.1.0.70 (from torch>=1.8.0->ultralytics)\n",
            "  Downloading nvidia_cudnn_cu12-9.1.0.70-py3-none-manylinux2014_x86_64.whl.metadata (1.6 kB)\n",
            "Collecting nvidia-cublas-cu12==12.4.5.8 (from torch>=1.8.0->ultralytics)\n",
            "  Downloading nvidia_cublas_cu12-12.4.5.8-py3-none-manylinux2014_x86_64.whl.metadata (1.5 kB)\n",
            "Collecting nvidia-cufft-cu12==11.2.1.3 (from torch>=1.8.0->ultralytics)\n",
            "  Downloading nvidia_cufft_cu12-11.2.1.3-py3-none-manylinux2014_x86_64.whl.metadata (1.5 kB)\n",
            "Collecting nvidia-curand-cu12==10.3.5.147 (from torch>=1.8.0->ultralytics)\n",
            "  Downloading nvidia_curand_cu12-10.3.5.147-py3-none-manylinux2014_x86_64.whl.metadata (1.5 kB)\n",
            "Collecting nvidia-cusolver-cu12==11.6.1.9 (from torch>=1.8.0->ultralytics)\n",
            "  Downloading nvidia_cusolver_cu12-11.6.1.9-py3-none-manylinux2014_x86_64.whl.metadata (1.6 kB)\n",
            "Collecting nvidia-cusparse-cu12==12.3.1.170 (from torch>=1.8.0->ultralytics)\n",
            "  Downloading nvidia_cusparse_cu12-12.3.1.170-py3-none-manylinux2014_x86_64.whl.metadata (1.6 kB)\n",
            "Requirement already satisfied: nvidia-cusparselt-cu12==0.6.2 in /usr/local/lib/python3.11/dist-packages (from torch>=1.8.0->ultralytics) (0.6.2)\n",
            "Collecting nvidia-nccl-cu12==2.21.5 (from torch>=1.8.0->ultralytics)\n",
            "  Downloading nvidia_nccl_cu12-2.21.5-py3-none-manylinux2014_x86_64.whl.metadata (1.8 kB)\n",
            "Requirement already satisfied: nvidia-nvtx-cu12==12.4.127 in /usr/local/lib/python3.11/dist-packages (from torch>=1.8.0->ultralytics) (12.4.127)\n",
            "Collecting nvidia-nvjitlink-cu12==12.4.127 (from torch>=1.8.0->ultralytics)\n",
            "  Downloading nvidia_nvjitlink_cu12-12.4.127-py3-none-manylinux2014_x86_64.whl.metadata (1.5 kB)\n",
            "Requirement already satisfied: triton==3.2.0 in /usr/local/lib/python3.11/dist-packages (from torch>=1.8.0->ultralytics) (3.2.0)\n",
            "Requirement already satisfied: sympy==1.13.1 in /usr/local/lib/python3.11/dist-packages (from torch>=1.8.0->ultralytics) (1.13.1)\n",
            "Requirement already satisfied: mpmath<1.4,>=1.1.0 in /usr/local/lib/python3.11/dist-packages (from sympy==1.13.1->torch>=1.8.0->ultralytics) (1.3.0)\n",
            "Requirement already satisfied: six>=1.5 in /usr/local/lib/python3.11/dist-packages (from python-dateutil>=2.7->matplotlib>=3.3.0->ultralytics) (1.17.0)\n",
            "Requirement already satisfied: MarkupSafe>=2.0 in /usr/local/lib/python3.11/dist-packages (from jinja2->torch>=1.8.0->ultralytics) (3.0.2)\n",
            "Downloading ultralytics-8.3.176-py3-none-any.whl (1.0 MB)\n",
            "\u001b[2K   \u001b[90m━━━━━━━━━━━━━━━━━━━━━━━━━━━━━━━━━━━━━━━━\u001b[0m \u001b[32m1.0/1.0 MB\u001b[0m \u001b[31m42.3 MB/s\u001b[0m eta \u001b[36m0:00:00\u001b[0m\n",
            "\u001b[?25hDownloading nvidia_cublas_cu12-12.4.5.8-py3-none-manylinux2014_x86_64.whl (363.4 MB)\n",
            "\u001b[2K   \u001b[90m━━━━━━━━━━━━━━━━━━━━━━━━━━━━━━━━━━━━━━━━\u001b[0m \u001b[32m363.4/363.4 MB\u001b[0m \u001b[31m5.6 MB/s\u001b[0m eta \u001b[36m0:00:00\u001b[0m\n",
            "\u001b[?25hDownloading nvidia_cuda_cupti_cu12-12.4.127-py3-none-manylinux2014_x86_64.whl (13.8 MB)\n",
            "\u001b[2K   \u001b[90m━━━━━━━━━━━━━━━━━━━━━━━━━━━━━━━━━━━━━━━━\u001b[0m \u001b[32m13.8/13.8 MB\u001b[0m \u001b[31m80.5 MB/s\u001b[0m eta \u001b[36m0:00:00\u001b[0m\n",
            "\u001b[?25hDownloading nvidia_cuda_nvrtc_cu12-12.4.127-py3-none-manylinux2014_x86_64.whl (24.6 MB)\n",
            "\u001b[2K   \u001b[90m━━━━━━━━━━━━━━━━━━━━━━━━━━━━━━━━━━━━━━━━\u001b[0m \u001b[32m24.6/24.6 MB\u001b[0m \u001b[31m67.1 MB/s\u001b[0m eta \u001b[36m0:00:00\u001b[0m\n",
            "\u001b[?25hDownloading nvidia_cuda_runtime_cu12-12.4.127-py3-none-manylinux2014_x86_64.whl (883 kB)\n",
            "\u001b[2K   \u001b[90m━━━━━━━━━━━━━━━━━━━━━━━━━━━━━━━━━━━━━━━━\u001b[0m \u001b[32m883.7/883.7 kB\u001b[0m \u001b[31m54.0 MB/s\u001b[0m eta \u001b[36m0:00:00\u001b[0m\n",
            "\u001b[?25hDownloading nvidia_cudnn_cu12-9.1.0.70-py3-none-manylinux2014_x86_64.whl (664.8 MB)\n",
            "\u001b[2K   \u001b[90m━━━━━━━━━━━━━━━━━━━━━━━━━━━━━━━━━━━━━━━━\u001b[0m \u001b[32m664.8/664.8 MB\u001b[0m \u001b[31m1.4 MB/s\u001b[0m eta \u001b[36m0:00:00\u001b[0m\n",
            "\u001b[?25hDownloading nvidia_cufft_cu12-11.2.1.3-py3-none-manylinux2014_x86_64.whl (211.5 MB)\n",
            "\u001b[2K   \u001b[90m━━━━━━━━━━━━━━━━━━━━━━━━━━━━━━━━━━━━━━━━\u001b[0m \u001b[32m211.5/211.5 MB\u001b[0m \u001b[31m6.2 MB/s\u001b[0m eta \u001b[36m0:00:00\u001b[0m\n",
            "\u001b[?25hDownloading nvidia_curand_cu12-10.3.5.147-py3-none-manylinux2014_x86_64.whl (56.3 MB)\n",
            "\u001b[2K   \u001b[90m━━━━━━━━━━━━━━━━━━━━━━━━━━━━━━━━━━━━━━━━\u001b[0m \u001b[32m56.3/56.3 MB\u001b[0m \u001b[31m16.3 MB/s\u001b[0m eta \u001b[36m0:00:00\u001b[0m\n",
            "\u001b[?25hDownloading nvidia_cusolver_cu12-11.6.1.9-py3-none-manylinux2014_x86_64.whl (127.9 MB)\n",
            "\u001b[2K   \u001b[90m━━━━━━━━━━━━━━━━━━━━━━━━━━━━━━━━━━━━━━━━\u001b[0m \u001b[32m127.9/127.9 MB\u001b[0m \u001b[31m6.6 MB/s\u001b[0m eta \u001b[36m0:00:00\u001b[0m\n",
            "\u001b[?25hDownloading nvidia_cusparse_cu12-12.3.1.170-py3-none-manylinux2014_x86_64.whl (207.5 MB)\n",
            "\u001b[2K   \u001b[90m━━━━━━━━━━━━━━━━━━━━━━━━━━━━━━━━━━━━━━━━\u001b[0m \u001b[32m207.5/207.5 MB\u001b[0m \u001b[31m5.8 MB/s\u001b[0m eta \u001b[36m0:00:00\u001b[0m\n",
            "\u001b[?25hDownloading nvidia_nccl_cu12-2.21.5-py3-none-manylinux2014_x86_64.whl (188.7 MB)\n",
            "\u001b[2K   \u001b[90m━━━━━━━━━━━━━━━━━━━━━━━━━━━━━━━━━━━━━━━━\u001b[0m \u001b[32m188.7/188.7 MB\u001b[0m \u001b[31m7.2 MB/s\u001b[0m eta \u001b[36m0:00:00\u001b[0m\n",
            "\u001b[?25hDownloading nvidia_nvjitlink_cu12-12.4.127-py3-none-manylinux2014_x86_64.whl (21.1 MB)\n",
            "\u001b[2K   \u001b[90m━━━━━━━━━━━━━━━━━━━━━━━━━━━━━━━━━━━━━━━━\u001b[0m \u001b[32m21.1/21.1 MB\u001b[0m \u001b[31m101.7 MB/s\u001b[0m eta \u001b[36m0:00:00\u001b[0m\n",
            "\u001b[?25hDownloading ultralytics_thop-2.0.15-py3-none-any.whl (28 kB)\n",
            "Installing collected packages: nvidia-nvjitlink-cu12, nvidia-nccl-cu12, nvidia-curand-cu12, nvidia-cufft-cu12, nvidia-cuda-runtime-cu12, nvidia-cuda-nvrtc-cu12, nvidia-cuda-cupti-cu12, nvidia-cublas-cu12, nvidia-cusparse-cu12, nvidia-cudnn-cu12, nvidia-cusolver-cu12, ultralytics-thop, ultralytics\n",
            "  Attempting uninstall: nvidia-nvjitlink-cu12\n",
            "    Found existing installation: nvidia-nvjitlink-cu12 12.5.82\n",
            "    Uninstalling nvidia-nvjitlink-cu12-12.5.82:\n",
            "      Successfully uninstalled nvidia-nvjitlink-cu12-12.5.82\n",
            "  Attempting uninstall: nvidia-nccl-cu12\n",
            "    Found existing installation: nvidia-nccl-cu12 2.23.4\n",
            "    Uninstalling nvidia-nccl-cu12-2.23.4:\n",
            "      Successfully uninstalled nvidia-nccl-cu12-2.23.4\n",
            "  Attempting uninstall: nvidia-curand-cu12\n",
            "    Found existing installation: nvidia-curand-cu12 10.3.6.82\n",
            "    Uninstalling nvidia-curand-cu12-10.3.6.82:\n",
            "      Successfully uninstalled nvidia-curand-cu12-10.3.6.82\n",
            "  Attempting uninstall: nvidia-cufft-cu12\n",
            "    Found existing installation: nvidia-cufft-cu12 11.2.3.61\n",
            "    Uninstalling nvidia-cufft-cu12-11.2.3.61:\n",
            "      Successfully uninstalled nvidia-cufft-cu12-11.2.3.61\n",
            "  Attempting uninstall: nvidia-cuda-runtime-cu12\n",
            "    Found existing installation: nvidia-cuda-runtime-cu12 12.5.82\n",
            "    Uninstalling nvidia-cuda-runtime-cu12-12.5.82:\n",
            "      Successfully uninstalled nvidia-cuda-runtime-cu12-12.5.82\n",
            "  Attempting uninstall: nvidia-cuda-nvrtc-cu12\n",
            "    Found existing installation: nvidia-cuda-nvrtc-cu12 12.5.82\n",
            "    Uninstalling nvidia-cuda-nvrtc-cu12-12.5.82:\n",
            "      Successfully uninstalled nvidia-cuda-nvrtc-cu12-12.5.82\n",
            "  Attempting uninstall: nvidia-cuda-cupti-cu12\n",
            "    Found existing installation: nvidia-cuda-cupti-cu12 12.5.82\n",
            "    Uninstalling nvidia-cuda-cupti-cu12-12.5.82:\n",
            "      Successfully uninstalled nvidia-cuda-cupti-cu12-12.5.82\n",
            "  Attempting uninstall: nvidia-cublas-cu12\n",
            "    Found existing installation: nvidia-cublas-cu12 12.5.3.2\n",
            "    Uninstalling nvidia-cublas-cu12-12.5.3.2:\n",
            "      Successfully uninstalled nvidia-cublas-cu12-12.5.3.2\n",
            "  Attempting uninstall: nvidia-cusparse-cu12\n",
            "    Found existing installation: nvidia-cusparse-cu12 12.5.1.3\n",
            "    Uninstalling nvidia-cusparse-cu12-12.5.1.3:\n",
            "      Successfully uninstalled nvidia-cusparse-cu12-12.5.1.3\n",
            "  Attempting uninstall: nvidia-cudnn-cu12\n",
            "    Found existing installation: nvidia-cudnn-cu12 9.3.0.75\n",
            "    Uninstalling nvidia-cudnn-cu12-9.3.0.75:\n",
            "      Successfully uninstalled nvidia-cudnn-cu12-9.3.0.75\n",
            "  Attempting uninstall: nvidia-cusolver-cu12\n",
            "    Found existing installation: nvidia-cusolver-cu12 11.6.3.83\n",
            "    Uninstalling nvidia-cusolver-cu12-11.6.3.83:\n",
            "      Successfully uninstalled nvidia-cusolver-cu12-11.6.3.83\n",
            "Successfully installed nvidia-cublas-cu12-12.4.5.8 nvidia-cuda-cupti-cu12-12.4.127 nvidia-cuda-nvrtc-cu12-12.4.127 nvidia-cuda-runtime-cu12-12.4.127 nvidia-cudnn-cu12-9.1.0.70 nvidia-cufft-cu12-11.2.1.3 nvidia-curand-cu12-10.3.5.147 nvidia-cusolver-cu12-11.6.1.9 nvidia-cusparse-cu12-12.3.1.170 nvidia-nccl-cu12-2.21.5 nvidia-nvjitlink-cu12-12.4.127 ultralytics-8.3.176 ultralytics-thop-2.0.15\n"
          ]
        }
      ]
    },
    {
      "cell_type": "code",
      "source": [
        "from google.colab import drive\n",
        "drive.mount('/content/drive')"
      ],
      "metadata": {
        "colab": {
          "base_uri": "https://localhost:8080/"
        },
        "id": "UaipGOCOBMVP",
        "outputId": "5482d215-8eab-401f-aa29-f7046b542faf"
      },
      "execution_count": null,
      "outputs": [
        {
          "output_type": "stream",
          "name": "stdout",
          "text": [
            "Mounted at /content/drive\n"
          ]
        }
      ]
    },
    {
      "cell_type": "code",
      "execution_count": null,
      "metadata": {
        "colab": {
          "base_uri": "https://localhost:8080/"
        },
        "id": "NtD6aYN1cNxi",
        "outputId": "14e28fc4-0f43-4b66-c270-c62b70d1e38f"
      },
      "outputs": [
        {
          "output_type": "stream",
          "name": "stdout",
          "text": [
            "Ultralytics 8.3.176 🚀 Python-3.11.13 torch-2.6.0+cu124 CUDA:0 (Tesla T4, 15095MiB)\n",
            "\u001b[34m\u001b[1mengine/trainer: \u001b[0magnostic_nms=False, amp=True, augment=False, auto_augment=randaugment, batch=16, bgr=0.0, box=7.5, cache=False, cfg=None, classes=None, close_mosaic=10, cls=0.5, conf=None, copy_paste=0.0, copy_paste_mode=flip, cos_lr=False, cutmix=0.0, data=coco8-pose.yaml, degrees=0.0, deterministic=True, device=None, dfl=1.5, dnn=False, dropout=0.0, dynamic=False, embed=None, epochs=100, erasing=0.4, exist_ok=False, fliplr=0.5, flipud=0.0, format=torchscript, fraction=1.0, freeze=None, half=False, hsv_h=0.015, hsv_s=0.7, hsv_v=0.4, imgsz=640, int8=False, iou=0.7, keras=False, kobj=1.0, line_width=None, lr0=0.01, lrf=0.01, mask_ratio=4, max_det=300, mixup=0.0, mode=train, model=yolo11n-pose.pt, momentum=0.937, mosaic=1.0, multi_scale=False, name=train2, nbs=64, nms=False, opset=None, optimize=False, optimizer=auto, overlap_mask=True, patience=100, perspective=0.0, plots=True, pose=12.0, pretrained=True, profile=False, project=None, rect=False, resume=False, retina_masks=False, save=True, save_conf=False, save_crop=False, save_dir=runs/pose/train2, save_frames=False, save_json=False, save_period=-1, save_txt=False, scale=0.5, seed=0, shear=0.0, show=False, show_boxes=True, show_conf=True, show_labels=True, simplify=True, single_cls=False, source=None, split=val, stream_buffer=False, task=pose, time=None, tracker=botsort.yaml, translate=0.1, val=True, verbose=True, vid_stride=1, visualize=False, warmup_bias_lr=0.1, warmup_epochs=3.0, warmup_momentum=0.8, weight_decay=0.0005, workers=8, workspace=None\n",
            "Overriding model.yaml nc=80 with nc=1\n",
            "\n",
            "                   from  n    params  module                                       arguments                     \n",
            "  0                  -1  1       464  ultralytics.nn.modules.conv.Conv             [3, 16, 3, 2]                 \n",
            "  1                  -1  1      4672  ultralytics.nn.modules.conv.Conv             [16, 32, 3, 2]                \n",
            "  2                  -1  1      6640  ultralytics.nn.modules.block.C3k2            [32, 64, 1, False, 0.25]      \n",
            "  3                  -1  1     36992  ultralytics.nn.modules.conv.Conv             [64, 64, 3, 2]                \n",
            "  4                  -1  1     26080  ultralytics.nn.modules.block.C3k2            [64, 128, 1, False, 0.25]     \n",
            "  5                  -1  1    147712  ultralytics.nn.modules.conv.Conv             [128, 128, 3, 2]              \n",
            "  6                  -1  1     87040  ultralytics.nn.modules.block.C3k2            [128, 128, 1, True]           \n",
            "  7                  -1  1    295424  ultralytics.nn.modules.conv.Conv             [128, 256, 3, 2]              \n",
            "  8                  -1  1    346112  ultralytics.nn.modules.block.C3k2            [256, 256, 1, True]           \n",
            "  9                  -1  1    164608  ultralytics.nn.modules.block.SPPF            [256, 256, 5]                 \n",
            " 10                  -1  1    249728  ultralytics.nn.modules.block.C2PSA           [256, 256, 1]                 \n",
            " 11                  -1  1         0  torch.nn.modules.upsampling.Upsample         [None, 2, 'nearest']          \n",
            " 12             [-1, 6]  1         0  ultralytics.nn.modules.conv.Concat           [1]                           \n",
            " 13                  -1  1    111296  ultralytics.nn.modules.block.C3k2            [384, 128, 1, False]          \n",
            " 14                  -1  1         0  torch.nn.modules.upsampling.Upsample         [None, 2, 'nearest']          \n",
            " 15             [-1, 4]  1         0  ultralytics.nn.modules.conv.Concat           [1]                           \n",
            " 16                  -1  1     32096  ultralytics.nn.modules.block.C3k2            [256, 64, 1, False]           \n",
            " 17                  -1  1     36992  ultralytics.nn.modules.conv.Conv             [64, 64, 3, 2]                \n",
            " 18            [-1, 13]  1         0  ultralytics.nn.modules.conv.Concat           [1]                           \n",
            " 19                  -1  1     86720  ultralytics.nn.modules.block.C3k2            [192, 128, 1, False]          \n",
            " 20                  -1  1    147712  ultralytics.nn.modules.conv.Conv             [128, 128, 3, 2]              \n",
            " 21            [-1, 10]  1         0  ultralytics.nn.modules.conv.Concat           [1]                           \n",
            " 22                  -1  1    378880  ultralytics.nn.modules.block.C3k2            [384, 256, 1, True]           \n",
            " 23        [16, 19, 22]  1    715294  ultralytics.nn.modules.head.Pose             [1, [17, 3], [64, 128, 256]]  \n",
            "YOLO11n-pose summary: 196 layers, 2,874,462 parameters, 2,874,446 gradients, 7.5 GFLOPs\n",
            "\n",
            "Transferred 541/541 items from pretrained weights\n",
            "Freezing layer 'model.23.dfl.conv.weight'\n",
            "\u001b[34m\u001b[1mAMP: \u001b[0mrunning Automatic Mixed Precision (AMP) checks...\n",
            "\u001b[34m\u001b[1mAMP: \u001b[0mchecks passed ✅\n",
            "\u001b[34m\u001b[1mtrain: \u001b[0mFast image access ✅ (ping: 0.0±0.0 ms, read: 947.7±258.3 MB/s, size: 39.1 KB)\n"
          ]
        },
        {
          "output_type": "stream",
          "name": "stderr",
          "text": [
            "\u001b[34m\u001b[1mtrain: \u001b[0mScanning /content/datasets/coco8-pose/labels/train.cache... 4 images, 0 backgrounds, 0 corrupt: 100%|██████████| 4/4 [00:00<?, ?it/s]"
          ]
        },
        {
          "output_type": "stream",
          "name": "stdout",
          "text": [
            "\u001b[34m\u001b[1malbumentations: \u001b[0mBlur(p=0.01, blur_limit=(3, 7)), MedianBlur(p=0.01, blur_limit=(3, 7)), ToGray(p=0.01, method='weighted_average', num_output_channels=3), CLAHE(p=0.01, clip_limit=(1.0, 4.0), tile_grid_size=(8, 8))\n"
          ]
        },
        {
          "output_type": "stream",
          "name": "stderr",
          "text": [
            "\n"
          ]
        },
        {
          "output_type": "stream",
          "name": "stdout",
          "text": [
            "\u001b[34m\u001b[1mval: \u001b[0mFast image access ✅ (ping: 0.0±0.0 ms, read: 414.8±292.9 MB/s, size: 39.1 KB)\n"
          ]
        },
        {
          "output_type": "stream",
          "name": "stderr",
          "text": [
            "\u001b[34m\u001b[1mval: \u001b[0mScanning /content/datasets/coco8-pose/labels/val.cache... 4 images, 0 backgrounds, 0 corrupt: 100%|██████████| 4/4 [00:00<?, ?it/s]\n"
          ]
        },
        {
          "output_type": "stream",
          "name": "stdout",
          "text": [
            "Plotting labels to runs/pose/train2/labels.jpg... \n",
            "\u001b[34m\u001b[1moptimizer:\u001b[0m 'optimizer=auto' found, ignoring 'lr0=0.01' and 'momentum=0.937' and determining best 'optimizer', 'lr0' and 'momentum' automatically... \n",
            "\u001b[34m\u001b[1moptimizer:\u001b[0m AdamW(lr=0.002, momentum=0.9) with parameter groups 87 weight(decay=0.0), 97 weight(decay=0.0005), 96 bias(decay=0.0)\n",
            "Image sizes 640 train, 640 val\n",
            "Using 2 dataloader workers\n",
            "Logging results to \u001b[1mruns/pose/train2\u001b[0m\n",
            "Starting training for 100 epochs...\n",
            "\n",
            "      Epoch    GPU_mem   box_loss  pose_loss  kobj_loss   cls_loss   dfl_loss  Instances       Size\n"
          ]
        },
        {
          "output_type": "stream",
          "name": "stderr",
          "text": [
            "      1/100     0.689G      1.085      2.991     0.3733     0.5702      1.275         17        640: 100%|██████████| 1/1 [00:00<00:00,  5.11it/s]\n",
            "                 Class     Images  Instances      Box(P          R      mAP50  mAP50-95)     Pose(P          R      mAP50  mAP50-95): 100%|██████████| 1/1 [00:00<00:00,  5.82it/s]"
          ]
        },
        {
          "output_type": "stream",
          "name": "stdout",
          "text": [
            "                   all          4         14      0.802       0.87      0.907      0.712      0.984      0.643      0.716      0.351\n"
          ]
        },
        {
          "output_type": "stream",
          "name": "stderr",
          "text": [
            "\n"
          ]
        },
        {
          "output_type": "stream",
          "name": "stdout",
          "text": [
            "\n",
            "      Epoch    GPU_mem   box_loss  pose_loss  kobj_loss   cls_loss   dfl_loss  Instances       Size\n"
          ]
        },
        {
          "output_type": "stream",
          "name": "stderr",
          "text": [
            "      2/100     0.691G      1.426      3.878     0.3531      1.172      1.394         19        640: 100%|██████████| 1/1 [00:00<00:00,  5.85it/s]\n",
            "                 Class     Images  Instances      Box(P          R      mAP50  mAP50-95)     Pose(P          R      mAP50  mAP50-95): 100%|██████████| 1/1 [00:00<00:00,  5.99it/s]"
          ]
        },
        {
          "output_type": "stream",
          "name": "stdout",
          "text": [
            "                   all          4         14      0.803      0.876      0.907      0.706      0.983      0.643      0.716      0.366\n"
          ]
        },
        {
          "output_type": "stream",
          "name": "stderr",
          "text": [
            "\n"
          ]
        },
        {
          "output_type": "stream",
          "name": "stdout",
          "text": [
            "\n",
            "      Epoch    GPU_mem   box_loss  pose_loss  kobj_loss   cls_loss   dfl_loss  Instances       Size\n"
          ]
        },
        {
          "output_type": "stream",
          "name": "stderr",
          "text": [
            "      3/100     0.691G      1.242      3.463     0.4469     0.8997      1.422         11        640: 100%|██████████| 1/1 [00:00<00:00,  6.09it/s]\n",
            "                 Class     Images  Instances      Box(P          R      mAP50  mAP50-95)     Pose(P          R      mAP50  mAP50-95): 100%|██████████| 1/1 [00:00<00:00,  7.49it/s]"
          ]
        },
        {
          "output_type": "stream",
          "name": "stdout",
          "text": [
            "                   all          4         14      0.803      0.876      0.907      0.707      0.984      0.643      0.716      0.359\n"
          ]
        },
        {
          "output_type": "stream",
          "name": "stderr",
          "text": [
            "\n"
          ]
        },
        {
          "output_type": "stream",
          "name": "stdout",
          "text": [
            "\n",
            "      Epoch    GPU_mem   box_loss  pose_loss  kobj_loss   cls_loss   dfl_loss  Instances       Size\n"
          ]
        },
        {
          "output_type": "stream",
          "name": "stderr",
          "text": [
            "      4/100     0.691G      1.025      4.811     0.4102      1.138      1.281         15        640: 100%|██████████| 1/1 [00:00<00:00,  6.77it/s]\n",
            "                 Class     Images  Instances      Box(P          R      mAP50  mAP50-95)     Pose(P          R      mAP50  mAP50-95): 100%|██████████| 1/1 [00:00<00:00, 16.17it/s]"
          ]
        },
        {
          "output_type": "stream",
          "name": "stdout",
          "text": [
            "                   all          4         14      0.803      0.877      0.913      0.707          1      0.699      0.722      0.371\n"
          ]
        },
        {
          "output_type": "stream",
          "name": "stderr",
          "text": [
            "\n"
          ]
        },
        {
          "output_type": "stream",
          "name": "stdout",
          "text": [
            "\n",
            "      Epoch    GPU_mem   box_loss  pose_loss  kobj_loss   cls_loss   dfl_loss  Instances       Size\n"
          ]
        },
        {
          "output_type": "stream",
          "name": "stderr",
          "text": [
            "      5/100     0.691G        1.2       2.86     0.3386      1.126      1.453          8        640: 100%|██████████| 1/1 [00:00<00:00,  6.95it/s]\n",
            "                 Class     Images  Instances      Box(P          R      mAP50  mAP50-95)     Pose(P          R      mAP50  mAP50-95): 100%|██████████| 1/1 [00:00<00:00, 13.19it/s]"
          ]
        },
        {
          "output_type": "stream",
          "name": "stdout",
          "text": [
            "                   all          4         14      0.852      0.929      0.928      0.705          1        0.7      0.722      0.371\n"
          ]
        },
        {
          "output_type": "stream",
          "name": "stderr",
          "text": [
            "\n"
          ]
        },
        {
          "output_type": "stream",
          "name": "stdout",
          "text": [
            "\n",
            "      Epoch    GPU_mem   box_loss  pose_loss  kobj_loss   cls_loss   dfl_loss  Instances       Size\n"
          ]
        },
        {
          "output_type": "stream",
          "name": "stderr",
          "text": [
            "      6/100     0.691G     0.9295       1.86     0.2748     0.5717      1.164         10        640: 100%|██████████| 1/1 [00:00<00:00,  4.18it/s]\n",
            "                 Class     Images  Instances      Box(P          R      mAP50  mAP50-95)     Pose(P          R      mAP50  mAP50-95): 100%|██████████| 1/1 [00:00<00:00, 11.48it/s]"
          ]
        },
        {
          "output_type": "stream",
          "name": "stdout",
          "text": [
            "                   all          4         14      0.817      0.857      0.904      0.717      0.982      0.643      0.809      0.368\n"
          ]
        },
        {
          "output_type": "stream",
          "name": "stderr",
          "text": [
            "\n"
          ]
        },
        {
          "output_type": "stream",
          "name": "stdout",
          "text": [
            "\n",
            "      Epoch    GPU_mem   box_loss  pose_loss  kobj_loss   cls_loss   dfl_loss  Instances       Size\n"
          ]
        },
        {
          "output_type": "stream",
          "name": "stderr",
          "text": [
            "      7/100     0.691G       1.44      2.587     0.2423     0.8999      1.502         10        640: 100%|██████████| 1/1 [00:00<00:00,  4.87it/s]\n",
            "                 Class     Images  Instances      Box(P          R      mAP50  mAP50-95)     Pose(P          R      mAP50  mAP50-95): 100%|██████████| 1/1 [00:00<00:00, 10.53it/s]"
          ]
        },
        {
          "output_type": "stream",
          "name": "stdout",
          "text": [
            "                   all          4         14      0.913      0.755      0.895      0.668      0.989      0.643      0.754      0.327\n"
          ]
        },
        {
          "output_type": "stream",
          "name": "stderr",
          "text": [
            "\n"
          ]
        },
        {
          "output_type": "stream",
          "name": "stdout",
          "text": [
            "\n",
            "      Epoch    GPU_mem   box_loss  pose_loss  kobj_loss   cls_loss   dfl_loss  Instances       Size\n"
          ]
        },
        {
          "output_type": "stream",
          "name": "stderr",
          "text": [
            "      8/100     0.703G      1.129      3.269     0.3588     0.7518      1.177         18        640: 100%|██████████| 1/1 [00:00<00:00,  4.69it/s]\n",
            "                 Class     Images  Instances      Box(P          R      mAP50  mAP50-95)     Pose(P          R      mAP50  mAP50-95): 100%|██████████| 1/1 [00:00<00:00,  8.53it/s]"
          ]
        },
        {
          "output_type": "stream",
          "name": "stdout",
          "text": [
            "                   all          4         14      0.914      0.786      0.907      0.638      0.743      0.643      0.692      0.263\n"
          ]
        },
        {
          "output_type": "stream",
          "name": "stderr",
          "text": [
            "\n"
          ]
        },
        {
          "output_type": "stream",
          "name": "stdout",
          "text": [
            "\n",
            "      Epoch    GPU_mem   box_loss  pose_loss  kobj_loss   cls_loss   dfl_loss  Instances       Size\n"
          ]
        },
        {
          "output_type": "stream",
          "name": "stderr",
          "text": [
            "      9/100     0.721G      1.047      3.632     0.3703      1.141      1.258         18        640: 100%|██████████| 1/1 [00:00<00:00,  4.11it/s]\n",
            "                 Class     Images  Instances      Box(P          R      mAP50  mAP50-95)     Pose(P          R      mAP50  mAP50-95): 100%|██████████| 1/1 [00:00<00:00,  9.59it/s]"
          ]
        },
        {
          "output_type": "stream",
          "name": "stdout",
          "text": [
            "                   all          4         14      0.934      0.786      0.908      0.608      0.676      0.571      0.565      0.205\n"
          ]
        },
        {
          "output_type": "stream",
          "name": "stderr",
          "text": [
            "\n"
          ]
        },
        {
          "output_type": "stream",
          "name": "stdout",
          "text": [
            "\n",
            "      Epoch    GPU_mem   box_loss  pose_loss  kobj_loss   cls_loss   dfl_loss  Instances       Size\n"
          ]
        },
        {
          "output_type": "stream",
          "name": "stderr",
          "text": [
            "     10/100     0.736G     0.9837      2.998     0.3254     0.6611      1.033         17        640: 100%|██████████| 1/1 [00:00<00:00,  5.17it/s]\n",
            "                 Class     Images  Instances      Box(P          R      mAP50  mAP50-95)     Pose(P          R      mAP50  mAP50-95): 100%|██████████| 1/1 [00:00<00:00, 15.83it/s]"
          ]
        },
        {
          "output_type": "stream",
          "name": "stdout",
          "text": [
            "                   all          4         14       0.96      0.786      0.895      0.567      0.708      0.571      0.565      0.161\n"
          ]
        },
        {
          "output_type": "stream",
          "name": "stderr",
          "text": [
            "\n"
          ]
        },
        {
          "output_type": "stream",
          "name": "stdout",
          "text": [
            "\n",
            "      Epoch    GPU_mem   box_loss  pose_loss  kobj_loss   cls_loss   dfl_loss  Instances       Size\n"
          ]
        },
        {
          "output_type": "stream",
          "name": "stderr",
          "text": [
            "     11/100     0.756G      1.702      4.561     0.4355      1.121      1.608         12        640: 100%|██████████| 1/1 [00:00<00:00,  5.52it/s]\n",
            "                 Class     Images  Instances      Box(P          R      mAP50  mAP50-95)     Pose(P          R      mAP50  mAP50-95): 100%|██████████| 1/1 [00:00<00:00, 16.00it/s]"
          ]
        },
        {
          "output_type": "stream",
          "name": "stdout",
          "text": [
            "                   all          4         14      0.975      0.786      0.848      0.546      0.625        0.5      0.457      0.141\n"
          ]
        },
        {
          "output_type": "stream",
          "name": "stderr",
          "text": [
            "\n"
          ]
        },
        {
          "output_type": "stream",
          "name": "stdout",
          "text": [
            "\n",
            "      Epoch    GPU_mem   box_loss  pose_loss  kobj_loss   cls_loss   dfl_loss  Instances       Size\n"
          ]
        },
        {
          "output_type": "stream",
          "name": "stderr",
          "text": [
            "     12/100     0.775G     0.9407      3.494     0.4293     0.6643      1.142         17        640: 100%|██████████| 1/1 [00:00<00:00,  6.29it/s]\n",
            "                 Class     Images  Instances      Box(P          R      mAP50  mAP50-95)     Pose(P          R      mAP50  mAP50-95): 100%|██████████| 1/1 [00:00<00:00, 15.33it/s]"
          ]
        },
        {
          "output_type": "stream",
          "name": "stdout",
          "text": [
            "                   all          4         14      0.978      0.786      0.842      0.541      0.634        0.5       0.48      0.157\n"
          ]
        },
        {
          "output_type": "stream",
          "name": "stderr",
          "text": [
            "\n"
          ]
        },
        {
          "output_type": "stream",
          "name": "stdout",
          "text": [
            "\n",
            "      Epoch    GPU_mem   box_loss  pose_loss  kobj_loss   cls_loss   dfl_loss  Instances       Size\n"
          ]
        },
        {
          "output_type": "stream",
          "name": "stderr",
          "text": [
            "     13/100     0.789G      1.163      3.873     0.3298     0.7624      1.262         13        640: 100%|██████████| 1/1 [00:00<00:00,  3.39it/s]\n",
            "                 Class     Images  Instances      Box(P          R      mAP50  mAP50-95)     Pose(P          R      mAP50  mAP50-95): 100%|██████████| 1/1 [00:00<00:00,  8.77it/s]"
          ]
        },
        {
          "output_type": "stream",
          "name": "stdout",
          "text": [
            "                   all          4         14      0.979      0.786      0.842      0.534      0.634        0.5      0.479      0.139\n"
          ]
        },
        {
          "output_type": "stream",
          "name": "stderr",
          "text": [
            "\n"
          ]
        },
        {
          "output_type": "stream",
          "name": "stdout",
          "text": [
            "\n",
            "      Epoch    GPU_mem   box_loss  pose_loss  kobj_loss   cls_loss   dfl_loss  Instances       Size\n"
          ]
        },
        {
          "output_type": "stream",
          "name": "stderr",
          "text": [
            "     14/100     0.809G     0.7834      2.929      0.279     0.5392      1.013         18        640: 100%|██████████| 1/1 [00:00<00:00,  6.20it/s]\n",
            "                 Class     Images  Instances      Box(P          R      mAP50  mAP50-95)     Pose(P          R      mAP50  mAP50-95): 100%|██████████| 1/1 [00:00<00:00, 14.76it/s]"
          ]
        },
        {
          "output_type": "stream",
          "name": "stdout",
          "text": [
            "                   all          4         14      0.983      0.786      0.838      0.541      0.661        0.5      0.473      0.136\n"
          ]
        },
        {
          "output_type": "stream",
          "name": "stderr",
          "text": [
            "\n"
          ]
        },
        {
          "output_type": "stream",
          "name": "stdout",
          "text": [
            "\n",
            "      Epoch    GPU_mem   box_loss  pose_loss  kobj_loss   cls_loss   dfl_loss  Instances       Size\n"
          ]
        },
        {
          "output_type": "stream",
          "name": "stderr",
          "text": [
            "     15/100     0.809G      1.047      2.882     0.2953     0.8034      1.237         15        640: 100%|██████████| 1/1 [00:00<00:00,  1.49it/s]\n",
            "                 Class     Images  Instances      Box(P          R      mAP50  mAP50-95)     Pose(P          R      mAP50  mAP50-95): 100%|██████████| 1/1 [00:00<00:00,  4.29it/s]"
          ]
        },
        {
          "output_type": "stream",
          "name": "stdout",
          "text": [
            "                   all          4         14          1      0.762      0.834        0.5      0.526      0.357       0.35     0.0865\n"
          ]
        },
        {
          "output_type": "stream",
          "name": "stderr",
          "text": [
            "\n"
          ]
        },
        {
          "output_type": "stream",
          "name": "stdout",
          "text": [
            "\n",
            "      Epoch    GPU_mem   box_loss  pose_loss  kobj_loss   cls_loss   dfl_loss  Instances       Size\n"
          ]
        },
        {
          "output_type": "stream",
          "name": "stderr",
          "text": [
            "     16/100     0.809G      1.013      3.539     0.3008     0.7781       1.19         14        640: 100%|██████████| 1/1 [00:00<00:00,  3.20it/s]\n",
            "                 Class     Images  Instances      Box(P          R      mAP50  mAP50-95)     Pose(P          R      mAP50  mAP50-95): 100%|██████████| 1/1 [00:00<00:00,  5.91it/s]"
          ]
        },
        {
          "output_type": "stream",
          "name": "stdout",
          "text": [
            "                   all          4         14      0.913      0.748      0.816       0.48      0.417      0.286      0.194     0.0502\n"
          ]
        },
        {
          "output_type": "stream",
          "name": "stderr",
          "text": [
            "\n"
          ]
        },
        {
          "output_type": "stream",
          "name": "stdout",
          "text": [
            "\n",
            "      Epoch    GPU_mem   box_loss  pose_loss  kobj_loss   cls_loss   dfl_loss  Instances       Size\n"
          ]
        },
        {
          "output_type": "stream",
          "name": "stderr",
          "text": [
            "     17/100     0.809G      1.126       3.28     0.3505      0.743       1.15         16        640: 100%|██████████| 1/1 [00:00<00:00,  4.08it/s]\n",
            "                 Class     Images  Instances      Box(P          R      mAP50  mAP50-95)     Pose(P          R      mAP50  mAP50-95): 100%|██████████| 1/1 [00:00<00:00, 13.87it/s]"
          ]
        },
        {
          "output_type": "stream",
          "name": "stdout",
          "text": [
            "                   all          4         14      0.886      0.786      0.811      0.485      0.606      0.357      0.337     0.0579\n"
          ]
        },
        {
          "output_type": "stream",
          "name": "stderr",
          "text": [
            "\n"
          ]
        },
        {
          "output_type": "stream",
          "name": "stdout",
          "text": [
            "\n",
            "      Epoch    GPU_mem   box_loss  pose_loss  kobj_loss   cls_loss   dfl_loss  Instances       Size\n"
          ]
        },
        {
          "output_type": "stream",
          "name": "stderr",
          "text": [
            "     18/100     0.809G      0.872      2.237     0.3332     0.5386      1.029         14        640: 100%|██████████| 1/1 [00:00<00:00,  4.11it/s]\n",
            "                 Class     Images  Instances      Box(P          R      mAP50  mAP50-95)     Pose(P          R      mAP50  mAP50-95): 100%|██████████| 1/1 [00:00<00:00,  6.56it/s]"
          ]
        },
        {
          "output_type": "stream",
          "name": "stdout",
          "text": [
            "                   all          4         14      0.886      0.786      0.811      0.485      0.606      0.357      0.337     0.0579\n"
          ]
        },
        {
          "output_type": "stream",
          "name": "stderr",
          "text": [
            "\n"
          ]
        },
        {
          "output_type": "stream",
          "name": "stdout",
          "text": [
            "\n",
            "      Epoch    GPU_mem   box_loss  pose_loss  kobj_loss   cls_loss   dfl_loss  Instances       Size\n"
          ]
        },
        {
          "output_type": "stream",
          "name": "stderr",
          "text": [
            "     19/100     0.809G      1.265      3.193     0.3492     0.9318      1.234         15        640: 100%|██████████| 1/1 [00:00<00:00,  4.53it/s]\n",
            "                 Class     Images  Instances      Box(P          R      mAP50  mAP50-95)     Pose(P          R      mAP50  mAP50-95): 100%|██████████| 1/1 [00:00<00:00, 14.45it/s]"
          ]
        },
        {
          "output_type": "stream",
          "name": "stdout",
          "text": [
            "                   all          4         14      0.909      0.786      0.853      0.498      0.591      0.357      0.362     0.0563\n"
          ]
        },
        {
          "output_type": "stream",
          "name": "stderr",
          "text": [
            "\n"
          ]
        },
        {
          "output_type": "stream",
          "name": "stdout",
          "text": [
            "\n",
            "      Epoch    GPU_mem   box_loss  pose_loss  kobj_loss   cls_loss   dfl_loss  Instances       Size\n"
          ]
        },
        {
          "output_type": "stream",
          "name": "stderr",
          "text": [
            "     20/100     0.809G     0.8857      2.056     0.3319     0.5972      1.047         13        640: 100%|██████████| 1/1 [00:00<00:00,  7.80it/s]\n",
            "                 Class     Images  Instances      Box(P          R      mAP50  mAP50-95)     Pose(P          R      mAP50  mAP50-95): 100%|██████████| 1/1 [00:00<00:00, 15.45it/s]"
          ]
        },
        {
          "output_type": "stream",
          "name": "stdout",
          "text": [
            "                   all          4         14      0.909      0.786      0.853      0.498      0.591      0.357      0.362     0.0563\n"
          ]
        },
        {
          "output_type": "stream",
          "name": "stderr",
          "text": [
            "\n"
          ]
        },
        {
          "output_type": "stream",
          "name": "stdout",
          "text": [
            "\n",
            "      Epoch    GPU_mem   box_loss  pose_loss  kobj_loss   cls_loss   dfl_loss  Instances       Size\n"
          ]
        },
        {
          "output_type": "stream",
          "name": "stderr",
          "text": [
            "     21/100     0.809G      1.203      2.724     0.3764     0.9588      1.205         18        640: 100%|██████████| 1/1 [00:00<00:00,  6.22it/s]\n",
            "                 Class     Images  Instances      Box(P          R      mAP50  mAP50-95)     Pose(P          R      mAP50  mAP50-95): 100%|██████████| 1/1 [00:00<00:00, 16.23it/s]"
          ]
        },
        {
          "output_type": "stream",
          "name": "stdout",
          "text": [
            "                   all          4         14      0.905      0.714       0.79      0.464      0.652      0.357      0.358     0.0774\n"
          ]
        },
        {
          "output_type": "stream",
          "name": "stderr",
          "text": [
            "\n"
          ]
        },
        {
          "output_type": "stream",
          "name": "stdout",
          "text": [
            "\n",
            "      Epoch    GPU_mem   box_loss  pose_loss  kobj_loss   cls_loss   dfl_loss  Instances       Size\n"
          ]
        },
        {
          "output_type": "stream",
          "name": "stderr",
          "text": [
            "     22/100     0.809G       1.17      3.244     0.4509      0.778      1.186         17        640: 100%|██████████| 1/1 [00:00<00:00,  4.77it/s]\n",
            "                 Class     Images  Instances      Box(P          R      mAP50  mAP50-95)     Pose(P          R      mAP50  mAP50-95): 100%|██████████| 1/1 [00:00<00:00, 10.65it/s]"
          ]
        },
        {
          "output_type": "stream",
          "name": "stdout",
          "text": [
            "                   all          4         14      0.905      0.714       0.79      0.464      0.652      0.357      0.358     0.0774\n"
          ]
        },
        {
          "output_type": "stream",
          "name": "stderr",
          "text": [
            "\n"
          ]
        },
        {
          "output_type": "stream",
          "name": "stdout",
          "text": [
            "\n",
            "      Epoch    GPU_mem   box_loss  pose_loss  kobj_loss   cls_loss   dfl_loss  Instances       Size\n"
          ]
        },
        {
          "output_type": "stream",
          "name": "stderr",
          "text": [
            "     23/100     0.809G      1.245      2.639     0.3759     0.7208      1.247         13        640: 100%|██████████| 1/1 [00:00<00:00,  2.44it/s]\n",
            "                 Class     Images  Instances      Box(P          R      mAP50  mAP50-95)     Pose(P          R      mAP50  mAP50-95): 100%|██████████| 1/1 [00:00<00:00,  5.50it/s]"
          ]
        },
        {
          "output_type": "stream",
          "name": "stdout",
          "text": [
            "                   all          4         14      0.861      0.643      0.768      0.459      0.488      0.571      0.475      0.134\n"
          ]
        },
        {
          "output_type": "stream",
          "name": "stderr",
          "text": [
            "\n"
          ]
        },
        {
          "output_type": "stream",
          "name": "stdout",
          "text": [
            "\n",
            "      Epoch    GPU_mem   box_loss  pose_loss  kobj_loss   cls_loss   dfl_loss  Instances       Size\n"
          ]
        },
        {
          "output_type": "stream",
          "name": "stderr",
          "text": [
            "     24/100     0.809G     0.9696        1.9     0.2497      0.667      1.168         14        640: 100%|██████████| 1/1 [00:00<00:00,  2.92it/s]\n",
            "                 Class     Images  Instances      Box(P          R      mAP50  mAP50-95)     Pose(P          R      mAP50  mAP50-95): 100%|██████████| 1/1 [00:00<00:00,  5.69it/s]"
          ]
        },
        {
          "output_type": "stream",
          "name": "stdout",
          "text": [
            "                   all          4         14      0.861      0.643      0.768      0.459      0.488      0.571      0.475      0.134\n"
          ]
        },
        {
          "output_type": "stream",
          "name": "stderr",
          "text": [
            "\n"
          ]
        },
        {
          "output_type": "stream",
          "name": "stdout",
          "text": [
            "\n",
            "      Epoch    GPU_mem   box_loss  pose_loss  kobj_loss   cls_loss   dfl_loss  Instances       Size\n"
          ]
        },
        {
          "output_type": "stream",
          "name": "stderr",
          "text": [
            "     25/100     0.809G     0.9691      2.774     0.4115     0.7234      1.135         14        640: 100%|██████████| 1/1 [00:00<00:00,  4.82it/s]\n",
            "                 Class     Images  Instances      Box(P          R      mAP50  mAP50-95)     Pose(P          R      mAP50  mAP50-95): 100%|██████████| 1/1 [00:00<00:00, 15.71it/s]"
          ]
        },
        {
          "output_type": "stream",
          "name": "stdout",
          "text": [
            "                   all          4         14      0.646      0.782      0.689      0.398      0.462        0.5      0.366        0.1\n"
          ]
        },
        {
          "output_type": "stream",
          "name": "stderr",
          "text": [
            "\n"
          ]
        },
        {
          "output_type": "stream",
          "name": "stdout",
          "text": [
            "\n",
            "      Epoch    GPU_mem   box_loss  pose_loss  kobj_loss   cls_loss   dfl_loss  Instances       Size\n"
          ]
        },
        {
          "output_type": "stream",
          "name": "stderr",
          "text": [
            "     26/100     0.809G     0.8539      1.818     0.2386     0.6012      1.028         10        640: 100%|██████████| 1/1 [00:00<00:00,  7.63it/s]\n",
            "                 Class     Images  Instances      Box(P          R      mAP50  mAP50-95)     Pose(P          R      mAP50  mAP50-95): 100%|██████████| 1/1 [00:00<00:00, 15.64it/s]"
          ]
        },
        {
          "output_type": "stream",
          "name": "stdout",
          "text": [
            "                   all          4         14      0.646      0.782      0.689      0.398      0.462        0.5      0.366        0.1\n"
          ]
        },
        {
          "output_type": "stream",
          "name": "stderr",
          "text": [
            "\n"
          ]
        },
        {
          "output_type": "stream",
          "name": "stdout",
          "text": [
            "\n",
            "      Epoch    GPU_mem   box_loss  pose_loss  kobj_loss   cls_loss   dfl_loss  Instances       Size\n"
          ]
        },
        {
          "output_type": "stream",
          "name": "stderr",
          "text": [
            "     27/100     0.809G     0.8578      2.346      0.298     0.5486      1.093         14        640: 100%|██████████| 1/1 [00:00<00:00,  6.27it/s]\n",
            "                 Class     Images  Instances      Box(P          R      mAP50  mAP50-95)     Pose(P          R      mAP50  mAP50-95): 100%|██████████| 1/1 [00:00<00:00, 15.72it/s]"
          ]
        },
        {
          "output_type": "stream",
          "name": "stdout",
          "text": [
            "                   all          4         14      0.574      0.769      0.631      0.358      0.376        0.5      0.319     0.0899\n"
          ]
        },
        {
          "output_type": "stream",
          "name": "stderr",
          "text": [
            "\n"
          ]
        },
        {
          "output_type": "stream",
          "name": "stdout",
          "text": [
            "\n",
            "      Epoch    GPU_mem   box_loss  pose_loss  kobj_loss   cls_loss   dfl_loss  Instances       Size\n"
          ]
        },
        {
          "output_type": "stream",
          "name": "stderr",
          "text": [
            "     28/100     0.809G      1.232      3.211     0.3471     0.9044      1.357         16        640: 100%|██████████| 1/1 [00:00<00:00,  7.87it/s]\n",
            "                 Class     Images  Instances      Box(P          R      mAP50  mAP50-95)     Pose(P          R      mAP50  mAP50-95): 100%|██████████| 1/1 [00:00<00:00, 16.01it/s]"
          ]
        },
        {
          "output_type": "stream",
          "name": "stdout",
          "text": [
            "                   all          4         14      0.574      0.769      0.631      0.358      0.376        0.5      0.319     0.0899\n"
          ]
        },
        {
          "output_type": "stream",
          "name": "stderr",
          "text": [
            "\n"
          ]
        },
        {
          "output_type": "stream",
          "name": "stdout",
          "text": [
            "\n",
            "      Epoch    GPU_mem   box_loss  pose_loss  kobj_loss   cls_loss   dfl_loss  Instances       Size\n"
          ]
        },
        {
          "output_type": "stream",
          "name": "stderr",
          "text": [
            "     29/100     0.809G     0.9881      2.588     0.3079     0.7201      1.158         18        640: 100%|██████████| 1/1 [00:00<00:00,  5.72it/s]\n",
            "                 Class     Images  Instances      Box(P          R      mAP50  mAP50-95)     Pose(P          R      mAP50  mAP50-95): 100%|██████████| 1/1 [00:00<00:00, 15.28it/s]"
          ]
        },
        {
          "output_type": "stream",
          "name": "stdout",
          "text": [
            "                   all          4         14      0.563      0.738      0.599      0.328      0.333      0.429       0.22     0.0555\n"
          ]
        },
        {
          "output_type": "stream",
          "name": "stderr",
          "text": [
            "\n"
          ]
        },
        {
          "output_type": "stream",
          "name": "stdout",
          "text": [
            "\n",
            "      Epoch    GPU_mem   box_loss  pose_loss  kobj_loss   cls_loss   dfl_loss  Instances       Size\n"
          ]
        },
        {
          "output_type": "stream",
          "name": "stderr",
          "text": [
            "     30/100     0.809G     0.8989       2.57     0.2576     0.6297      1.095          9        640: 100%|██████████| 1/1 [00:00<00:00,  7.69it/s]\n",
            "                 Class     Images  Instances      Box(P          R      mAP50  mAP50-95)     Pose(P          R      mAP50  mAP50-95): 100%|██████████| 1/1 [00:00<00:00, 15.37it/s]"
          ]
        },
        {
          "output_type": "stream",
          "name": "stdout",
          "text": [
            "                   all          4         14      0.563      0.738      0.599      0.328      0.333      0.429       0.22     0.0555\n"
          ]
        },
        {
          "output_type": "stream",
          "name": "stderr",
          "text": [
            "\n"
          ]
        },
        {
          "output_type": "stream",
          "name": "stdout",
          "text": [
            "\n",
            "      Epoch    GPU_mem   box_loss  pose_loss  kobj_loss   cls_loss   dfl_loss  Instances       Size\n"
          ]
        },
        {
          "output_type": "stream",
          "name": "stderr",
          "text": [
            "     31/100     0.809G      1.491      3.835     0.3857      1.135      1.358         14        640: 100%|██████████| 1/1 [00:00<00:00,  6.31it/s]\n",
            "                 Class     Images  Instances      Box(P          R      mAP50  mAP50-95)     Pose(P          R      mAP50  mAP50-95): 100%|██████████| 1/1 [00:00<00:00, 15.22it/s]"
          ]
        },
        {
          "output_type": "stream",
          "name": "stdout",
          "text": [
            "                   all          4         14      0.502      0.647      0.573      0.327      0.312      0.357      0.188     0.0565\n"
          ]
        },
        {
          "output_type": "stream",
          "name": "stderr",
          "text": [
            "\n"
          ]
        },
        {
          "output_type": "stream",
          "name": "stdout",
          "text": [
            "\n",
            "      Epoch    GPU_mem   box_loss  pose_loss  kobj_loss   cls_loss   dfl_loss  Instances       Size\n"
          ]
        },
        {
          "output_type": "stream",
          "name": "stderr",
          "text": [
            "     32/100     0.809G     0.8148      2.843     0.3175     0.6862      1.088         14        640: 100%|██████████| 1/1 [00:00<00:00,  7.57it/s]\n",
            "                 Class     Images  Instances      Box(P          R      mAP50  mAP50-95)     Pose(P          R      mAP50  mAP50-95): 100%|██████████| 1/1 [00:00<00:00, 15.24it/s]"
          ]
        },
        {
          "output_type": "stream",
          "name": "stdout",
          "text": [
            "                   all          4         14      0.502      0.647      0.573      0.327      0.312      0.357      0.188     0.0565\n"
          ]
        },
        {
          "output_type": "stream",
          "name": "stderr",
          "text": [
            "\n"
          ]
        },
        {
          "output_type": "stream",
          "name": "stdout",
          "text": [
            "\n",
            "      Epoch    GPU_mem   box_loss  pose_loss  kobj_loss   cls_loss   dfl_loss  Instances       Size\n"
          ]
        },
        {
          "output_type": "stream",
          "name": "stderr",
          "text": [
            "     33/100     0.809G     0.8906      2.688     0.3182     0.7194      1.062         17        640: 100%|██████████| 1/1 [00:00<00:00,  6.38it/s]\n",
            "                 Class     Images  Instances      Box(P          R      mAP50  mAP50-95)     Pose(P          R      mAP50  mAP50-95): 100%|██████████| 1/1 [00:00<00:00, 15.51it/s]"
          ]
        },
        {
          "output_type": "stream",
          "name": "stdout",
          "text": [
            "                   all          4         14      0.537      0.643      0.579      0.323      0.239      0.286       0.12     0.0452\n"
          ]
        },
        {
          "output_type": "stream",
          "name": "stderr",
          "text": [
            "\n"
          ]
        },
        {
          "output_type": "stream",
          "name": "stdout",
          "text": [
            "\n",
            "      Epoch    GPU_mem   box_loss  pose_loss  kobj_loss   cls_loss   dfl_loss  Instances       Size\n"
          ]
        },
        {
          "output_type": "stream",
          "name": "stderr",
          "text": [
            "     34/100     0.809G     0.8375      2.363     0.3493     0.5485     0.9997         15        640: 100%|██████████| 1/1 [00:00<00:00,  7.60it/s]\n",
            "                 Class     Images  Instances      Box(P          R      mAP50  mAP50-95)     Pose(P          R      mAP50  mAP50-95): 100%|██████████| 1/1 [00:00<00:00,  7.91it/s]"
          ]
        },
        {
          "output_type": "stream",
          "name": "stdout",
          "text": [
            "                   all          4         14      0.537      0.643      0.579      0.323      0.239      0.286       0.12     0.0452\n"
          ]
        },
        {
          "output_type": "stream",
          "name": "stderr",
          "text": [
            "\n"
          ]
        },
        {
          "output_type": "stream",
          "name": "stdout",
          "text": [
            "\n",
            "      Epoch    GPU_mem   box_loss  pose_loss  kobj_loss   cls_loss   dfl_loss  Instances       Size\n"
          ]
        },
        {
          "output_type": "stream",
          "name": "stderr",
          "text": [
            "     35/100     0.809G     0.8432        2.7     0.3842     0.5886      1.048         17        640: 100%|██████████| 1/1 [00:00<00:00,  6.39it/s]\n",
            "                 Class     Images  Instances      Box(P          R      mAP50  mAP50-95)     Pose(P          R      mAP50  mAP50-95): 100%|██████████| 1/1 [00:00<00:00, 16.02it/s]"
          ]
        },
        {
          "output_type": "stream",
          "name": "stdout",
          "text": [
            "                   all          4         14      0.494      0.714      0.537      0.305      0.295      0.214      0.137     0.0424\n"
          ]
        },
        {
          "output_type": "stream",
          "name": "stderr",
          "text": [
            "\n"
          ]
        },
        {
          "output_type": "stream",
          "name": "stdout",
          "text": [
            "\n",
            "      Epoch    GPU_mem   box_loss  pose_loss  kobj_loss   cls_loss   dfl_loss  Instances       Size\n"
          ]
        },
        {
          "output_type": "stream",
          "name": "stderr",
          "text": [
            "     36/100     0.809G     0.9591      2.255     0.2963     0.6699      1.142         15        640: 100%|██████████| 1/1 [00:00<00:00,  7.72it/s]\n",
            "                 Class     Images  Instances      Box(P          R      mAP50  mAP50-95)     Pose(P          R      mAP50  mAP50-95): 100%|██████████| 1/1 [00:00<00:00, 16.15it/s]"
          ]
        },
        {
          "output_type": "stream",
          "name": "stdout",
          "text": [
            "                   all          4         14      0.494      0.714      0.537      0.305      0.295      0.214      0.137     0.0424\n"
          ]
        },
        {
          "output_type": "stream",
          "name": "stderr",
          "text": [
            "\n"
          ]
        },
        {
          "output_type": "stream",
          "name": "stdout",
          "text": [
            "\n",
            "      Epoch    GPU_mem   box_loss  pose_loss  kobj_loss   cls_loss   dfl_loss  Instances       Size\n"
          ]
        },
        {
          "output_type": "stream",
          "name": "stderr",
          "text": [
            "     37/100     0.809G     0.9756      2.265     0.3383     0.6466      1.169          9        640: 100%|██████████| 1/1 [00:00<00:00,  6.22it/s]\n",
            "                 Class     Images  Instances      Box(P          R      mAP50  mAP50-95)     Pose(P          R      mAP50  mAP50-95): 100%|██████████| 1/1 [00:00<00:00, 15.65it/s]"
          ]
        },
        {
          "output_type": "stream",
          "name": "stdout",
          "text": [
            "                   all          4         14       0.57      0.759      0.638      0.302       0.26      0.143     0.0746     0.0352\n"
          ]
        },
        {
          "output_type": "stream",
          "name": "stderr",
          "text": [
            "\n"
          ]
        },
        {
          "output_type": "stream",
          "name": "stdout",
          "text": [
            "\n",
            "      Epoch    GPU_mem   box_loss  pose_loss  kobj_loss   cls_loss   dfl_loss  Instances       Size\n"
          ]
        },
        {
          "output_type": "stream",
          "name": "stderr",
          "text": [
            "     38/100     0.809G     0.6954      2.169     0.3233     0.4864     0.8897          9        640: 100%|██████████| 1/1 [00:00<00:00,  7.99it/s]\n",
            "                 Class     Images  Instances      Box(P          R      mAP50  mAP50-95)     Pose(P          R      mAP50  mAP50-95): 100%|██████████| 1/1 [00:00<00:00, 14.75it/s]"
          ]
        },
        {
          "output_type": "stream",
          "name": "stdout",
          "text": [
            "                   all          4         14       0.57      0.759      0.638      0.302       0.26      0.143     0.0746     0.0352\n"
          ]
        },
        {
          "output_type": "stream",
          "name": "stderr",
          "text": [
            "\n"
          ]
        },
        {
          "output_type": "stream",
          "name": "stdout",
          "text": [
            "\n",
            "      Epoch    GPU_mem   box_loss  pose_loss  kobj_loss   cls_loss   dfl_loss  Instances       Size\n"
          ]
        },
        {
          "output_type": "stream",
          "name": "stderr",
          "text": [
            "     39/100     0.809G     0.8125       2.07     0.3132     0.5888      1.104         14        640: 100%|██████████| 1/1 [00:00<00:00,  6.32it/s]\n",
            "                 Class     Images  Instances      Box(P          R      mAP50  mAP50-95)     Pose(P          R      mAP50  mAP50-95): 100%|██████████| 1/1 [00:00<00:00, 13.99it/s]"
          ]
        },
        {
          "output_type": "stream",
          "name": "stdout",
          "text": [
            "                   all          4         14      0.587      0.712      0.638      0.306      0.287      0.143      0.116     0.0538\n"
          ]
        },
        {
          "output_type": "stream",
          "name": "stderr",
          "text": [
            "\n"
          ]
        },
        {
          "output_type": "stream",
          "name": "stdout",
          "text": [
            "\n",
            "      Epoch    GPU_mem   box_loss  pose_loss  kobj_loss   cls_loss   dfl_loss  Instances       Size\n"
          ]
        },
        {
          "output_type": "stream",
          "name": "stderr",
          "text": [
            "     40/100     0.809G      1.117      3.342     0.3491     0.6893      1.078         19        640: 100%|██████████| 1/1 [00:00<00:00,  7.60it/s]\n",
            "                 Class     Images  Instances      Box(P          R      mAP50  mAP50-95)     Pose(P          R      mAP50  mAP50-95): 100%|██████████| 1/1 [00:00<00:00, 15.77it/s]"
          ]
        },
        {
          "output_type": "stream",
          "name": "stdout",
          "text": [
            "                   all          4         14      0.587      0.712      0.638      0.306      0.287      0.143      0.116     0.0538\n"
          ]
        },
        {
          "output_type": "stream",
          "name": "stderr",
          "text": [
            "\n"
          ]
        },
        {
          "output_type": "stream",
          "name": "stdout",
          "text": [
            "\n",
            "      Epoch    GPU_mem   box_loss  pose_loss  kobj_loss   cls_loss   dfl_loss  Instances       Size\n"
          ]
        },
        {
          "output_type": "stream",
          "name": "stderr",
          "text": [
            "     41/100     0.809G     0.8171      2.401      0.287     0.5865      1.041         14        640: 100%|██████████| 1/1 [00:00<00:00,  5.70it/s]\n",
            "                 Class     Images  Instances      Box(P          R      mAP50  mAP50-95)     Pose(P          R      mAP50  mAP50-95): 100%|██████████| 1/1 [00:00<00:00, 15.96it/s]"
          ]
        },
        {
          "output_type": "stream",
          "name": "stdout",
          "text": [
            "                   all          4         14      0.572      0.714      0.667      0.307      0.228      0.357      0.186     0.0493\n"
          ]
        },
        {
          "output_type": "stream",
          "name": "stderr",
          "text": [
            "\n"
          ]
        },
        {
          "output_type": "stream",
          "name": "stdout",
          "text": [
            "\n",
            "      Epoch    GPU_mem   box_loss  pose_loss  kobj_loss   cls_loss   dfl_loss  Instances       Size\n"
          ]
        },
        {
          "output_type": "stream",
          "name": "stderr",
          "text": [
            "     42/100     0.809G     0.9249      2.371     0.3791     0.6376      1.037          9        640: 100%|██████████| 1/1 [00:00<00:00,  5.02it/s]\n",
            "                 Class     Images  Instances      Box(P          R      mAP50  mAP50-95)     Pose(P          R      mAP50  mAP50-95): 100%|██████████| 1/1 [00:00<00:00, 10.71it/s]"
          ]
        },
        {
          "output_type": "stream",
          "name": "stdout",
          "text": [
            "                   all          4         14      0.572      0.714      0.667      0.307      0.228      0.357      0.186     0.0493\n"
          ]
        },
        {
          "output_type": "stream",
          "name": "stderr",
          "text": [
            "\n"
          ]
        },
        {
          "output_type": "stream",
          "name": "stdout",
          "text": [
            "\n",
            "      Epoch    GPU_mem   box_loss  pose_loss  kobj_loss   cls_loss   dfl_loss  Instances       Size\n"
          ]
        },
        {
          "output_type": "stream",
          "name": "stderr",
          "text": [
            "     43/100     0.809G     0.8361      1.858     0.2973     0.5534      1.042         14        640: 100%|██████████| 1/1 [00:00<00:00,  4.15it/s]\n",
            "                 Class     Images  Instances      Box(P          R      mAP50  mAP50-95)     Pose(P          R      mAP50  mAP50-95): 100%|██████████| 1/1 [00:00<00:00, 10.36it/s]"
          ]
        },
        {
          "output_type": "stream",
          "name": "stdout",
          "text": [
            "                   all          4         14       0.59        0.5       0.58      0.288      0.925      0.143      0.186     0.0534\n"
          ]
        },
        {
          "output_type": "stream",
          "name": "stderr",
          "text": [
            "\n"
          ]
        },
        {
          "output_type": "stream",
          "name": "stdout",
          "text": [
            "\n",
            "      Epoch    GPU_mem   box_loss  pose_loss  kobj_loss   cls_loss   dfl_loss  Instances       Size\n"
          ]
        },
        {
          "output_type": "stream",
          "name": "stderr",
          "text": [
            "     44/100     0.809G      0.569      2.395     0.3779     0.4575     0.9738          9        640: 100%|██████████| 1/1 [00:00<00:00,  5.95it/s]\n",
            "                 Class     Images  Instances      Box(P          R      mAP50  mAP50-95)     Pose(P          R      mAP50  mAP50-95): 100%|██████████| 1/1 [00:00<00:00, 10.06it/s]"
          ]
        },
        {
          "output_type": "stream",
          "name": "stdout",
          "text": [
            "                   all          4         14       0.59        0.5       0.58      0.288      0.925      0.143      0.186     0.0534\n"
          ]
        },
        {
          "output_type": "stream",
          "name": "stderr",
          "text": [
            "\n"
          ]
        },
        {
          "output_type": "stream",
          "name": "stdout",
          "text": [
            "\n",
            "      Epoch    GPU_mem   box_loss  pose_loss  kobj_loss   cls_loss   dfl_loss  Instances       Size\n"
          ]
        },
        {
          "output_type": "stream",
          "name": "stderr",
          "text": [
            "     45/100     0.809G     0.8563       2.16     0.2725     0.5661     0.9432         16        640: 100%|██████████| 1/1 [00:00<00:00,  4.12it/s]\n",
            "                 Class     Images  Instances      Box(P          R      mAP50  mAP50-95)     Pose(P          R      mAP50  mAP50-95): 100%|██████████| 1/1 [00:00<00:00,  8.19it/s]"
          ]
        },
        {
          "output_type": "stream",
          "name": "stdout",
          "text": [
            "                   all          4         14      0.517      0.429      0.469      0.234      0.938      0.143      0.162     0.0354\n"
          ]
        },
        {
          "output_type": "stream",
          "name": "stderr",
          "text": [
            "\n"
          ]
        },
        {
          "output_type": "stream",
          "name": "stdout",
          "text": [
            "\n",
            "      Epoch    GPU_mem   box_loss  pose_loss  kobj_loss   cls_loss   dfl_loss  Instances       Size\n"
          ]
        },
        {
          "output_type": "stream",
          "name": "stderr",
          "text": [
            "     46/100     0.809G     0.8426      2.565      0.269     0.6085       1.12         11        640: 100%|██████████| 1/1 [00:00<00:00,  6.70it/s]\n",
            "                 Class     Images  Instances      Box(P          R      mAP50  mAP50-95)     Pose(P          R      mAP50  mAP50-95): 100%|██████████| 1/1 [00:00<00:00, 15.22it/s]"
          ]
        },
        {
          "output_type": "stream",
          "name": "stdout",
          "text": [
            "                   all          4         14      0.517      0.429      0.469      0.234      0.938      0.143      0.162     0.0354\n"
          ]
        },
        {
          "output_type": "stream",
          "name": "stderr",
          "text": [
            "\n"
          ]
        },
        {
          "output_type": "stream",
          "name": "stdout",
          "text": [
            "\n",
            "      Epoch    GPU_mem   box_loss  pose_loss  kobj_loss   cls_loss   dfl_loss  Instances       Size\n"
          ]
        },
        {
          "output_type": "stream",
          "name": "stderr",
          "text": [
            "     47/100     0.809G     0.9531       2.89     0.3962     0.8194      1.155         11        640: 100%|██████████| 1/1 [00:00<00:00,  4.71it/s]\n",
            "                 Class     Images  Instances      Box(P          R      mAP50  mAP50-95)     Pose(P          R      mAP50  mAP50-95): 100%|██████████| 1/1 [00:00<00:00, 10.86it/s]"
          ]
        },
        {
          "output_type": "stream",
          "name": "stdout",
          "text": [
            "                   all          4         14      0.711      0.357      0.419      0.191      0.484      0.143      0.141     0.0141\n"
          ]
        },
        {
          "output_type": "stream",
          "name": "stderr",
          "text": [
            "\n"
          ]
        },
        {
          "output_type": "stream",
          "name": "stdout",
          "text": [
            "\n",
            "      Epoch    GPU_mem   box_loss  pose_loss  kobj_loss   cls_loss   dfl_loss  Instances       Size\n"
          ]
        },
        {
          "output_type": "stream",
          "name": "stderr",
          "text": [
            "     48/100     0.809G      1.035       2.48     0.3687     0.6948      1.112          8        640: 100%|██████████| 1/1 [00:00<00:00,  3.96it/s]\n",
            "                 Class     Images  Instances      Box(P          R      mAP50  mAP50-95)     Pose(P          R      mAP50  mAP50-95): 100%|██████████| 1/1 [00:00<00:00, 15.72it/s]"
          ]
        },
        {
          "output_type": "stream",
          "name": "stdout",
          "text": [
            "                   all          4         14      0.711      0.357      0.419      0.191      0.484      0.143      0.141     0.0141\n"
          ]
        },
        {
          "output_type": "stream",
          "name": "stderr",
          "text": [
            "\n"
          ]
        },
        {
          "output_type": "stream",
          "name": "stdout",
          "text": [
            "\n",
            "      Epoch    GPU_mem   box_loss  pose_loss  kobj_loss   cls_loss   dfl_loss  Instances       Size\n"
          ]
        },
        {
          "output_type": "stream",
          "name": "stderr",
          "text": [
            "     49/100     0.809G      0.952      2.291     0.3552     0.6013      1.082         16        640: 100%|██████████| 1/1 [00:00<00:00,  5.65it/s]\n",
            "                 Class     Images  Instances      Box(P          R      mAP50  mAP50-95)     Pose(P          R      mAP50  mAP50-95): 100%|██████████| 1/1 [00:00<00:00, 16.09it/s]"
          ]
        },
        {
          "output_type": "stream",
          "name": "stdout",
          "text": [
            "                   all          4         14      0.615      0.357      0.371      0.192          0          0          0          0\n"
          ]
        },
        {
          "output_type": "stream",
          "name": "stderr",
          "text": [
            "\n"
          ]
        },
        {
          "output_type": "stream",
          "name": "stdout",
          "text": [
            "\n",
            "      Epoch    GPU_mem   box_loss  pose_loss  kobj_loss   cls_loss   dfl_loss  Instances       Size\n"
          ]
        },
        {
          "output_type": "stream",
          "name": "stderr",
          "text": [
            "     50/100     0.809G     0.9446      4.106     0.4388     0.8827      1.233         12        640: 100%|██████████| 1/1 [00:00<00:00,  7.85it/s]\n",
            "                 Class     Images  Instances      Box(P          R      mAP50  mAP50-95)     Pose(P          R      mAP50  mAP50-95): 100%|██████████| 1/1 [00:00<00:00, 15.69it/s]"
          ]
        },
        {
          "output_type": "stream",
          "name": "stdout",
          "text": [
            "                   all          4         14      0.615      0.357      0.371      0.192          0          0          0          0\n"
          ]
        },
        {
          "output_type": "stream",
          "name": "stderr",
          "text": [
            "\n"
          ]
        },
        {
          "output_type": "stream",
          "name": "stdout",
          "text": [
            "\n",
            "      Epoch    GPU_mem   box_loss  pose_loss  kobj_loss   cls_loss   dfl_loss  Instances       Size\n"
          ]
        },
        {
          "output_type": "stream",
          "name": "stderr",
          "text": [
            "     51/100     0.809G     0.8584      3.377     0.2732     0.6556      1.157          9        640: 100%|██████████| 1/1 [00:00<00:00,  3.93it/s]\n",
            "                 Class     Images  Instances      Box(P          R      mAP50  mAP50-95)     Pose(P          R      mAP50  mAP50-95): 100%|██████████| 1/1 [00:00<00:00, 16.54it/s]"
          ]
        },
        {
          "output_type": "stream",
          "name": "stdout",
          "text": [
            "                   all          4         14      0.471      0.286      0.353      0.159      0.309     0.0714     0.0426    0.00851\n"
          ]
        },
        {
          "output_type": "stream",
          "name": "stderr",
          "text": [
            "\n"
          ]
        },
        {
          "output_type": "stream",
          "name": "stdout",
          "text": [
            "\n",
            "      Epoch    GPU_mem   box_loss  pose_loss  kobj_loss   cls_loss   dfl_loss  Instances       Size\n"
          ]
        },
        {
          "output_type": "stream",
          "name": "stderr",
          "text": [
            "     52/100     0.809G     0.9929      1.542     0.3175     0.7217      1.159         10        640: 100%|██████████| 1/1 [00:00<00:00,  7.85it/s]\n",
            "                 Class     Images  Instances      Box(P          R      mAP50  mAP50-95)     Pose(P          R      mAP50  mAP50-95): 100%|██████████| 1/1 [00:00<00:00, 15.60it/s]"
          ]
        },
        {
          "output_type": "stream",
          "name": "stdout",
          "text": [
            "                   all          4         14      0.471      0.286      0.353      0.159      0.309     0.0714     0.0426    0.00851\n"
          ]
        },
        {
          "output_type": "stream",
          "name": "stderr",
          "text": [
            "\n"
          ]
        },
        {
          "output_type": "stream",
          "name": "stdout",
          "text": [
            "\n",
            "      Epoch    GPU_mem   box_loss  pose_loss  kobj_loss   cls_loss   dfl_loss  Instances       Size\n"
          ]
        },
        {
          "output_type": "stream",
          "name": "stderr",
          "text": [
            "     53/100     0.809G     0.7517       2.17     0.4862     0.7734      1.017          7        640: 100%|██████████| 1/1 [00:00<00:00,  7.15it/s]\n",
            "                 Class     Images  Instances      Box(P          R      mAP50  mAP50-95)     Pose(P          R      mAP50  mAP50-95): 100%|██████████| 1/1 [00:00<00:00, 14.98it/s]"
          ]
        },
        {
          "output_type": "stream",
          "name": "stdout",
          "text": [
            "                   all          4         14      0.471      0.286      0.353      0.159      0.309     0.0714     0.0426    0.00851\n"
          ]
        },
        {
          "output_type": "stream",
          "name": "stderr",
          "text": [
            "\n"
          ]
        },
        {
          "output_type": "stream",
          "name": "stdout",
          "text": [
            "\n",
            "      Epoch    GPU_mem   box_loss  pose_loss  kobj_loss   cls_loss   dfl_loss  Instances       Size\n"
          ]
        },
        {
          "output_type": "stream",
          "name": "stderr",
          "text": [
            "     54/100     0.809G     0.8199      2.159     0.3005     0.5545     0.9517         21        640: 100%|██████████| 1/1 [00:00<00:00,  6.13it/s]\n",
            "                 Class     Images  Instances      Box(P          R      mAP50  mAP50-95)     Pose(P          R      mAP50  mAP50-95): 100%|██████████| 1/1 [00:00<00:00, 15.63it/s]"
          ]
        },
        {
          "output_type": "stream",
          "name": "stdout",
          "text": [
            "                   all          4         14      0.428      0.286      0.347      0.187       0.86     0.0714     0.0864     0.0333\n"
          ]
        },
        {
          "output_type": "stream",
          "name": "stderr",
          "text": [
            "\n"
          ]
        },
        {
          "output_type": "stream",
          "name": "stdout",
          "text": [
            "\n",
            "      Epoch    GPU_mem   box_loss  pose_loss  kobj_loss   cls_loss   dfl_loss  Instances       Size\n"
          ]
        },
        {
          "output_type": "stream",
          "name": "stderr",
          "text": [
            "     55/100     0.809G     0.9333      2.883     0.3286     0.6016       1.25         10        640: 100%|██████████| 1/1 [00:00<00:00,  7.56it/s]\n",
            "                 Class     Images  Instances      Box(P          R      mAP50  mAP50-95)     Pose(P          R      mAP50  mAP50-95): 100%|██████████| 1/1 [00:00<00:00, 15.45it/s]"
          ]
        },
        {
          "output_type": "stream",
          "name": "stdout",
          "text": [
            "                   all          4         14      0.428      0.286      0.347      0.187       0.86     0.0714     0.0864     0.0333\n"
          ]
        },
        {
          "output_type": "stream",
          "name": "stderr",
          "text": [
            "\n"
          ]
        },
        {
          "output_type": "stream",
          "name": "stdout",
          "text": [
            "\n",
            "      Epoch    GPU_mem   box_loss  pose_loss  kobj_loss   cls_loss   dfl_loss  Instances       Size\n"
          ]
        },
        {
          "output_type": "stream",
          "name": "stderr",
          "text": [
            "     56/100     0.822G     0.7299      2.714     0.3478     0.4855     0.9509         16        640: 100%|██████████| 1/1 [00:00<00:00,  7.57it/s]\n",
            "                 Class     Images  Instances      Box(P          R      mAP50  mAP50-95)     Pose(P          R      mAP50  mAP50-95): 100%|██████████| 1/1 [00:00<00:00, 14.64it/s]"
          ]
        },
        {
          "output_type": "stream",
          "name": "stdout",
          "text": [
            "                   all          4         14      0.428      0.286      0.347      0.187       0.86     0.0714     0.0864     0.0333\n"
          ]
        },
        {
          "output_type": "stream",
          "name": "stderr",
          "text": [
            "\n"
          ]
        },
        {
          "output_type": "stream",
          "name": "stdout",
          "text": [
            "\n",
            "      Epoch    GPU_mem   box_loss  pose_loss  kobj_loss   cls_loss   dfl_loss  Instances       Size\n"
          ]
        },
        {
          "output_type": "stream",
          "name": "stderr",
          "text": [
            "     57/100     0.822G     0.6772      1.715     0.3583     0.7988     0.9282          8        640: 100%|██████████| 1/1 [00:00<00:00,  6.40it/s]\n",
            "                 Class     Images  Instances      Box(P          R      mAP50  mAP50-95)     Pose(P          R      mAP50  mAP50-95): 100%|██████████| 1/1 [00:00<00:00, 15.40it/s]"
          ]
        },
        {
          "output_type": "stream",
          "name": "stdout",
          "text": [
            "                   all          4         14      0.394      0.429       0.36      0.192      0.889     0.0714     0.0797     0.0319\n"
          ]
        },
        {
          "output_type": "stream",
          "name": "stderr",
          "text": [
            "\n"
          ]
        },
        {
          "output_type": "stream",
          "name": "stdout",
          "text": [
            "\n",
            "      Epoch    GPU_mem   box_loss  pose_loss  kobj_loss   cls_loss   dfl_loss  Instances       Size\n"
          ]
        },
        {
          "output_type": "stream",
          "name": "stderr",
          "text": [
            "     58/100     0.822G     0.7603      2.583     0.3678     0.5793     0.9947         17        640: 100%|██████████| 1/1 [00:00<00:00,  7.84it/s]\n",
            "                 Class     Images  Instances      Box(P          R      mAP50  mAP50-95)     Pose(P          R      mAP50  mAP50-95): 100%|██████████| 1/1 [00:00<00:00, 15.34it/s]"
          ]
        },
        {
          "output_type": "stream",
          "name": "stdout",
          "text": [
            "                   all          4         14      0.394      0.429       0.36      0.192      0.889     0.0714     0.0797     0.0319\n"
          ]
        },
        {
          "output_type": "stream",
          "name": "stderr",
          "text": [
            "\n"
          ]
        },
        {
          "output_type": "stream",
          "name": "stdout",
          "text": [
            "\n",
            "      Epoch    GPU_mem   box_loss  pose_loss  kobj_loss   cls_loss   dfl_loss  Instances       Size\n"
          ]
        },
        {
          "output_type": "stream",
          "name": "stderr",
          "text": [
            "     59/100     0.822G       0.78      2.085     0.3277     0.5692      1.012         15        640: 100%|██████████| 1/1 [00:00<00:00,  7.32it/s]\n",
            "                 Class     Images  Instances      Box(P          R      mAP50  mAP50-95)     Pose(P          R      mAP50  mAP50-95): 100%|██████████| 1/1 [00:00<00:00, 14.40it/s]"
          ]
        },
        {
          "output_type": "stream",
          "name": "stdout",
          "text": [
            "                   all          4         14      0.394      0.429       0.36      0.192      0.889     0.0714     0.0797     0.0319\n"
          ]
        },
        {
          "output_type": "stream",
          "name": "stderr",
          "text": [
            "\n"
          ]
        },
        {
          "output_type": "stream",
          "name": "stdout",
          "text": [
            "\n",
            "      Epoch    GPU_mem   box_loss  pose_loss  kobj_loss   cls_loss   dfl_loss  Instances       Size\n"
          ]
        },
        {
          "output_type": "stream",
          "name": "stderr",
          "text": [
            "     60/100     0.822G      1.206      4.104     0.3146      1.034      1.388         12        640: 100%|██████████| 1/1 [00:00<00:00,  5.83it/s]\n",
            "                 Class     Images  Instances      Box(P          R      mAP50  mAP50-95)     Pose(P          R      mAP50  mAP50-95): 100%|██████████| 1/1 [00:00<00:00, 16.53it/s]"
          ]
        },
        {
          "output_type": "stream",
          "name": "stdout",
          "text": [
            "                   all          4         14      0.396      0.286        0.3       0.16      0.835     0.0714     0.0797     0.0319\n"
          ]
        },
        {
          "output_type": "stream",
          "name": "stderr",
          "text": [
            "\n"
          ]
        },
        {
          "output_type": "stream",
          "name": "stdout",
          "text": [
            "\n",
            "      Epoch    GPU_mem   box_loss  pose_loss  kobj_loss   cls_loss   dfl_loss  Instances       Size\n"
          ]
        },
        {
          "output_type": "stream",
          "name": "stderr",
          "text": [
            "     61/100     0.822G     0.6063      2.172     0.2681     0.4814     0.9225         14        640: 100%|██████████| 1/1 [00:00<00:00,  7.65it/s]\n",
            "                 Class     Images  Instances      Box(P          R      mAP50  mAP50-95)     Pose(P          R      mAP50  mAP50-95): 100%|██████████| 1/1 [00:00<00:00, 16.18it/s]"
          ]
        },
        {
          "output_type": "stream",
          "name": "stdout",
          "text": [
            "                   all          4         14      0.396      0.286        0.3       0.16      0.835     0.0714     0.0797     0.0319\n"
          ]
        },
        {
          "output_type": "stream",
          "name": "stderr",
          "text": [
            "\n"
          ]
        },
        {
          "output_type": "stream",
          "name": "stdout",
          "text": [
            "\n",
            "      Epoch    GPU_mem   box_loss  pose_loss  kobj_loss   cls_loss   dfl_loss  Instances       Size\n"
          ]
        },
        {
          "output_type": "stream",
          "name": "stderr",
          "text": [
            "     62/100     0.822G     0.9901      2.495     0.3539     0.6894      1.151         18        640: 100%|██████████| 1/1 [00:00<00:00,  4.21it/s]\n",
            "                 Class     Images  Instances      Box(P          R      mAP50  mAP50-95)     Pose(P          R      mAP50  mAP50-95): 100%|██████████| 1/1 [00:00<00:00, 10.95it/s]"
          ]
        },
        {
          "output_type": "stream",
          "name": "stdout",
          "text": [
            "                   all          4         14      0.396      0.286        0.3       0.16      0.835     0.0714     0.0797     0.0319\n"
          ]
        },
        {
          "output_type": "stream",
          "name": "stderr",
          "text": [
            "\n"
          ]
        },
        {
          "output_type": "stream",
          "name": "stdout",
          "text": [
            "\n",
            "      Epoch    GPU_mem   box_loss  pose_loss  kobj_loss   cls_loss   dfl_loss  Instances       Size\n"
          ]
        },
        {
          "output_type": "stream",
          "name": "stderr",
          "text": [
            "     63/100     0.822G      1.142      2.557     0.3894     0.7193      1.395         12        640: 100%|██████████| 1/1 [00:00<00:00,  4.00it/s]\n",
            "                 Class     Images  Instances      Box(P          R      mAP50  mAP50-95)     Pose(P          R      mAP50  mAP50-95): 100%|██████████| 1/1 [00:00<00:00,  8.80it/s]"
          ]
        },
        {
          "output_type": "stream",
          "name": "stdout",
          "text": [
            "                   all          4         14      0.517      0.286      0.272      0.129      0.295     0.0714     0.0481     0.0217\n"
          ]
        },
        {
          "output_type": "stream",
          "name": "stderr",
          "text": [
            "\n"
          ]
        },
        {
          "output_type": "stream",
          "name": "stdout",
          "text": [
            "\n",
            "      Epoch    GPU_mem   box_loss  pose_loss  kobj_loss   cls_loss   dfl_loss  Instances       Size\n"
          ]
        },
        {
          "output_type": "stream",
          "name": "stderr",
          "text": [
            "     64/100     0.822G      0.712      2.168     0.3309     0.6474     0.9547         16        640: 100%|██████████| 1/1 [00:00<00:00,  4.47it/s]\n",
            "                 Class     Images  Instances      Box(P          R      mAP50  mAP50-95)     Pose(P          R      mAP50  mAP50-95): 100%|██████████| 1/1 [00:00<00:00, 12.61it/s]"
          ]
        },
        {
          "output_type": "stream",
          "name": "stdout",
          "text": [
            "                   all          4         14      0.517      0.286      0.272      0.129      0.295     0.0714     0.0481     0.0217\n"
          ]
        },
        {
          "output_type": "stream",
          "name": "stderr",
          "text": [
            "\n"
          ]
        },
        {
          "output_type": "stream",
          "name": "stdout",
          "text": [
            "\n",
            "      Epoch    GPU_mem   box_loss  pose_loss  kobj_loss   cls_loss   dfl_loss  Instances       Size\n"
          ]
        },
        {
          "output_type": "stream",
          "name": "stderr",
          "text": [
            "     65/100     0.822G     0.7831      2.394     0.3185     0.5017       1.05         14        640: 100%|██████████| 1/1 [00:00<00:00,  3.89it/s]\n",
            "                 Class     Images  Instances      Box(P          R      mAP50  mAP50-95)     Pose(P          R      mAP50  mAP50-95): 100%|██████████| 1/1 [00:00<00:00, 10.89it/s]"
          ]
        },
        {
          "output_type": "stream",
          "name": "stdout",
          "text": [
            "                   all          4         14      0.517      0.286      0.272      0.129      0.295     0.0714     0.0481     0.0217\n"
          ]
        },
        {
          "output_type": "stream",
          "name": "stderr",
          "text": [
            "\n"
          ]
        },
        {
          "output_type": "stream",
          "name": "stdout",
          "text": [
            "\n",
            "      Epoch    GPU_mem   box_loss  pose_loss  kobj_loss   cls_loss   dfl_loss  Instances       Size\n"
          ]
        },
        {
          "output_type": "stream",
          "name": "stderr",
          "text": [
            "     66/100     0.822G      1.322       5.07      0.469     0.8829      1.558          9        640: 100%|██████████| 1/1 [00:00<00:00,  6.53it/s]\n",
            "                 Class     Images  Instances      Box(P          R      mAP50  mAP50-95)     Pose(P          R      mAP50  mAP50-95): 100%|██████████| 1/1 [00:00<00:00, 15.98it/s]"
          ]
        },
        {
          "output_type": "stream",
          "name": "stdout",
          "text": [
            "                   all          4         14      0.584      0.286      0.271      0.132      0.273     0.0714      0.035    0.00644\n"
          ]
        },
        {
          "output_type": "stream",
          "name": "stderr",
          "text": [
            "\n"
          ]
        },
        {
          "output_type": "stream",
          "name": "stdout",
          "text": [
            "\n",
            "      Epoch    GPU_mem   box_loss  pose_loss  kobj_loss   cls_loss   dfl_loss  Instances       Size\n"
          ]
        },
        {
          "output_type": "stream",
          "name": "stderr",
          "text": [
            "     67/100     0.822G      1.076      1.932     0.3625     0.6914      1.168         12        640: 100%|██████████| 1/1 [00:00<00:00,  7.22it/s]\n",
            "                 Class     Images  Instances      Box(P          R      mAP50  mAP50-95)     Pose(P          R      mAP50  mAP50-95): 100%|██████████| 1/1 [00:00<00:00, 15.21it/s]"
          ]
        },
        {
          "output_type": "stream",
          "name": "stdout",
          "text": [
            "                   all          4         14      0.584      0.286      0.271      0.132      0.273     0.0714      0.035    0.00644\n"
          ]
        },
        {
          "output_type": "stream",
          "name": "stderr",
          "text": [
            "\n"
          ]
        },
        {
          "output_type": "stream",
          "name": "stdout",
          "text": [
            "\n",
            "      Epoch    GPU_mem   box_loss  pose_loss  kobj_loss   cls_loss   dfl_loss  Instances       Size\n"
          ]
        },
        {
          "output_type": "stream",
          "name": "stderr",
          "text": [
            "     68/100     0.822G      1.034      2.971     0.3052     0.6811      1.275          8        640: 100%|██████████| 1/1 [00:00<00:00,  7.50it/s]\n",
            "                 Class     Images  Instances      Box(P          R      mAP50  mAP50-95)     Pose(P          R      mAP50  mAP50-95): 100%|██████████| 1/1 [00:00<00:00, 15.08it/s]"
          ]
        },
        {
          "output_type": "stream",
          "name": "stdout",
          "text": [
            "                   all          4         14      0.584      0.286      0.271      0.132      0.273     0.0714      0.035    0.00644\n"
          ]
        },
        {
          "output_type": "stream",
          "name": "stderr",
          "text": [
            "\n"
          ]
        },
        {
          "output_type": "stream",
          "name": "stdout",
          "text": [
            "\n",
            "      Epoch    GPU_mem   box_loss  pose_loss  kobj_loss   cls_loss   dfl_loss  Instances       Size\n"
          ]
        },
        {
          "output_type": "stream",
          "name": "stderr",
          "text": [
            "     69/100     0.822G     0.9592      2.278     0.3722     0.7154      1.039         15        640: 100%|██████████| 1/1 [00:00<00:00,  6.24it/s]\n",
            "                 Class     Images  Instances      Box(P          R      mAP50  mAP50-95)     Pose(P          R      mAP50  mAP50-95): 100%|██████████| 1/1 [00:00<00:00, 15.41it/s]"
          ]
        },
        {
          "output_type": "stream",
          "name": "stdout",
          "text": [
            "                   all          4         14      0.525      0.286      0.279      0.132      0.266     0.0714     0.0425    0.00849\n"
          ]
        },
        {
          "output_type": "stream",
          "name": "stderr",
          "text": [
            "\n"
          ]
        },
        {
          "output_type": "stream",
          "name": "stdout",
          "text": [
            "\n",
            "      Epoch    GPU_mem   box_loss  pose_loss  kobj_loss   cls_loss   dfl_loss  Instances       Size\n"
          ]
        },
        {
          "output_type": "stream",
          "name": "stderr",
          "text": [
            "     70/100     0.822G     0.9209      2.934      0.288     0.8678      1.142         13        640: 100%|██████████| 1/1 [00:00<00:00,  6.76it/s]\n",
            "                 Class     Images  Instances      Box(P          R      mAP50  mAP50-95)     Pose(P          R      mAP50  mAP50-95): 100%|██████████| 1/1 [00:00<00:00, 15.25it/s]"
          ]
        },
        {
          "output_type": "stream",
          "name": "stdout",
          "text": [
            "                   all          4         14      0.525      0.286      0.279      0.132      0.266     0.0714     0.0425    0.00849\n"
          ]
        },
        {
          "output_type": "stream",
          "name": "stderr",
          "text": [
            "\n"
          ]
        },
        {
          "output_type": "stream",
          "name": "stdout",
          "text": [
            "\n",
            "      Epoch    GPU_mem   box_loss  pose_loss  kobj_loss   cls_loss   dfl_loss  Instances       Size\n"
          ]
        },
        {
          "output_type": "stream",
          "name": "stderr",
          "text": [
            "     71/100     0.822G     0.6884      2.887     0.3648     0.6719     0.9526          8        640: 100%|██████████| 1/1 [00:00<00:00,  7.65it/s]\n",
            "                 Class     Images  Instances      Box(P          R      mAP50  mAP50-95)     Pose(P          R      mAP50  mAP50-95): 100%|██████████| 1/1 [00:00<00:00, 15.55it/s]"
          ]
        },
        {
          "output_type": "stream",
          "name": "stdout",
          "text": [
            "                   all          4         14      0.525      0.286      0.279      0.132      0.266     0.0714     0.0425    0.00849\n"
          ]
        },
        {
          "output_type": "stream",
          "name": "stderr",
          "text": [
            "\n"
          ]
        },
        {
          "output_type": "stream",
          "name": "stdout",
          "text": [
            "\n",
            "      Epoch    GPU_mem   box_loss  pose_loss  kobj_loss   cls_loss   dfl_loss  Instances       Size\n"
          ]
        },
        {
          "output_type": "stream",
          "name": "stderr",
          "text": [
            "     72/100     0.822G     0.8448      3.767     0.3128     0.6781     0.9927         12        640: 100%|██████████| 1/1 [00:00<00:00,  6.08it/s]\n",
            "                 Class     Images  Instances      Box(P          R      mAP50  mAP50-95)     Pose(P          R      mAP50  mAP50-95): 100%|██████████| 1/1 [00:00<00:00, 15.93it/s]"
          ]
        },
        {
          "output_type": "stream",
          "name": "stdout",
          "text": [
            "                   all          4         14      0.323      0.357      0.289       0.13      0.261     0.0714     0.0425    0.00849\n"
          ]
        },
        {
          "output_type": "stream",
          "name": "stderr",
          "text": [
            "\n"
          ]
        },
        {
          "output_type": "stream",
          "name": "stdout",
          "text": [
            "\n",
            "      Epoch    GPU_mem   box_loss  pose_loss  kobj_loss   cls_loss   dfl_loss  Instances       Size\n"
          ]
        },
        {
          "output_type": "stream",
          "name": "stderr",
          "text": [
            "     73/100     0.822G     0.7847      2.078     0.2701      0.565      1.133         19        640: 100%|██████████| 1/1 [00:00<00:00,  7.83it/s]\n",
            "                 Class     Images  Instances      Box(P          R      mAP50  mAP50-95)     Pose(P          R      mAP50  mAP50-95): 100%|██████████| 1/1 [00:00<00:00, 14.90it/s]"
          ]
        },
        {
          "output_type": "stream",
          "name": "stdout",
          "text": [
            "                   all          4         14      0.323      0.357      0.289       0.13      0.261     0.0714     0.0425    0.00849\n"
          ]
        },
        {
          "output_type": "stream",
          "name": "stderr",
          "text": [
            "\n"
          ]
        },
        {
          "output_type": "stream",
          "name": "stdout",
          "text": [
            "\n",
            "      Epoch    GPU_mem   box_loss  pose_loss  kobj_loss   cls_loss   dfl_loss  Instances       Size\n"
          ]
        },
        {
          "output_type": "stream",
          "name": "stderr",
          "text": [
            "     74/100     0.822G     0.8028      2.837       0.28     0.7206      1.005         15        640: 100%|██████████| 1/1 [00:00<00:00,  7.19it/s]\n",
            "                 Class     Images  Instances      Box(P          R      mAP50  mAP50-95)     Pose(P          R      mAP50  mAP50-95): 100%|██████████| 1/1 [00:00<00:00, 13.51it/s]"
          ]
        },
        {
          "output_type": "stream",
          "name": "stdout",
          "text": [
            "                   all          4         14      0.323      0.357      0.289       0.13      0.261     0.0714     0.0425    0.00849\n"
          ]
        },
        {
          "output_type": "stream",
          "name": "stderr",
          "text": [
            "\n"
          ]
        },
        {
          "output_type": "stream",
          "name": "stdout",
          "text": [
            "\n",
            "      Epoch    GPU_mem   box_loss  pose_loss  kobj_loss   cls_loss   dfl_loss  Instances       Size\n"
          ]
        },
        {
          "output_type": "stream",
          "name": "stderr",
          "text": [
            "     75/100     0.822G     0.8632      2.652     0.3541     0.5788     0.9527         20        640: 100%|██████████| 1/1 [00:00<00:00,  5.91it/s]\n",
            "                 Class     Images  Instances      Box(P          R      mAP50  mAP50-95)     Pose(P          R      mAP50  mAP50-95): 100%|██████████| 1/1 [00:00<00:00, 12.83it/s]"
          ]
        },
        {
          "output_type": "stream",
          "name": "stdout",
          "text": [
            "                   all          4         14      0.591      0.214      0.265      0.126      0.302     0.0714     0.0422    0.00845\n"
          ]
        },
        {
          "output_type": "stream",
          "name": "stderr",
          "text": [
            "\n"
          ]
        },
        {
          "output_type": "stream",
          "name": "stdout",
          "text": [
            "\n",
            "      Epoch    GPU_mem   box_loss  pose_loss  kobj_loss   cls_loss   dfl_loss  Instances       Size\n"
          ]
        },
        {
          "output_type": "stream",
          "name": "stderr",
          "text": [
            "     76/100     0.822G     0.7762      4.418     0.3045     0.5792       1.09         13        640: 100%|██████████| 1/1 [00:00<00:00,  7.73it/s]\n",
            "                 Class     Images  Instances      Box(P          R      mAP50  mAP50-95)     Pose(P          R      mAP50  mAP50-95): 100%|██████████| 1/1 [00:00<00:00,  8.35it/s]"
          ]
        },
        {
          "output_type": "stream",
          "name": "stdout",
          "text": [
            "                   all          4         14      0.591      0.214      0.265      0.126      0.302     0.0714     0.0422    0.00845\n"
          ]
        },
        {
          "output_type": "stream",
          "name": "stderr",
          "text": [
            "\n"
          ]
        },
        {
          "output_type": "stream",
          "name": "stdout",
          "text": [
            "\n",
            "      Epoch    GPU_mem   box_loss  pose_loss  kobj_loss   cls_loss   dfl_loss  Instances       Size\n"
          ]
        },
        {
          "output_type": "stream",
          "name": "stderr",
          "text": [
            "     77/100     0.822G     0.7402      2.276     0.2934     0.5802      1.005         21        640: 100%|██████████| 1/1 [00:00<00:00,  5.43it/s]\n",
            "                 Class     Images  Instances      Box(P          R      mAP50  mAP50-95)     Pose(P          R      mAP50  mAP50-95): 100%|██████████| 1/1 [00:00<00:00, 14.89it/s]"
          ]
        },
        {
          "output_type": "stream",
          "name": "stdout",
          "text": [
            "                   all          4         14      0.591      0.214      0.265      0.126      0.302     0.0714     0.0422    0.00845\n"
          ]
        },
        {
          "output_type": "stream",
          "name": "stderr",
          "text": [
            "\n"
          ]
        },
        {
          "output_type": "stream",
          "name": "stdout",
          "text": [
            "\n",
            "      Epoch    GPU_mem   box_loss  pose_loss  kobj_loss   cls_loss   dfl_loss  Instances       Size\n"
          ]
        },
        {
          "output_type": "stream",
          "name": "stderr",
          "text": [
            "     78/100     0.822G      0.684      2.476     0.3423     0.5131      1.016         12        640: 100%|██████████| 1/1 [00:00<00:00,  4.10it/s]\n",
            "                 Class     Images  Instances      Box(P          R      mAP50  mAP50-95)     Pose(P          R      mAP50  mAP50-95): 100%|██████████| 1/1 [00:00<00:00,  8.54it/s]"
          ]
        },
        {
          "output_type": "stream",
          "name": "stdout",
          "text": [
            "                   all          4         14      0.675      0.214      0.297      0.146      0.698     0.0714     0.0797     0.0239\n"
          ]
        },
        {
          "output_type": "stream",
          "name": "stderr",
          "text": [
            "\n"
          ]
        },
        {
          "output_type": "stream",
          "name": "stdout",
          "text": [
            "\n",
            "      Epoch    GPU_mem   box_loss  pose_loss  kobj_loss   cls_loss   dfl_loss  Instances       Size\n"
          ]
        },
        {
          "output_type": "stream",
          "name": "stderr",
          "text": [
            "     79/100     0.822G      0.689      2.318     0.4181     0.5941     0.9622         13        640: 100%|██████████| 1/1 [00:00<00:00,  2.62it/s]\n",
            "                 Class     Images  Instances      Box(P          R      mAP50  mAP50-95)     Pose(P          R      mAP50  mAP50-95): 100%|██████████| 1/1 [00:00<00:00, 15.44it/s]"
          ]
        },
        {
          "output_type": "stream",
          "name": "stdout",
          "text": [
            "                   all          4         14      0.675      0.214      0.297      0.146      0.698     0.0714     0.0797     0.0239\n"
          ]
        },
        {
          "output_type": "stream",
          "name": "stderr",
          "text": [
            "\n"
          ]
        },
        {
          "output_type": "stream",
          "name": "stdout",
          "text": [
            "\n",
            "      Epoch    GPU_mem   box_loss  pose_loss  kobj_loss   cls_loss   dfl_loss  Instances       Size\n"
          ]
        },
        {
          "output_type": "stream",
          "name": "stderr",
          "text": [
            "     80/100     0.822G      0.701      3.093     0.2246      0.571      1.027         10        640: 100%|██████████| 1/1 [00:00<00:00,  4.07it/s]\n",
            "                 Class     Images  Instances      Box(P          R      mAP50  mAP50-95)     Pose(P          R      mAP50  mAP50-95): 100%|██████████| 1/1 [00:00<00:00,  9.56it/s]"
          ]
        },
        {
          "output_type": "stream",
          "name": "stdout",
          "text": [
            "                   all          4         14      0.675      0.214      0.297      0.146      0.698     0.0714     0.0797     0.0239\n"
          ]
        },
        {
          "output_type": "stream",
          "name": "stderr",
          "text": [
            "\n"
          ]
        },
        {
          "output_type": "stream",
          "name": "stdout",
          "text": [
            "\n",
            "      Epoch    GPU_mem   box_loss  pose_loss  kobj_loss   cls_loss   dfl_loss  Instances       Size\n"
          ]
        },
        {
          "output_type": "stream",
          "name": "stderr",
          "text": [
            "     81/100     0.822G     0.5831      2.024     0.2983     0.4852     0.9569         12        640: 100%|██████████| 1/1 [00:00<00:00,  2.59it/s]\n",
            "                 Class     Images  Instances      Box(P          R      mAP50  mAP50-95)     Pose(P          R      mAP50  mAP50-95): 100%|██████████| 1/1 [00:00<00:00, 12.95it/s]"
          ]
        },
        {
          "output_type": "stream",
          "name": "stdout",
          "text": [
            "                   all          4         14      0.542      0.214      0.306      0.157      0.326     0.0714     0.0798     0.0399\n"
          ]
        },
        {
          "output_type": "stream",
          "name": "stderr",
          "text": [
            "\n"
          ]
        },
        {
          "output_type": "stream",
          "name": "stdout",
          "text": [
            "\n",
            "      Epoch    GPU_mem   box_loss  pose_loss  kobj_loss   cls_loss   dfl_loss  Instances       Size\n"
          ]
        },
        {
          "output_type": "stream",
          "name": "stderr",
          "text": [
            "     82/100     0.822G     0.8078      1.934     0.3056     0.5956     0.9845         15        640: 100%|██████████| 1/1 [00:00<00:00,  2.38it/s]\n",
            "                 Class     Images  Instances      Box(P          R      mAP50  mAP50-95)     Pose(P          R      mAP50  mAP50-95): 100%|██████████| 1/1 [00:00<00:00,  5.68it/s]"
          ]
        },
        {
          "output_type": "stream",
          "name": "stdout",
          "text": [
            "                   all          4         14      0.542      0.214      0.306      0.157      0.326     0.0714     0.0798     0.0399\n"
          ]
        },
        {
          "output_type": "stream",
          "name": "stderr",
          "text": [
            "\n"
          ]
        },
        {
          "output_type": "stream",
          "name": "stdout",
          "text": [
            "\n",
            "      Epoch    GPU_mem   box_loss  pose_loss  kobj_loss   cls_loss   dfl_loss  Instances       Size\n"
          ]
        },
        {
          "output_type": "stream",
          "name": "stderr",
          "text": [
            "     83/100     0.822G     0.6008      2.298     0.2439     0.4622     0.9069         13        640: 100%|██████████| 1/1 [00:00<00:00,  7.59it/s]\n",
            "                 Class     Images  Instances      Box(P          R      mAP50  mAP50-95)     Pose(P          R      mAP50  mAP50-95): 100%|██████████| 1/1 [00:00<00:00, 11.41it/s]"
          ]
        },
        {
          "output_type": "stream",
          "name": "stdout",
          "text": [
            "                   all          4         14      0.542      0.214      0.306      0.157      0.326     0.0714     0.0798     0.0399\n"
          ]
        },
        {
          "output_type": "stream",
          "name": "stderr",
          "text": [
            "\n"
          ]
        },
        {
          "output_type": "stream",
          "name": "stdout",
          "text": [
            "\n",
            "      Epoch    GPU_mem   box_loss  pose_loss  kobj_loss   cls_loss   dfl_loss  Instances       Size\n"
          ]
        },
        {
          "output_type": "stream",
          "name": "stderr",
          "text": [
            "     84/100     0.822G     0.6981      2.008     0.3193     0.5169      1.007         19        640: 100%|██████████| 1/1 [00:00<00:00,  3.37it/s]\n",
            "                 Class     Images  Instances      Box(P          R      mAP50  mAP50-95)     Pose(P          R      mAP50  mAP50-95): 100%|██████████| 1/1 [00:00<00:00,  7.99it/s]"
          ]
        },
        {
          "output_type": "stream",
          "name": "stdout",
          "text": [
            "                   all          4         14      0.556      0.214      0.305      0.178      0.601     0.0714     0.0797     0.0478\n"
          ]
        },
        {
          "output_type": "stream",
          "name": "stderr",
          "text": [
            "\n"
          ]
        },
        {
          "output_type": "stream",
          "name": "stdout",
          "text": [
            "\n",
            "      Epoch    GPU_mem   box_loss  pose_loss  kobj_loss   cls_loss   dfl_loss  Instances       Size\n"
          ]
        },
        {
          "output_type": "stream",
          "name": "stderr",
          "text": [
            "     85/100     0.822G     0.5829      2.337     0.3178     0.4965      1.002          5        640: 100%|██████████| 1/1 [00:00<00:00,  6.97it/s]\n",
            "                 Class     Images  Instances      Box(P          R      mAP50  mAP50-95)     Pose(P          R      mAP50  mAP50-95): 100%|██████████| 1/1 [00:00<00:00, 15.38it/s]"
          ]
        },
        {
          "output_type": "stream",
          "name": "stdout",
          "text": [
            "                   all          4         14      0.556      0.214      0.305      0.178      0.601     0.0714     0.0797     0.0478\n"
          ]
        },
        {
          "output_type": "stream",
          "name": "stderr",
          "text": [
            "\n"
          ]
        },
        {
          "output_type": "stream",
          "name": "stdout",
          "text": [
            "\n",
            "      Epoch    GPU_mem   box_loss  pose_loss  kobj_loss   cls_loss   dfl_loss  Instances       Size\n"
          ]
        },
        {
          "output_type": "stream",
          "name": "stderr",
          "text": [
            "     86/100     0.822G     0.7057      2.577      0.285     0.5992      1.055         14        640: 100%|██████████| 1/1 [00:00<00:00,  7.03it/s]\n",
            "                 Class     Images  Instances      Box(P          R      mAP50  mAP50-95)     Pose(P          R      mAP50  mAP50-95): 100%|██████████| 1/1 [00:00<00:00, 15.15it/s]"
          ]
        },
        {
          "output_type": "stream",
          "name": "stdout",
          "text": [
            "                   all          4         14      0.556      0.214      0.305      0.178      0.601     0.0714     0.0797     0.0478\n"
          ]
        },
        {
          "output_type": "stream",
          "name": "stderr",
          "text": [
            "\n"
          ]
        },
        {
          "output_type": "stream",
          "name": "stdout",
          "text": [
            "\n",
            "      Epoch    GPU_mem   box_loss  pose_loss  kobj_loss   cls_loss   dfl_loss  Instances       Size\n"
          ]
        },
        {
          "output_type": "stream",
          "name": "stderr",
          "text": [
            "     87/100     0.822G     0.7707      2.187     0.3295     0.5619     0.9985         14        640: 100%|██████████| 1/1 [00:00<00:00,  3.75it/s]\n",
            "                 Class     Images  Instances      Box(P          R      mAP50  mAP50-95)     Pose(P          R      mAP50  mAP50-95): 100%|██████████| 1/1 [00:00<00:00,  8.77it/s]"
          ]
        },
        {
          "output_type": "stream",
          "name": "stdout",
          "text": [
            "                   all          4         14      0.556      0.214      0.305      0.178      0.601     0.0714     0.0797     0.0478\n"
          ]
        },
        {
          "output_type": "stream",
          "name": "stderr",
          "text": [
            "\n"
          ]
        },
        {
          "output_type": "stream",
          "name": "stdout",
          "text": [
            "\n",
            "      Epoch    GPU_mem   box_loss  pose_loss  kobj_loss   cls_loss   dfl_loss  Instances       Size\n"
          ]
        },
        {
          "output_type": "stream",
          "name": "stderr",
          "text": [
            "     88/100     0.822G      0.982      2.105     0.2354     0.9043      1.234         12        640: 100%|██████████| 1/1 [00:00<00:00,  5.04it/s]\n",
            "                 Class     Images  Instances      Box(P          R      mAP50  mAP50-95)     Pose(P          R      mAP50  mAP50-95): 100%|██████████| 1/1 [00:00<00:00, 15.35it/s]"
          ]
        },
        {
          "output_type": "stream",
          "name": "stdout",
          "text": [
            "                   all          4         14      0.448      0.407      0.438      0.207      0.834      0.143      0.154     0.0774\n"
          ]
        },
        {
          "output_type": "stream",
          "name": "stderr",
          "text": [
            "\n"
          ]
        },
        {
          "output_type": "stream",
          "name": "stdout",
          "text": [
            "\n",
            "      Epoch    GPU_mem   box_loss  pose_loss  kobj_loss   cls_loss   dfl_loss  Instances       Size\n"
          ]
        },
        {
          "output_type": "stream",
          "name": "stderr",
          "text": [
            "     89/100     0.822G      0.685      3.807     0.3264     0.5898      1.022         18        640: 100%|██████████| 1/1 [00:00<00:00,  7.47it/s]\n",
            "                 Class     Images  Instances      Box(P          R      mAP50  mAP50-95)     Pose(P          R      mAP50  mAP50-95): 100%|██████████| 1/1 [00:00<00:00, 15.40it/s]"
          ]
        },
        {
          "output_type": "stream",
          "name": "stdout",
          "text": [
            "                   all          4         14      0.448      0.407      0.438      0.207      0.834      0.143      0.154     0.0774\n"
          ]
        },
        {
          "output_type": "stream",
          "name": "stderr",
          "text": [
            "\n"
          ]
        },
        {
          "output_type": "stream",
          "name": "stdout",
          "text": [
            "\n",
            "      Epoch    GPU_mem   box_loss  pose_loss  kobj_loss   cls_loss   dfl_loss  Instances       Size\n"
          ]
        },
        {
          "output_type": "stream",
          "name": "stderr",
          "text": [
            "     90/100     0.822G     0.7575      2.254     0.2802     0.5416      1.053         12        640: 100%|██████████| 1/1 [00:00<00:00,  7.05it/s]\n",
            "                 Class     Images  Instances      Box(P          R      mAP50  mAP50-95)     Pose(P          R      mAP50  mAP50-95): 100%|██████████| 1/1 [00:00<00:00, 15.77it/s]"
          ]
        },
        {
          "output_type": "stream",
          "name": "stdout",
          "text": [
            "                   all          4         14      0.448      0.407      0.438      0.207      0.834      0.143      0.154     0.0774\n"
          ]
        },
        {
          "output_type": "stream",
          "name": "stderr",
          "text": [
            "\n"
          ]
        },
        {
          "output_type": "stream",
          "name": "stdout",
          "text": [
            "Closing dataloader mosaic\n",
            "\u001b[34m\u001b[1malbumentations: \u001b[0mBlur(p=0.01, blur_limit=(3, 7)), MedianBlur(p=0.01, blur_limit=(3, 7)), ToGray(p=0.01, method='weighted_average', num_output_channels=3), CLAHE(p=0.01, clip_limit=(1.0, 4.0), tile_grid_size=(8, 8))\n",
            "\n",
            "      Epoch    GPU_mem   box_loss  pose_loss  kobj_loss   cls_loss   dfl_loss  Instances       Size\n"
          ]
        },
        {
          "output_type": "stream",
          "name": "stderr",
          "text": [
            "     91/100     0.822G     0.4835      1.316     0.2624     0.4223     0.9119          7        640: 100%|██████████| 1/1 [00:00<00:00,  3.66it/s]\n",
            "                 Class     Images  Instances      Box(P          R      mAP50  mAP50-95)     Pose(P          R      mAP50  mAP50-95): 100%|██████████| 1/1 [00:00<00:00,  8.82it/s]"
          ]
        },
        {
          "output_type": "stream",
          "name": "stdout",
          "text": [
            "                   all          4         14      0.448      0.407      0.438      0.207      0.834      0.143      0.154     0.0774\n"
          ]
        },
        {
          "output_type": "stream",
          "name": "stderr",
          "text": [
            "\n"
          ]
        },
        {
          "output_type": "stream",
          "name": "stdout",
          "text": [
            "\n",
            "      Epoch    GPU_mem   box_loss  pose_loss  kobj_loss   cls_loss   dfl_loss  Instances       Size\n"
          ]
        },
        {
          "output_type": "stream",
          "name": "stderr",
          "text": [
            "     92/100     0.822G     0.5339      1.305     0.2645     0.4288     0.9298          7        640: 100%|██████████| 1/1 [00:00<00:00,  6.06it/s]\n",
            "                 Class     Images  Instances      Box(P          R      mAP50  mAP50-95)     Pose(P          R      mAP50  mAP50-95): 100%|██████████| 1/1 [00:00<00:00,  9.48it/s]"
          ]
        },
        {
          "output_type": "stream",
          "name": "stdout",
          "text": [
            "                   all          4         14      0.581      0.429      0.481      0.213      0.882      0.143      0.154     0.0776\n"
          ]
        },
        {
          "output_type": "stream",
          "name": "stderr",
          "text": [
            "\n"
          ]
        },
        {
          "output_type": "stream",
          "name": "stdout",
          "text": [
            "\n",
            "      Epoch    GPU_mem   box_loss  pose_loss  kobj_loss   cls_loss   dfl_loss  Instances       Size\n"
          ]
        },
        {
          "output_type": "stream",
          "name": "stderr",
          "text": [
            "     93/100     0.822G     0.6728      1.299     0.2269      0.636     0.9356          7        640: 100%|██████████| 1/1 [00:00<00:00,  7.02it/s]\n",
            "                 Class     Images  Instances      Box(P          R      mAP50  mAP50-95)     Pose(P          R      mAP50  mAP50-95): 100%|██████████| 1/1 [00:00<00:00,  9.47it/s]"
          ]
        },
        {
          "output_type": "stream",
          "name": "stdout",
          "text": [
            "                   all          4         14      0.581      0.429      0.481      0.213      0.882      0.143      0.154     0.0776\n"
          ]
        },
        {
          "output_type": "stream",
          "name": "stderr",
          "text": [
            "\n"
          ]
        },
        {
          "output_type": "stream",
          "name": "stdout",
          "text": [
            "\n",
            "      Epoch    GPU_mem   box_loss  pose_loss  kobj_loss   cls_loss   dfl_loss  Instances       Size\n"
          ]
        },
        {
          "output_type": "stream",
          "name": "stderr",
          "text": [
            "     94/100     0.822G     0.6172      1.572     0.2328     0.5387     0.8906          7        640: 100%|██████████| 1/1 [00:00<00:00,  7.00it/s]\n",
            "                 Class     Images  Instances      Box(P          R      mAP50  mAP50-95)     Pose(P          R      mAP50  mAP50-95): 100%|██████████| 1/1 [00:00<00:00, 15.50it/s]"
          ]
        },
        {
          "output_type": "stream",
          "name": "stdout",
          "text": [
            "                   all          4         14      0.581      0.429      0.481      0.213      0.882      0.143      0.154     0.0776\n"
          ]
        },
        {
          "output_type": "stream",
          "name": "stderr",
          "text": [
            "\n"
          ]
        },
        {
          "output_type": "stream",
          "name": "stdout",
          "text": [
            "\n",
            "      Epoch    GPU_mem   box_loss  pose_loss  kobj_loss   cls_loss   dfl_loss  Instances       Size\n"
          ]
        },
        {
          "output_type": "stream",
          "name": "stderr",
          "text": [
            "     95/100     0.822G      0.656      1.221     0.2352     0.4334     0.9421          7        640: 100%|██████████| 1/1 [00:00<00:00,  7.61it/s]\n",
            "                 Class     Images  Instances      Box(P          R      mAP50  mAP50-95)     Pose(P          R      mAP50  mAP50-95): 100%|██████████| 1/1 [00:00<00:00, 15.12it/s]"
          ]
        },
        {
          "output_type": "stream",
          "name": "stdout",
          "text": [
            "                   all          4         14      0.581      0.429      0.481      0.213      0.882      0.143      0.154     0.0776\n"
          ]
        },
        {
          "output_type": "stream",
          "name": "stderr",
          "text": [
            "\n"
          ]
        },
        {
          "output_type": "stream",
          "name": "stdout",
          "text": [
            "\n",
            "      Epoch    GPU_mem   box_loss  pose_loss  kobj_loss   cls_loss   dfl_loss  Instances       Size\n"
          ]
        },
        {
          "output_type": "stream",
          "name": "stderr",
          "text": [
            "     96/100     0.822G     0.7851      1.464     0.2445     0.5393      1.098          7        640: 100%|██████████| 1/1 [00:00<00:00,  4.63it/s]\n",
            "                 Class     Images  Instances      Box(P          R      mAP50  mAP50-95)     Pose(P          R      mAP50  mAP50-95): 100%|██████████| 1/1 [00:00<00:00, 12.17it/s]"
          ]
        },
        {
          "output_type": "stream",
          "name": "stdout",
          "text": [
            "                   all          4         14      0.689        0.5      0.525      0.216      0.908      0.143      0.153     0.0696\n"
          ]
        },
        {
          "output_type": "stream",
          "name": "stderr",
          "text": [
            "\n"
          ]
        },
        {
          "output_type": "stream",
          "name": "stdout",
          "text": [
            "\n",
            "      Epoch    GPU_mem   box_loss  pose_loss  kobj_loss   cls_loss   dfl_loss  Instances       Size\n"
          ]
        },
        {
          "output_type": "stream",
          "name": "stderr",
          "text": [
            "     97/100     0.822G     0.8101      1.183     0.2356     0.6869      0.968          7        640: 100%|██████████| 1/1 [00:00<00:00,  6.53it/s]\n",
            "                 Class     Images  Instances      Box(P          R      mAP50  mAP50-95)     Pose(P          R      mAP50  mAP50-95): 100%|██████████| 1/1 [00:00<00:00, 11.14it/s]"
          ]
        },
        {
          "output_type": "stream",
          "name": "stdout",
          "text": [
            "                   all          4         14      0.689        0.5      0.525      0.216      0.908      0.143      0.153     0.0696\n"
          ]
        },
        {
          "output_type": "stream",
          "name": "stderr",
          "text": [
            "\n"
          ]
        },
        {
          "output_type": "stream",
          "name": "stdout",
          "text": [
            "\n",
            "      Epoch    GPU_mem   box_loss  pose_loss  kobj_loss   cls_loss   dfl_loss  Instances       Size\n"
          ]
        },
        {
          "output_type": "stream",
          "name": "stderr",
          "text": [
            "     98/100     0.822G     0.5219      1.041     0.2369     0.4377     0.9168          7        640: 100%|██████████| 1/1 [00:00<00:00,  5.63it/s]\n",
            "                 Class     Images  Instances      Box(P          R      mAP50  mAP50-95)     Pose(P          R      mAP50  mAP50-95): 100%|██████████| 1/1 [00:00<00:00, 10.84it/s]"
          ]
        },
        {
          "output_type": "stream",
          "name": "stdout",
          "text": [
            "                   all          4         14      0.689        0.5      0.525      0.216      0.908      0.143      0.153     0.0696\n"
          ]
        },
        {
          "output_type": "stream",
          "name": "stderr",
          "text": [
            "\n"
          ]
        },
        {
          "output_type": "stream",
          "name": "stdout",
          "text": [
            "\n",
            "      Epoch    GPU_mem   box_loss  pose_loss  kobj_loss   cls_loss   dfl_loss  Instances       Size\n"
          ]
        },
        {
          "output_type": "stream",
          "name": "stderr",
          "text": [
            "     99/100     0.822G     0.5449      1.235     0.2415     0.4228     0.9484          7        640: 100%|██████████| 1/1 [00:00<00:00,  2.77it/s]\n",
            "                 Class     Images  Instances      Box(P          R      mAP50  mAP50-95)     Pose(P          R      mAP50  mAP50-95): 100%|██████████| 1/1 [00:00<00:00,  5.33it/s]"
          ]
        },
        {
          "output_type": "stream",
          "name": "stdout",
          "text": [
            "                   all          4         14      0.689        0.5      0.525      0.216      0.908      0.143      0.153     0.0696\n"
          ]
        },
        {
          "output_type": "stream",
          "name": "stderr",
          "text": [
            "\n"
          ]
        },
        {
          "output_type": "stream",
          "name": "stdout",
          "text": [
            "\n",
            "      Epoch    GPU_mem   box_loss  pose_loss  kobj_loss   cls_loss   dfl_loss  Instances       Size\n"
          ]
        },
        {
          "output_type": "stream",
          "name": "stderr",
          "text": [
            "    100/100     0.822G     0.5419      1.529      0.293     0.4266     0.9958          7        640: 100%|██████████| 1/1 [00:00<00:00,  4.38it/s]\n",
            "                 Class     Images  Instances      Box(P          R      mAP50  mAP50-95)     Pose(P          R      mAP50  mAP50-95): 100%|██████████| 1/1 [00:00<00:00, 15.15it/s]"
          ]
        },
        {
          "output_type": "stream",
          "name": "stdout",
          "text": [
            "                   all          4         14      0.678      0.429        0.5      0.213       0.65      0.214      0.208     0.0749\n"
          ]
        },
        {
          "output_type": "stream",
          "name": "stderr",
          "text": [
            "\n"
          ]
        },
        {
          "output_type": "stream",
          "name": "stdout",
          "text": [
            "\n",
            "100 epochs completed in 0.021 hours.\n",
            "Optimizer stripped from runs/pose/train2/weights/last.pt, 6.1MB\n",
            "Optimizer stripped from runs/pose/train2/weights/best.pt, 6.1MB\n",
            "\n",
            "Validating runs/pose/train2/weights/best.pt...\n",
            "Ultralytics 8.3.176 🚀 Python-3.11.13 torch-2.6.0+cu124 CUDA:0 (Tesla T4, 15095MiB)\n",
            "YOLO11n-pose summary (fused): 109 layers, 2,866,468 parameters, 0 gradients, 7.4 GFLOPs\n"
          ]
        },
        {
          "output_type": "stream",
          "name": "stderr",
          "text": [
            "                 Class     Images  Instances      Box(P          R      mAP50  mAP50-95)     Pose(P          R      mAP50  mAP50-95): 100%|██████████| 1/1 [00:00<00:00, 15.64it/s]\n"
          ]
        },
        {
          "output_type": "stream",
          "name": "stdout",
          "text": [
            "                   all          4         14      0.815      0.857      0.905      0.718      0.982      0.643      0.809      0.368\n",
            "Speed: 0.3ms preprocess, 9.0ms inference, 0.0ms loss, 1.9ms postprocess per image\n",
            "Results saved to \u001b[1mruns/pose/train2\u001b[0m\n"
          ]
        }
      ],
      "source": [
        "from ultralytics import YOLO\n",
        "\n",
        "model = YOLO(\"yolo11n-pose.pt\")\n",
        "\n",
        "results = model.train(\n",
        "              data=\"coco8-pose.yaml\",\n",
        "              epochs=100,\n",
        "              imgsz=640\n",
        "          )"
      ]
    },
    {
      "cell_type": "code",
      "source": [
        "metrics = model.val()"
      ],
      "metadata": {
        "colab": {
          "base_uri": "https://localhost:8080/"
        },
        "id": "5o6SOB9XAY3z",
        "outputId": "4b13f289-a1dc-43d2-d93d-f6ef7eb8c55e"
      },
      "execution_count": null,
      "outputs": [
        {
          "output_type": "stream",
          "name": "stdout",
          "text": [
            "Ultralytics 8.3.176 🚀 Python-3.11.13 torch-2.6.0+cu124 CUDA:0 (Tesla T4, 15095MiB)\n",
            "YOLO11n-pose summary (fused): 109 layers, 2,866,468 parameters, 0 gradients, 7.4 GFLOPs\n",
            "\u001b[34m\u001b[1mval: \u001b[0mFast image access ✅ (ping: 0.0±0.0 ms, read: 1449.3±591.4 MB/s, size: 39.1 KB)\n"
          ]
        },
        {
          "output_type": "stream",
          "name": "stderr",
          "text": [
            "\u001b[34m\u001b[1mval: \u001b[0mScanning /content/datasets/coco8-pose/labels/val.cache... 4 images, 0 backgrounds, 0 corrupt: 100%|██████████| 4/4 [00:00<?, ?it/s]\n",
            "                 Class     Images  Instances      Box(P          R      mAP50  mAP50-95)     Pose(P          R      mAP50  mAP50-95): 100%|██████████| 1/1 [00:00<00:00,  4.90it/s]\n"
          ]
        },
        {
          "output_type": "stream",
          "name": "stdout",
          "text": [
            "                   all          4         14      0.817      0.857      0.904      0.717      0.982      0.643      0.809      0.368\n",
            "Speed: 0.4ms preprocess, 20.7ms inference, 0.0ms loss, 1.6ms postprocess per image\n",
            "Results saved to \u001b[1mruns/pose/train22\u001b[0m\n"
          ]
        }
      ]
    },
    {
      "cell_type": "code",
      "source": [
        "import shutil\n",
        "from ultralytics import YOLO\n",
        "\n",
        "video_path = \"/content/drive/MyDrive/stairvision/dataset/east/videos/Copy of Copy of IMG_3084.MOV\"\n",
        "output_path = \"/content/drive/MyDrive/stairvision/dataset/east/videos/output_with_poses.mp4\"\n",
        "\n",
        "results = model.predict(\n",
        "    source=video_path,\n",
        "    save=True,\n",
        "    save_dir=\"/content/drive/MyDrive/stairvision/dataset/east/videos/\",\n",
        "    project=\"pose_estimation_output\",\n",
        "    name=\"video_results\",\n",
        "    conf=0.3,  # Confidence threshold\n",
        "    show_labels=True,\n",
        "    show_conf=True,\n",
        "    line_width=2\n",
        ")"
      ],
      "metadata": {
        "colab": {
          "base_uri": "https://localhost:8080/"
        },
        "id": "IWGSkKlXAshb",
        "outputId": "c43b02e7-c70a-452c-c892-fc66ee689e4d"
      },
      "execution_count": null,
      "outputs": [
        {
          "output_type": "stream",
          "name": "stdout",
          "text": [
            "\n",
            "WARNING ⚠️ \n",
            "inference results will accumulate in RAM unless `stream=True` is passed, causing potential out-of-memory\n",
            "errors for large sources or long-running streams and videos. See https://docs.ultralytics.com/modes/predict/ for help.\n",
            "\n",
            "Example:\n",
            "    results = model(source=..., stream=True)  # generator of Results objects\n",
            "    for r in results:\n",
            "        boxes = r.boxes  # Boxes object for bbox outputs\n",
            "        masks = r.masks  # Masks object for segment masks outputs\n",
            "        probs = r.probs  # Class probabilities for classification outputs\n",
            "\n",
            "video 1/1 (frame 1/361) /content/drive/MyDrive/stairvision/dataset/east/videos/Copy of Copy of IMG_3084.MOV: 384x640 2 persons, 11.4ms\n",
            "video 1/1 (frame 2/361) /content/drive/MyDrive/stairvision/dataset/east/videos/Copy of Copy of IMG_3084.MOV: 384x640 2 persons, 15.7ms\n",
            "video 1/1 (frame 3/361) /content/drive/MyDrive/stairvision/dataset/east/videos/Copy of Copy of IMG_3084.MOV: 384x640 2 persons, 15.5ms\n",
            "video 1/1 (frame 4/361) /content/drive/MyDrive/stairvision/dataset/east/videos/Copy of Copy of IMG_3084.MOV: 384x640 2 persons, 19.1ms\n",
            "video 1/1 (frame 5/361) /content/drive/MyDrive/stairvision/dataset/east/videos/Copy of Copy of IMG_3084.MOV: 384x640 2 persons, 16.0ms\n",
            "video 1/1 (frame 6/361) /content/drive/MyDrive/stairvision/dataset/east/videos/Copy of Copy of IMG_3084.MOV: 384x640 2 persons, 16.0ms\n",
            "video 1/1 (frame 7/361) /content/drive/MyDrive/stairvision/dataset/east/videos/Copy of Copy of IMG_3084.MOV: 384x640 2 persons, 17.3ms\n",
            "video 1/1 (frame 8/361) /content/drive/MyDrive/stairvision/dataset/east/videos/Copy of Copy of IMG_3084.MOV: 384x640 2 persons, 16.6ms\n",
            "video 1/1 (frame 9/361) /content/drive/MyDrive/stairvision/dataset/east/videos/Copy of Copy of IMG_3084.MOV: 384x640 2 persons, 16.0ms\n",
            "video 1/1 (frame 10/361) /content/drive/MyDrive/stairvision/dataset/east/videos/Copy of Copy of IMG_3084.MOV: 384x640 2 persons, 41.3ms\n",
            "video 1/1 (frame 11/361) /content/drive/MyDrive/stairvision/dataset/east/videos/Copy of Copy of IMG_3084.MOV: 384x640 2 persons, 16.2ms\n",
            "video 1/1 (frame 12/361) /content/drive/MyDrive/stairvision/dataset/east/videos/Copy of Copy of IMG_3084.MOV: 384x640 2 persons, 15.7ms\n",
            "video 1/1 (frame 13/361) /content/drive/MyDrive/stairvision/dataset/east/videos/Copy of Copy of IMG_3084.MOV: 384x640 2 persons, 16.2ms\n",
            "video 1/1 (frame 14/361) /content/drive/MyDrive/stairvision/dataset/east/videos/Copy of Copy of IMG_3084.MOV: 384x640 2 persons, 16.2ms\n",
            "video 1/1 (frame 15/361) /content/drive/MyDrive/stairvision/dataset/east/videos/Copy of Copy of IMG_3084.MOV: 384x640 2 persons, 16.2ms\n",
            "video 1/1 (frame 16/361) /content/drive/MyDrive/stairvision/dataset/east/videos/Copy of Copy of IMG_3084.MOV: 384x640 2 persons, 17.4ms\n",
            "video 1/1 (frame 17/361) /content/drive/MyDrive/stairvision/dataset/east/videos/Copy of Copy of IMG_3084.MOV: 384x640 2 persons, 40.7ms\n",
            "video 1/1 (frame 18/361) /content/drive/MyDrive/stairvision/dataset/east/videos/Copy of Copy of IMG_3084.MOV: 384x640 2 persons, 36.9ms\n",
            "video 1/1 (frame 19/361) /content/drive/MyDrive/stairvision/dataset/east/videos/Copy of Copy of IMG_3084.MOV: 384x640 2 persons, 41.1ms\n",
            "video 1/1 (frame 20/361) /content/drive/MyDrive/stairvision/dataset/east/videos/Copy of Copy of IMG_3084.MOV: 384x640 2 persons, 18.2ms\n",
            "video 1/1 (frame 21/361) /content/drive/MyDrive/stairvision/dataset/east/videos/Copy of Copy of IMG_3084.MOV: 384x640 2 persons, 16.8ms\n",
            "video 1/1 (frame 22/361) /content/drive/MyDrive/stairvision/dataset/east/videos/Copy of Copy of IMG_3084.MOV: 384x640 2 persons, 20.1ms\n",
            "video 1/1 (frame 23/361) /content/drive/MyDrive/stairvision/dataset/east/videos/Copy of Copy of IMG_3084.MOV: 384x640 2 persons, 31.0ms\n",
            "video 1/1 (frame 24/361) /content/drive/MyDrive/stairvision/dataset/east/videos/Copy of Copy of IMG_3084.MOV: 384x640 2 persons, 22.0ms\n",
            "video 1/1 (frame 25/361) /content/drive/MyDrive/stairvision/dataset/east/videos/Copy of Copy of IMG_3084.MOV: 384x640 2 persons, 15.2ms\n",
            "video 1/1 (frame 26/361) /content/drive/MyDrive/stairvision/dataset/east/videos/Copy of Copy of IMG_3084.MOV: 384x640 2 persons, 24.7ms\n",
            "video 1/1 (frame 27/361) /content/drive/MyDrive/stairvision/dataset/east/videos/Copy of Copy of IMG_3084.MOV: 384x640 2 persons, 19.0ms\n",
            "video 1/1 (frame 28/361) /content/drive/MyDrive/stairvision/dataset/east/videos/Copy of Copy of IMG_3084.MOV: 384x640 2 persons, 27.6ms\n",
            "video 1/1 (frame 29/361) /content/drive/MyDrive/stairvision/dataset/east/videos/Copy of Copy of IMG_3084.MOV: 384x640 2 persons, 13.8ms\n",
            "video 1/1 (frame 30/361) /content/drive/MyDrive/stairvision/dataset/east/videos/Copy of Copy of IMG_3084.MOV: 384x640 2 persons, 22.1ms\n",
            "video 1/1 (frame 31/361) /content/drive/MyDrive/stairvision/dataset/east/videos/Copy of Copy of IMG_3084.MOV: 384x640 2 persons, 30.9ms\n",
            "video 1/1 (frame 32/361) /content/drive/MyDrive/stairvision/dataset/east/videos/Copy of Copy of IMG_3084.MOV: 384x640 2 persons, 16.5ms\n",
            "video 1/1 (frame 33/361) /content/drive/MyDrive/stairvision/dataset/east/videos/Copy of Copy of IMG_3084.MOV: 384x640 2 persons, 25.0ms\n",
            "video 1/1 (frame 34/361) /content/drive/MyDrive/stairvision/dataset/east/videos/Copy of Copy of IMG_3084.MOV: 384x640 2 persons, 15.1ms\n",
            "video 1/1 (frame 35/361) /content/drive/MyDrive/stairvision/dataset/east/videos/Copy of Copy of IMG_3084.MOV: 384x640 2 persons, 26.0ms\n",
            "video 1/1 (frame 36/361) /content/drive/MyDrive/stairvision/dataset/east/videos/Copy of Copy of IMG_3084.MOV: 384x640 2 persons, 17.4ms\n",
            "video 1/1 (frame 37/361) /content/drive/MyDrive/stairvision/dataset/east/videos/Copy of Copy of IMG_3084.MOV: 384x640 2 persons, 15.8ms\n",
            "video 1/1 (frame 38/361) /content/drive/MyDrive/stairvision/dataset/east/videos/Copy of Copy of IMG_3084.MOV: 384x640 2 persons, 16.5ms\n",
            "video 1/1 (frame 39/361) /content/drive/MyDrive/stairvision/dataset/east/videos/Copy of Copy of IMG_3084.MOV: 384x640 2 persons, 15.8ms\n",
            "video 1/1 (frame 40/361) /content/drive/MyDrive/stairvision/dataset/east/videos/Copy of Copy of IMG_3084.MOV: 384x640 2 persons, 15.6ms\n",
            "video 1/1 (frame 41/361) /content/drive/MyDrive/stairvision/dataset/east/videos/Copy of Copy of IMG_3084.MOV: 384x640 2 persons, 16.3ms\n",
            "video 1/1 (frame 42/361) /content/drive/MyDrive/stairvision/dataset/east/videos/Copy of Copy of IMG_3084.MOV: 384x640 2 persons, 16.2ms\n",
            "video 1/1 (frame 43/361) /content/drive/MyDrive/stairvision/dataset/east/videos/Copy of Copy of IMG_3084.MOV: 384x640 2 persons, 15.6ms\n",
            "video 1/1 (frame 44/361) /content/drive/MyDrive/stairvision/dataset/east/videos/Copy of Copy of IMG_3084.MOV: 384x640 2 persons, 15.5ms\n",
            "video 1/1 (frame 45/361) /content/drive/MyDrive/stairvision/dataset/east/videos/Copy of Copy of IMG_3084.MOV: 384x640 2 persons, 15.8ms\n",
            "video 1/1 (frame 46/361) /content/drive/MyDrive/stairvision/dataset/east/videos/Copy of Copy of IMG_3084.MOV: 384x640 2 persons, 15.9ms\n",
            "video 1/1 (frame 47/361) /content/drive/MyDrive/stairvision/dataset/east/videos/Copy of Copy of IMG_3084.MOV: 384x640 2 persons, 15.6ms\n",
            "video 1/1 (frame 48/361) /content/drive/MyDrive/stairvision/dataset/east/videos/Copy of Copy of IMG_3084.MOV: 384x640 2 persons, 16.3ms\n",
            "video 1/1 (frame 49/361) /content/drive/MyDrive/stairvision/dataset/east/videos/Copy of Copy of IMG_3084.MOV: 384x640 2 persons, 15.7ms\n",
            "video 1/1 (frame 50/361) /content/drive/MyDrive/stairvision/dataset/east/videos/Copy of Copy of IMG_3084.MOV: 384x640 2 persons, 15.5ms\n",
            "video 1/1 (frame 51/361) /content/drive/MyDrive/stairvision/dataset/east/videos/Copy of Copy of IMG_3084.MOV: 384x640 2 persons, 15.1ms\n",
            "video 1/1 (frame 52/361) /content/drive/MyDrive/stairvision/dataset/east/videos/Copy of Copy of IMG_3084.MOV: 384x640 2 persons, 15.6ms\n",
            "video 1/1 (frame 53/361) /content/drive/MyDrive/stairvision/dataset/east/videos/Copy of Copy of IMG_3084.MOV: 384x640 2 persons, 15.7ms\n",
            "video 1/1 (frame 54/361) /content/drive/MyDrive/stairvision/dataset/east/videos/Copy of Copy of IMG_3084.MOV: 384x640 2 persons, 25.7ms\n",
            "video 1/1 (frame 55/361) /content/drive/MyDrive/stairvision/dataset/east/videos/Copy of Copy of IMG_3084.MOV: 384x640 2 persons, 68.8ms\n",
            "video 1/1 (frame 56/361) /content/drive/MyDrive/stairvision/dataset/east/videos/Copy of Copy of IMG_3084.MOV: 384x640 2 persons, 16.6ms\n",
            "video 1/1 (frame 57/361) /content/drive/MyDrive/stairvision/dataset/east/videos/Copy of Copy of IMG_3084.MOV: 384x640 2 persons, 15.9ms\n",
            "video 1/1 (frame 58/361) /content/drive/MyDrive/stairvision/dataset/east/videos/Copy of Copy of IMG_3084.MOV: 384x640 2 persons, 15.7ms\n",
            "video 1/1 (frame 59/361) /content/drive/MyDrive/stairvision/dataset/east/videos/Copy of Copy of IMG_3084.MOV: 384x640 2 persons, 15.3ms\n",
            "video 1/1 (frame 60/361) /content/drive/MyDrive/stairvision/dataset/east/videos/Copy of Copy of IMG_3084.MOV: 384x640 2 persons, 16.3ms\n",
            "video 1/1 (frame 61/361) /content/drive/MyDrive/stairvision/dataset/east/videos/Copy of Copy of IMG_3084.MOV: 384x640 2 persons, 16.2ms\n",
            "video 1/1 (frame 62/361) /content/drive/MyDrive/stairvision/dataset/east/videos/Copy of Copy of IMG_3084.MOV: 384x640 2 persons, 16.2ms\n",
            "video 1/1 (frame 63/361) /content/drive/MyDrive/stairvision/dataset/east/videos/Copy of Copy of IMG_3084.MOV: 384x640 2 persons, 18.1ms\n",
            "video 1/1 (frame 64/361) /content/drive/MyDrive/stairvision/dataset/east/videos/Copy of Copy of IMG_3084.MOV: 384x640 2 persons, 32.2ms\n",
            "video 1/1 (frame 65/361) /content/drive/MyDrive/stairvision/dataset/east/videos/Copy of Copy of IMG_3084.MOV: 384x640 2 persons, 15.3ms\n",
            "video 1/1 (frame 66/361) /content/drive/MyDrive/stairvision/dataset/east/videos/Copy of Copy of IMG_3084.MOV: 384x640 2 persons, 20.3ms\n",
            "video 1/1 (frame 67/361) /content/drive/MyDrive/stairvision/dataset/east/videos/Copy of Copy of IMG_3084.MOV: 384x640 2 persons, 16.2ms\n",
            "video 1/1 (frame 68/361) /content/drive/MyDrive/stairvision/dataset/east/videos/Copy of Copy of IMG_3084.MOV: 384x640 2 persons, 16.1ms\n",
            "video 1/1 (frame 69/361) /content/drive/MyDrive/stairvision/dataset/east/videos/Copy of Copy of IMG_3084.MOV: 384x640 2 persons, 17.2ms\n",
            "video 1/1 (frame 70/361) /content/drive/MyDrive/stairvision/dataset/east/videos/Copy of Copy of IMG_3084.MOV: 384x640 2 persons, 16.7ms\n",
            "video 1/1 (frame 71/361) /content/drive/MyDrive/stairvision/dataset/east/videos/Copy of Copy of IMG_3084.MOV: 384x640 2 persons, 16.3ms\n",
            "video 1/1 (frame 72/361) /content/drive/MyDrive/stairvision/dataset/east/videos/Copy of Copy of IMG_3084.MOV: 384x640 2 persons, 17.8ms\n",
            "video 1/1 (frame 73/361) /content/drive/MyDrive/stairvision/dataset/east/videos/Copy of Copy of IMG_3084.MOV: 384x640 2 persons, 16.5ms\n",
            "video 1/1 (frame 74/361) /content/drive/MyDrive/stairvision/dataset/east/videos/Copy of Copy of IMG_3084.MOV: 384x640 2 persons, 18.8ms\n",
            "video 1/1 (frame 75/361) /content/drive/MyDrive/stairvision/dataset/east/videos/Copy of Copy of IMG_3084.MOV: 384x640 2 persons, 16.5ms\n",
            "video 1/1 (frame 76/361) /content/drive/MyDrive/stairvision/dataset/east/videos/Copy of Copy of IMG_3084.MOV: 384x640 2 persons, 16.0ms\n",
            "video 1/1 (frame 77/361) /content/drive/MyDrive/stairvision/dataset/east/videos/Copy of Copy of IMG_3084.MOV: 384x640 2 persons, 17.5ms\n",
            "video 1/1 (frame 78/361) /content/drive/MyDrive/stairvision/dataset/east/videos/Copy of Copy of IMG_3084.MOV: 384x640 2 persons, 21.5ms\n",
            "video 1/1 (frame 79/361) /content/drive/MyDrive/stairvision/dataset/east/videos/Copy of Copy of IMG_3084.MOV: 384x640 2 persons, 21.0ms\n",
            "video 1/1 (frame 80/361) /content/drive/MyDrive/stairvision/dataset/east/videos/Copy of Copy of IMG_3084.MOV: 384x640 2 persons, 16.2ms\n",
            "video 1/1 (frame 81/361) /content/drive/MyDrive/stairvision/dataset/east/videos/Copy of Copy of IMG_3084.MOV: 384x640 2 persons, 16.1ms\n",
            "video 1/1 (frame 82/361) /content/drive/MyDrive/stairvision/dataset/east/videos/Copy of Copy of IMG_3084.MOV: 384x640 2 persons, 16.0ms\n",
            "video 1/1 (frame 83/361) /content/drive/MyDrive/stairvision/dataset/east/videos/Copy of Copy of IMG_3084.MOV: 384x640 2 persons, 16.9ms\n",
            "video 1/1 (frame 84/361) /content/drive/MyDrive/stairvision/dataset/east/videos/Copy of Copy of IMG_3084.MOV: 384x640 2 persons, 20.9ms\n",
            "video 1/1 (frame 85/361) /content/drive/MyDrive/stairvision/dataset/east/videos/Copy of Copy of IMG_3084.MOV: 384x640 2 persons, 15.0ms\n",
            "video 1/1 (frame 86/361) /content/drive/MyDrive/stairvision/dataset/east/videos/Copy of Copy of IMG_3084.MOV: 384x640 2 persons, 16.2ms\n",
            "video 1/1 (frame 87/361) /content/drive/MyDrive/stairvision/dataset/east/videos/Copy of Copy of IMG_3084.MOV: 384x640 2 persons, 26.0ms\n",
            "video 1/1 (frame 88/361) /content/drive/MyDrive/stairvision/dataset/east/videos/Copy of Copy of IMG_3084.MOV: 384x640 2 persons, 14.9ms\n",
            "video 1/1 (frame 89/361) /content/drive/MyDrive/stairvision/dataset/east/videos/Copy of Copy of IMG_3084.MOV: 384x640 2 persons, 13.9ms\n",
            "video 1/1 (frame 90/361) /content/drive/MyDrive/stairvision/dataset/east/videos/Copy of Copy of IMG_3084.MOV: 384x640 2 persons, 28.2ms\n",
            "video 1/1 (frame 91/361) /content/drive/MyDrive/stairvision/dataset/east/videos/Copy of Copy of IMG_3084.MOV: 384x640 2 persons, 22.6ms\n",
            "video 1/1 (frame 92/361) /content/drive/MyDrive/stairvision/dataset/east/videos/Copy of Copy of IMG_3084.MOV: 384x640 2 persons, 23.6ms\n",
            "video 1/1 (frame 93/361) /content/drive/MyDrive/stairvision/dataset/east/videos/Copy of Copy of IMG_3084.MOV: 384x640 2 persons, 29.8ms\n",
            "video 1/1 (frame 94/361) /content/drive/MyDrive/stairvision/dataset/east/videos/Copy of Copy of IMG_3084.MOV: 384x640 2 persons, 24.5ms\n",
            "video 1/1 (frame 95/361) /content/drive/MyDrive/stairvision/dataset/east/videos/Copy of Copy of IMG_3084.MOV: 384x640 2 persons, 15.8ms\n",
            "video 1/1 (frame 96/361) /content/drive/MyDrive/stairvision/dataset/east/videos/Copy of Copy of IMG_3084.MOV: 384x640 2 persons, 15.6ms\n",
            "video 1/1 (frame 97/361) /content/drive/MyDrive/stairvision/dataset/east/videos/Copy of Copy of IMG_3084.MOV: 384x640 2 persons, 16.4ms\n",
            "video 1/1 (frame 98/361) /content/drive/MyDrive/stairvision/dataset/east/videos/Copy of Copy of IMG_3084.MOV: 384x640 2 persons, 18.4ms\n",
            "video 1/1 (frame 99/361) /content/drive/MyDrive/stairvision/dataset/east/videos/Copy of Copy of IMG_3084.MOV: 384x640 2 persons, 16.5ms\n",
            "video 1/1 (frame 100/361) /content/drive/MyDrive/stairvision/dataset/east/videos/Copy of Copy of IMG_3084.MOV: 384x640 2 persons, 16.9ms\n",
            "video 1/1 (frame 101/361) /content/drive/MyDrive/stairvision/dataset/east/videos/Copy of Copy of IMG_3084.MOV: 384x640 2 persons, 15.7ms\n",
            "video 1/1 (frame 102/361) /content/drive/MyDrive/stairvision/dataset/east/videos/Copy of Copy of IMG_3084.MOV: 384x640 2 persons, 15.5ms\n",
            "video 1/1 (frame 103/361) /content/drive/MyDrive/stairvision/dataset/east/videos/Copy of Copy of IMG_3084.MOV: 384x640 2 persons, 16.2ms\n",
            "video 1/1 (frame 104/361) /content/drive/MyDrive/stairvision/dataset/east/videos/Copy of Copy of IMG_3084.MOV: 384x640 2 persons, 16.1ms\n",
            "video 1/1 (frame 105/361) /content/drive/MyDrive/stairvision/dataset/east/videos/Copy of Copy of IMG_3084.MOV: 384x640 2 persons, 15.6ms\n",
            "video 1/1 (frame 106/361) /content/drive/MyDrive/stairvision/dataset/east/videos/Copy of Copy of IMG_3084.MOV: 384x640 2 persons, 17.0ms\n",
            "video 1/1 (frame 107/361) /content/drive/MyDrive/stairvision/dataset/east/videos/Copy of Copy of IMG_3084.MOV: 384x640 2 persons, 15.3ms\n",
            "video 1/1 (frame 108/361) /content/drive/MyDrive/stairvision/dataset/east/videos/Copy of Copy of IMG_3084.MOV: 384x640 2 persons, 16.5ms\n",
            "video 1/1 (frame 109/361) /content/drive/MyDrive/stairvision/dataset/east/videos/Copy of Copy of IMG_3084.MOV: 384x640 2 persons, 16.3ms\n",
            "video 1/1 (frame 110/361) /content/drive/MyDrive/stairvision/dataset/east/videos/Copy of Copy of IMG_3084.MOV: 384x640 2 persons, 16.2ms\n",
            "video 1/1 (frame 111/361) /content/drive/MyDrive/stairvision/dataset/east/videos/Copy of Copy of IMG_3084.MOV: 384x640 2 persons, 16.1ms\n",
            "video 1/1 (frame 112/361) /content/drive/MyDrive/stairvision/dataset/east/videos/Copy of Copy of IMG_3084.MOV: 384x640 2 persons, 16.6ms\n",
            "video 1/1 (frame 113/361) /content/drive/MyDrive/stairvision/dataset/east/videos/Copy of Copy of IMG_3084.MOV: 384x640 2 persons, 16.8ms\n",
            "video 1/1 (frame 114/361) /content/drive/MyDrive/stairvision/dataset/east/videos/Copy of Copy of IMG_3084.MOV: 384x640 2 persons, 16.2ms\n",
            "video 1/1 (frame 115/361) /content/drive/MyDrive/stairvision/dataset/east/videos/Copy of Copy of IMG_3084.MOV: 384x640 2 persons, 15.6ms\n",
            "video 1/1 (frame 116/361) /content/drive/MyDrive/stairvision/dataset/east/videos/Copy of Copy of IMG_3084.MOV: 384x640 2 persons, 15.7ms\n",
            "video 1/1 (frame 117/361) /content/drive/MyDrive/stairvision/dataset/east/videos/Copy of Copy of IMG_3084.MOV: 384x640 2 persons, 15.6ms\n",
            "video 1/1 (frame 118/361) /content/drive/MyDrive/stairvision/dataset/east/videos/Copy of Copy of IMG_3084.MOV: 384x640 2 persons, 16.2ms\n",
            "video 1/1 (frame 119/361) /content/drive/MyDrive/stairvision/dataset/east/videos/Copy of Copy of IMG_3084.MOV: 384x640 2 persons, 16.3ms\n",
            "video 1/1 (frame 120/361) /content/drive/MyDrive/stairvision/dataset/east/videos/Copy of Copy of IMG_3084.MOV: 384x640 2 persons, 15.9ms\n",
            "video 1/1 (frame 121/361) /content/drive/MyDrive/stairvision/dataset/east/videos/Copy of Copy of IMG_3084.MOV: 384x640 2 persons, 17.2ms\n",
            "video 1/1 (frame 122/361) /content/drive/MyDrive/stairvision/dataset/east/videos/Copy of Copy of IMG_3084.MOV: 384x640 2 persons, 15.9ms\n",
            "video 1/1 (frame 123/361) /content/drive/MyDrive/stairvision/dataset/east/videos/Copy of Copy of IMG_3084.MOV: 384x640 2 persons, 15.3ms\n",
            "video 1/1 (frame 124/361) /content/drive/MyDrive/stairvision/dataset/east/videos/Copy of Copy of IMG_3084.MOV: 384x640 2 persons, 16.8ms\n",
            "video 1/1 (frame 125/361) /content/drive/MyDrive/stairvision/dataset/east/videos/Copy of Copy of IMG_3084.MOV: 384x640 2 persons, 16.9ms\n",
            "video 1/1 (frame 126/361) /content/drive/MyDrive/stairvision/dataset/east/videos/Copy of Copy of IMG_3084.MOV: 384x640 2 persons, 16.7ms\n",
            "video 1/1 (frame 127/361) /content/drive/MyDrive/stairvision/dataset/east/videos/Copy of Copy of IMG_3084.MOV: 384x640 2 persons, 19.7ms\n",
            "video 1/1 (frame 128/361) /content/drive/MyDrive/stairvision/dataset/east/videos/Copy of Copy of IMG_3084.MOV: 384x640 2 persons, 16.0ms\n",
            "video 1/1 (frame 129/361) /content/drive/MyDrive/stairvision/dataset/east/videos/Copy of Copy of IMG_3084.MOV: 384x640 2 persons, 15.4ms\n",
            "video 1/1 (frame 130/361) /content/drive/MyDrive/stairvision/dataset/east/videos/Copy of Copy of IMG_3084.MOV: 384x640 2 persons, 16.9ms\n",
            "video 1/1 (frame 131/361) /content/drive/MyDrive/stairvision/dataset/east/videos/Copy of Copy of IMG_3084.MOV: 384x640 2 persons, 16.5ms\n",
            "video 1/1 (frame 132/361) /content/drive/MyDrive/stairvision/dataset/east/videos/Copy of Copy of IMG_3084.MOV: 384x640 2 persons, 17.5ms\n",
            "video 1/1 (frame 133/361) /content/drive/MyDrive/stairvision/dataset/east/videos/Copy of Copy of IMG_3084.MOV: 384x640 2 persons, 17.5ms\n",
            "video 1/1 (frame 134/361) /content/drive/MyDrive/stairvision/dataset/east/videos/Copy of Copy of IMG_3084.MOV: 384x640 2 persons, 15.8ms\n",
            "video 1/1 (frame 135/361) /content/drive/MyDrive/stairvision/dataset/east/videos/Copy of Copy of IMG_3084.MOV: 384x640 2 persons, 15.9ms\n",
            "video 1/1 (frame 136/361) /content/drive/MyDrive/stairvision/dataset/east/videos/Copy of Copy of IMG_3084.MOV: 384x640 2 persons, 16.9ms\n",
            "video 1/1 (frame 137/361) /content/drive/MyDrive/stairvision/dataset/east/videos/Copy of Copy of IMG_3084.MOV: 384x640 2 persons, 16.4ms\n",
            "video 1/1 (frame 138/361) /content/drive/MyDrive/stairvision/dataset/east/videos/Copy of Copy of IMG_3084.MOV: 384x640 2 persons, 16.0ms\n",
            "video 1/1 (frame 139/361) /content/drive/MyDrive/stairvision/dataset/east/videos/Copy of Copy of IMG_3084.MOV: 384x640 2 persons, 17.9ms\n",
            "video 1/1 (frame 140/361) /content/drive/MyDrive/stairvision/dataset/east/videos/Copy of Copy of IMG_3084.MOV: 384x640 2 persons, 16.5ms\n",
            "video 1/1 (frame 141/361) /content/drive/MyDrive/stairvision/dataset/east/videos/Copy of Copy of IMG_3084.MOV: 384x640 2 persons, 14.1ms\n",
            "video 1/1 (frame 142/361) /content/drive/MyDrive/stairvision/dataset/east/videos/Copy of Copy of IMG_3084.MOV: 384x640 2 persons, 38.7ms\n",
            "video 1/1 (frame 143/361) /content/drive/MyDrive/stairvision/dataset/east/videos/Copy of Copy of IMG_3084.MOV: 384x640 2 persons, 27.1ms\n",
            "video 1/1 (frame 144/361) /content/drive/MyDrive/stairvision/dataset/east/videos/Copy of Copy of IMG_3084.MOV: 384x640 2 persons, 26.1ms\n",
            "video 1/1 (frame 145/361) /content/drive/MyDrive/stairvision/dataset/east/videos/Copy of Copy of IMG_3084.MOV: 384x640 2 persons, 15.0ms\n",
            "video 1/1 (frame 146/361) /content/drive/MyDrive/stairvision/dataset/east/videos/Copy of Copy of IMG_3084.MOV: 384x640 2 persons, 26.0ms\n",
            "video 1/1 (frame 147/361) /content/drive/MyDrive/stairvision/dataset/east/videos/Copy of Copy of IMG_3084.MOV: 384x640 2 persons, 26.2ms\n",
            "video 1/1 (frame 148/361) /content/drive/MyDrive/stairvision/dataset/east/videos/Copy of Copy of IMG_3084.MOV: 384x640 2 persons, 26.1ms\n",
            "video 1/1 (frame 149/361) /content/drive/MyDrive/stairvision/dataset/east/videos/Copy of Copy of IMG_3084.MOV: 384x640 2 persons, 14.5ms\n",
            "video 1/1 (frame 150/361) /content/drive/MyDrive/stairvision/dataset/east/videos/Copy of Copy of IMG_3084.MOV: 384x640 2 persons, 30.3ms\n",
            "video 1/1 (frame 151/361) /content/drive/MyDrive/stairvision/dataset/east/videos/Copy of Copy of IMG_3084.MOV: 384x640 2 persons, 35.5ms\n",
            "video 1/1 (frame 152/361) /content/drive/MyDrive/stairvision/dataset/east/videos/Copy of Copy of IMG_3084.MOV: 384x640 2 persons, 27.6ms\n",
            "video 1/1 (frame 153/361) /content/drive/MyDrive/stairvision/dataset/east/videos/Copy of Copy of IMG_3084.MOV: 384x640 2 persons, 16.0ms\n",
            "video 1/1 (frame 154/361) /content/drive/MyDrive/stairvision/dataset/east/videos/Copy of Copy of IMG_3084.MOV: 384x640 2 persons, 15.9ms\n",
            "video 1/1 (frame 155/361) /content/drive/MyDrive/stairvision/dataset/east/videos/Copy of Copy of IMG_3084.MOV: 384x640 2 persons, 15.9ms\n",
            "video 1/1 (frame 156/361) /content/drive/MyDrive/stairvision/dataset/east/videos/Copy of Copy of IMG_3084.MOV: 384x640 2 persons, 16.1ms\n",
            "video 1/1 (frame 157/361) /content/drive/MyDrive/stairvision/dataset/east/videos/Copy of Copy of IMG_3084.MOV: 384x640 2 persons, 16.9ms\n",
            "video 1/1 (frame 158/361) /content/drive/MyDrive/stairvision/dataset/east/videos/Copy of Copy of IMG_3084.MOV: 384x640 2 persons, 15.4ms\n",
            "video 1/1 (frame 159/361) /content/drive/MyDrive/stairvision/dataset/east/videos/Copy of Copy of IMG_3084.MOV: 384x640 2 persons, 16.2ms\n",
            "video 1/1 (frame 160/361) /content/drive/MyDrive/stairvision/dataset/east/videos/Copy of Copy of IMG_3084.MOV: 384x640 2 persons, 15.7ms\n",
            "video 1/1 (frame 161/361) /content/drive/MyDrive/stairvision/dataset/east/videos/Copy of Copy of IMG_3084.MOV: 384x640 2 persons, 15.7ms\n",
            "video 1/1 (frame 162/361) /content/drive/MyDrive/stairvision/dataset/east/videos/Copy of Copy of IMG_3084.MOV: 384x640 2 persons, 16.7ms\n",
            "video 1/1 (frame 163/361) /content/drive/MyDrive/stairvision/dataset/east/videos/Copy of Copy of IMG_3084.MOV: 384x640 2 persons, 15.9ms\n",
            "video 1/1 (frame 164/361) /content/drive/MyDrive/stairvision/dataset/east/videos/Copy of Copy of IMG_3084.MOV: 384x640 2 persons, 19.5ms\n",
            "video 1/1 (frame 165/361) /content/drive/MyDrive/stairvision/dataset/east/videos/Copy of Copy of IMG_3084.MOV: 384x640 2 persons, 23.0ms\n",
            "video 1/1 (frame 166/361) /content/drive/MyDrive/stairvision/dataset/east/videos/Copy of Copy of IMG_3084.MOV: 384x640 2 persons, 15.5ms\n",
            "video 1/1 (frame 167/361) /content/drive/MyDrive/stairvision/dataset/east/videos/Copy of Copy of IMG_3084.MOV: 384x640 2 persons, 15.8ms\n",
            "video 1/1 (frame 168/361) /content/drive/MyDrive/stairvision/dataset/east/videos/Copy of Copy of IMG_3084.MOV: 384x640 2 persons, 16.1ms\n",
            "video 1/1 (frame 169/361) /content/drive/MyDrive/stairvision/dataset/east/videos/Copy of Copy of IMG_3084.MOV: 384x640 2 persons, 16.2ms\n",
            "video 1/1 (frame 170/361) /content/drive/MyDrive/stairvision/dataset/east/videos/Copy of Copy of IMG_3084.MOV: 384x640 2 persons, 16.7ms\n",
            "video 1/1 (frame 171/361) /content/drive/MyDrive/stairvision/dataset/east/videos/Copy of Copy of IMG_3084.MOV: 384x640 2 persons, 16.0ms\n",
            "video 1/1 (frame 172/361) /content/drive/MyDrive/stairvision/dataset/east/videos/Copy of Copy of IMG_3084.MOV: 384x640 2 persons, 15.7ms\n",
            "video 1/1 (frame 173/361) /content/drive/MyDrive/stairvision/dataset/east/videos/Copy of Copy of IMG_3084.MOV: 384x640 2 persons, 15.9ms\n",
            "video 1/1 (frame 174/361) /content/drive/MyDrive/stairvision/dataset/east/videos/Copy of Copy of IMG_3084.MOV: 384x640 2 persons, 16.3ms\n",
            "video 1/1 (frame 175/361) /content/drive/MyDrive/stairvision/dataset/east/videos/Copy of Copy of IMG_3084.MOV: 384x640 2 persons, 16.0ms\n",
            "video 1/1 (frame 176/361) /content/drive/MyDrive/stairvision/dataset/east/videos/Copy of Copy of IMG_3084.MOV: 384x640 2 persons, 16.1ms\n",
            "video 1/1 (frame 177/361) /content/drive/MyDrive/stairvision/dataset/east/videos/Copy of Copy of IMG_3084.MOV: 384x640 2 persons, 19.9ms\n",
            "video 1/1 (frame 178/361) /content/drive/MyDrive/stairvision/dataset/east/videos/Copy of Copy of IMG_3084.MOV: 384x640 2 persons, 15.4ms\n",
            "video 1/1 (frame 179/361) /content/drive/MyDrive/stairvision/dataset/east/videos/Copy of Copy of IMG_3084.MOV: 384x640 2 persons, 16.2ms\n",
            "video 1/1 (frame 180/361) /content/drive/MyDrive/stairvision/dataset/east/videos/Copy of Copy of IMG_3084.MOV: 384x640 2 persons, 16.0ms\n",
            "video 1/1 (frame 181/361) /content/drive/MyDrive/stairvision/dataset/east/videos/Copy of Copy of IMG_3084.MOV: 384x640 2 persons, 16.0ms\n",
            "video 1/1 (frame 182/361) /content/drive/MyDrive/stairvision/dataset/east/videos/Copy of Copy of IMG_3084.MOV: 384x640 2 persons, 16.4ms\n",
            "video 1/1 (frame 183/361) /content/drive/MyDrive/stairvision/dataset/east/videos/Copy of Copy of IMG_3084.MOV: 384x640 2 persons, 16.4ms\n",
            "video 1/1 (frame 184/361) /content/drive/MyDrive/stairvision/dataset/east/videos/Copy of Copy of IMG_3084.MOV: 384x640 2 persons, 16.5ms\n",
            "video 1/1 (frame 185/361) /content/drive/MyDrive/stairvision/dataset/east/videos/Copy of Copy of IMG_3084.MOV: 384x640 2 persons, 16.6ms\n",
            "video 1/1 (frame 186/361) /content/drive/MyDrive/stairvision/dataset/east/videos/Copy of Copy of IMG_3084.MOV: 384x640 2 persons, 15.7ms\n",
            "video 1/1 (frame 187/361) /content/drive/MyDrive/stairvision/dataset/east/videos/Copy of Copy of IMG_3084.MOV: 384x640 2 persons, 16.3ms\n",
            "video 1/1 (frame 188/361) /content/drive/MyDrive/stairvision/dataset/east/videos/Copy of Copy of IMG_3084.MOV: 384x640 2 persons, 15.7ms\n",
            "video 1/1 (frame 189/361) /content/drive/MyDrive/stairvision/dataset/east/videos/Copy of Copy of IMG_3084.MOV: 384x640 2 persons, 21.4ms\n",
            "video 1/1 (frame 190/361) /content/drive/MyDrive/stairvision/dataset/east/videos/Copy of Copy of IMG_3084.MOV: 384x640 2 persons, 16.4ms\n",
            "video 1/1 (frame 191/361) /content/drive/MyDrive/stairvision/dataset/east/videos/Copy of Copy of IMG_3084.MOV: 384x640 2 persons, 16.2ms\n",
            "video 1/1 (frame 192/361) /content/drive/MyDrive/stairvision/dataset/east/videos/Copy of Copy of IMG_3084.MOV: 384x640 2 persons, 15.9ms\n",
            "video 1/1 (frame 193/361) /content/drive/MyDrive/stairvision/dataset/east/videos/Copy of Copy of IMG_3084.MOV: 384x640 2 persons, 16.1ms\n",
            "video 1/1 (frame 194/361) /content/drive/MyDrive/stairvision/dataset/east/videos/Copy of Copy of IMG_3084.MOV: 384x640 2 persons, 25.9ms\n",
            "video 1/1 (frame 195/361) /content/drive/MyDrive/stairvision/dataset/east/videos/Copy of Copy of IMG_3084.MOV: 384x640 2 persons, 53.6ms\n",
            "video 1/1 (frame 196/361) /content/drive/MyDrive/stairvision/dataset/east/videos/Copy of Copy of IMG_3084.MOV: 384x640 2 persons, 31.0ms\n",
            "video 1/1 (frame 197/361) /content/drive/MyDrive/stairvision/dataset/east/videos/Copy of Copy of IMG_3084.MOV: 384x640 2 persons, 16.5ms\n",
            "video 1/1 (frame 198/361) /content/drive/MyDrive/stairvision/dataset/east/videos/Copy of Copy of IMG_3084.MOV: 384x640 2 persons, 15.8ms\n",
            "video 1/1 (frame 199/361) /content/drive/MyDrive/stairvision/dataset/east/videos/Copy of Copy of IMG_3084.MOV: 384x640 2 persons, 17.1ms\n",
            "video 1/1 (frame 200/361) /content/drive/MyDrive/stairvision/dataset/east/videos/Copy of Copy of IMG_3084.MOV: 384x640 2 persons, 31.6ms\n",
            "video 1/1 (frame 201/361) /content/drive/MyDrive/stairvision/dataset/east/videos/Copy of Copy of IMG_3084.MOV: 384x640 2 persons, 324.7ms\n",
            "video 1/1 (frame 202/361) /content/drive/MyDrive/stairvision/dataset/east/videos/Copy of Copy of IMG_3084.MOV: 384x640 2 persons, 14.8ms\n",
            "video 1/1 (frame 203/361) /content/drive/MyDrive/stairvision/dataset/east/videos/Copy of Copy of IMG_3084.MOV: 384x640 2 persons, 19.7ms\n",
            "video 1/1 (frame 204/361) /content/drive/MyDrive/stairvision/dataset/east/videos/Copy of Copy of IMG_3084.MOV: 384x640 2 persons, 39.2ms\n",
            "video 1/1 (frame 205/361) /content/drive/MyDrive/stairvision/dataset/east/videos/Copy of Copy of IMG_3084.MOV: 384x640 2 persons, 20.9ms\n",
            "video 1/1 (frame 206/361) /content/drive/MyDrive/stairvision/dataset/east/videos/Copy of Copy of IMG_3084.MOV: 384x640 2 persons, 21.2ms\n",
            "video 1/1 (frame 207/361) /content/drive/MyDrive/stairvision/dataset/east/videos/Copy of Copy of IMG_3084.MOV: 384x640 2 persons, 17.0ms\n",
            "video 1/1 (frame 208/361) /content/drive/MyDrive/stairvision/dataset/east/videos/Copy of Copy of IMG_3084.MOV: 384x640 2 persons, 16.2ms\n",
            "video 1/1 (frame 209/361) /content/drive/MyDrive/stairvision/dataset/east/videos/Copy of Copy of IMG_3084.MOV: 384x640 2 persons, 15.6ms\n",
            "video 1/1 (frame 210/361) /content/drive/MyDrive/stairvision/dataset/east/videos/Copy of Copy of IMG_3084.MOV: 384x640 2 persons, 16.7ms\n",
            "video 1/1 (frame 211/361) /content/drive/MyDrive/stairvision/dataset/east/videos/Copy of Copy of IMG_3084.MOV: 384x640 2 persons, 15.6ms\n",
            "video 1/1 (frame 212/361) /content/drive/MyDrive/stairvision/dataset/east/videos/Copy of Copy of IMG_3084.MOV: 384x640 2 persons, 15.7ms\n",
            "video 1/1 (frame 213/361) /content/drive/MyDrive/stairvision/dataset/east/videos/Copy of Copy of IMG_3084.MOV: 384x640 2 persons, 15.4ms\n",
            "video 1/1 (frame 214/361) /content/drive/MyDrive/stairvision/dataset/east/videos/Copy of Copy of IMG_3084.MOV: 384x640 2 persons, 15.2ms\n",
            "video 1/1 (frame 215/361) /content/drive/MyDrive/stairvision/dataset/east/videos/Copy of Copy of IMG_3084.MOV: 384x640 2 persons, 15.9ms\n",
            "video 1/1 (frame 216/361) /content/drive/MyDrive/stairvision/dataset/east/videos/Copy of Copy of IMG_3084.MOV: 384x640 2 persons, 16.0ms\n",
            "video 1/1 (frame 217/361) /content/drive/MyDrive/stairvision/dataset/east/videos/Copy of Copy of IMG_3084.MOV: 384x640 2 persons, 16.1ms\n",
            "video 1/1 (frame 218/361) /content/drive/MyDrive/stairvision/dataset/east/videos/Copy of Copy of IMG_3084.MOV: 384x640 2 persons, 15.8ms\n",
            "video 1/1 (frame 219/361) /content/drive/MyDrive/stairvision/dataset/east/videos/Copy of Copy of IMG_3084.MOV: 384x640 2 persons, 15.0ms\n",
            "video 1/1 (frame 220/361) /content/drive/MyDrive/stairvision/dataset/east/videos/Copy of Copy of IMG_3084.MOV: 384x640 2 persons, 16.4ms\n",
            "video 1/1 (frame 221/361) /content/drive/MyDrive/stairvision/dataset/east/videos/Copy of Copy of IMG_3084.MOV: 384x640 2 persons, 16.2ms\n",
            "video 1/1 (frame 222/361) /content/drive/MyDrive/stairvision/dataset/east/videos/Copy of Copy of IMG_3084.MOV: 384x640 2 persons, 15.9ms\n",
            "video 1/1 (frame 223/361) /content/drive/MyDrive/stairvision/dataset/east/videos/Copy of Copy of IMG_3084.MOV: 384x640 2 persons, 15.8ms\n",
            "video 1/1 (frame 224/361) /content/drive/MyDrive/stairvision/dataset/east/videos/Copy of Copy of IMG_3084.MOV: 384x640 2 persons, 15.9ms\n",
            "video 1/1 (frame 225/361) /content/drive/MyDrive/stairvision/dataset/east/videos/Copy of Copy of IMG_3084.MOV: 384x640 2 persons, 15.8ms\n",
            "video 1/1 (frame 226/361) /content/drive/MyDrive/stairvision/dataset/east/videos/Copy of Copy of IMG_3084.MOV: 384x640 2 persons, 16.6ms\n",
            "video 1/1 (frame 227/361) /content/drive/MyDrive/stairvision/dataset/east/videos/Copy of Copy of IMG_3084.MOV: 384x640 2 persons, 16.1ms\n",
            "video 1/1 (frame 228/361) /content/drive/MyDrive/stairvision/dataset/east/videos/Copy of Copy of IMG_3084.MOV: 384x640 2 persons, 16.2ms\n",
            "video 1/1 (frame 229/361) /content/drive/MyDrive/stairvision/dataset/east/videos/Copy of Copy of IMG_3084.MOV: 384x640 2 persons, 17.8ms\n",
            "video 1/1 (frame 230/361) /content/drive/MyDrive/stairvision/dataset/east/videos/Copy of Copy of IMG_3084.MOV: 384x640 2 persons, 16.8ms\n",
            "video 1/1 (frame 231/361) /content/drive/MyDrive/stairvision/dataset/east/videos/Copy of Copy of IMG_3084.MOV: 384x640 2 persons, 16.1ms\n",
            "video 1/1 (frame 232/361) /content/drive/MyDrive/stairvision/dataset/east/videos/Copy of Copy of IMG_3084.MOV: 384x640 2 persons, 16.0ms\n",
            "video 1/1 (frame 233/361) /content/drive/MyDrive/stairvision/dataset/east/videos/Copy of Copy of IMG_3084.MOV: 384x640 2 persons, 15.4ms\n",
            "video 1/1 (frame 234/361) /content/drive/MyDrive/stairvision/dataset/east/videos/Copy of Copy of IMG_3084.MOV: 384x640 2 persons, 19.1ms\n",
            "video 1/1 (frame 235/361) /content/drive/MyDrive/stairvision/dataset/east/videos/Copy of Copy of IMG_3084.MOV: 384x640 2 persons, 15.6ms\n",
            "video 1/1 (frame 236/361) /content/drive/MyDrive/stairvision/dataset/east/videos/Copy of Copy of IMG_3084.MOV: 384x640 2 persons, 16.1ms\n",
            "video 1/1 (frame 237/361) /content/drive/MyDrive/stairvision/dataset/east/videos/Copy of Copy of IMG_3084.MOV: 384x640 2 persons, 17.4ms\n",
            "video 1/1 (frame 238/361) /content/drive/MyDrive/stairvision/dataset/east/videos/Copy of Copy of IMG_3084.MOV: 384x640 2 persons, 15.6ms\n",
            "video 1/1 (frame 239/361) /content/drive/MyDrive/stairvision/dataset/east/videos/Copy of Copy of IMG_3084.MOV: 384x640 2 persons, 16.4ms\n"
          ]
        }
      ]
    }
  ],
  "metadata": {
    "accelerator": "GPU",
    "colab": {
      "gpuType": "T4",
      "provenance": [],
      "authorship_tag": "ABX9TyPQV9nIrV37hGitHglap3lv",
      "include_colab_link": true
    },
    "kernelspec": {
      "display_name": "Python 3",
      "name": "python3"
    },
    "language_info": {
      "name": "python"
    }
  },
  "nbformat": 4,
  "nbformat_minor": 0
}