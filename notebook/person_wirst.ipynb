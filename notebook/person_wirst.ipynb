{
  "cells": [
    {
      "cell_type": "markdown",
      "metadata": {
        "colab_type": "text",
        "id": "view-in-github"
      },
      "source": [
        "<a href=\"https://colab.research.google.com/github/haysnairpa/stairvision/blob/main/person_wirst.ipynb\" target=\"_parent\"><img src=\"https://colab.research.google.com/assets/colab-badge.svg\" alt=\"Open In Colab\"/></a>"
      ]
    },
    {
      "cell_type": "code",
      "execution_count": 2,
      "metadata": {
        "colab": {
          "base_uri": "https://localhost:8080/"
        },
        "id": "OomDwM7S_WhS",
        "outputId": "97f9e543-0ed6-45c9-b562-a910d6d4b93d"
      },
      "outputs": [
        {
          "name": "stdout",
          "output_type": "stream",
          "text": [
            "Requirement already satisfied: ultralytics in c:\\users\\user\\anaconda3\\lib\\site-packages (8.3.177)\n",
            "Requirement already satisfied: numpy>=1.23.0 in c:\\users\\user\\anaconda3\\lib\\site-packages (from ultralytics) (2.1.3)\n",
            "Requirement already satisfied: matplotlib>=3.3.0 in c:\\users\\user\\anaconda3\\lib\\site-packages (from ultralytics) (3.10.0)\n",
            "Requirement already satisfied: opencv-python>=4.6.0 in c:\\users\\user\\anaconda3\\lib\\site-packages (from ultralytics) (4.12.0.88)\n",
            "Requirement already satisfied: pillow>=7.1.2 in c:\\users\\user\\anaconda3\\lib\\site-packages (from ultralytics) (11.1.0)\n",
            "Requirement already satisfied: pyyaml>=5.3.1 in c:\\users\\user\\anaconda3\\lib\\site-packages (from ultralytics) (6.0.2)\n",
            "Requirement already satisfied: requests>=2.23.0 in c:\\users\\user\\anaconda3\\lib\\site-packages (from ultralytics) (2.32.3)\n",
            "Requirement already satisfied: scipy>=1.4.1 in c:\\users\\user\\anaconda3\\lib\\site-packages (from ultralytics) (1.15.3)\n",
            "Requirement already satisfied: torch>=1.8.0 in c:\\users\\user\\anaconda3\\lib\\site-packages (from ultralytics) (2.8.0)\n",
            "Requirement already satisfied: torchvision>=0.9.0 in c:\\users\\user\\anaconda3\\lib\\site-packages (from ultralytics) (0.23.0)\n",
            "Requirement already satisfied: tqdm>=4.64.0 in c:\\users\\user\\anaconda3\\lib\\site-packages (from ultralytics) (4.67.1)\n",
            "Requirement already satisfied: psutil in c:\\users\\user\\anaconda3\\lib\\site-packages (from ultralytics) (5.9.0)\n",
            "Requirement already satisfied: py-cpuinfo in c:\\users\\user\\anaconda3\\lib\\site-packages (from ultralytics) (9.0.0)\n",
            "Requirement already satisfied: pandas>=1.1.4 in c:\\users\\user\\anaconda3\\lib\\site-packages (from ultralytics) (2.2.3)\n",
            "Requirement already satisfied: ultralytics-thop>=2.0.0 in c:\\users\\user\\anaconda3\\lib\\site-packages (from ultralytics) (2.0.15)\n",
            "Requirement already satisfied: contourpy>=1.0.1 in c:\\users\\user\\anaconda3\\lib\\site-packages (from matplotlib>=3.3.0->ultralytics) (1.3.1)\n",
            "Requirement already satisfied: cycler>=0.10 in c:\\users\\user\\anaconda3\\lib\\site-packages (from matplotlib>=3.3.0->ultralytics) (0.11.0)\n",
            "Requirement already satisfied: fonttools>=4.22.0 in c:\\users\\user\\anaconda3\\lib\\site-packages (from matplotlib>=3.3.0->ultralytics) (4.55.3)\n",
            "Requirement already satisfied: kiwisolver>=1.3.1 in c:\\users\\user\\anaconda3\\lib\\site-packages (from matplotlib>=3.3.0->ultralytics) (1.4.8)\n",
            "Requirement already satisfied: packaging>=20.0 in c:\\users\\user\\anaconda3\\lib\\site-packages (from matplotlib>=3.3.0->ultralytics) (24.2)\n",
            "Requirement already satisfied: pyparsing>=2.3.1 in c:\\users\\user\\anaconda3\\lib\\site-packages (from matplotlib>=3.3.0->ultralytics) (3.2.0)\n",
            "Requirement already satisfied: python-dateutil>=2.7 in c:\\users\\user\\anaconda3\\lib\\site-packages (from matplotlib>=3.3.0->ultralytics) (2.9.0.post0)\n",
            "Requirement already satisfied: pytz>=2020.1 in c:\\users\\user\\anaconda3\\lib\\site-packages (from pandas>=1.1.4->ultralytics) (2024.1)\n",
            "Requirement already satisfied: tzdata>=2022.7 in c:\\users\\user\\anaconda3\\lib\\site-packages (from pandas>=1.1.4->ultralytics) (2025.2)\n",
            "Requirement already satisfied: six>=1.5 in c:\\users\\user\\anaconda3\\lib\\site-packages (from python-dateutil>=2.7->matplotlib>=3.3.0->ultralytics) (1.17.0)\n",
            "Requirement already satisfied: charset-normalizer<4,>=2 in c:\\users\\user\\anaconda3\\lib\\site-packages (from requests>=2.23.0->ultralytics) (3.3.2)\n",
            "Requirement already satisfied: idna<4,>=2.5 in c:\\users\\user\\anaconda3\\lib\\site-packages (from requests>=2.23.0->ultralytics) (3.7)\n",
            "Requirement already satisfied: urllib3<3,>=1.21.1 in c:\\users\\user\\anaconda3\\lib\\site-packages (from requests>=2.23.0->ultralytics) (2.3.0)\n",
            "Requirement already satisfied: certifi>=2017.4.17 in c:\\users\\user\\anaconda3\\lib\\site-packages (from requests>=2.23.0->ultralytics) (2025.4.26)\n",
            "Requirement already satisfied: filelock in c:\\users\\user\\anaconda3\\lib\\site-packages (from torch>=1.8.0->ultralytics) (3.17.0)\n",
            "Requirement already satisfied: typing-extensions>=4.10.0 in c:\\users\\user\\anaconda3\\lib\\site-packages (from torch>=1.8.0->ultralytics) (4.12.2)\n",
            "Requirement already satisfied: sympy>=1.13.3 in c:\\users\\user\\anaconda3\\lib\\site-packages (from torch>=1.8.0->ultralytics) (1.13.3)\n",
            "Requirement already satisfied: networkx in c:\\users\\user\\anaconda3\\lib\\site-packages (from torch>=1.8.0->ultralytics) (3.4.2)\n",
            "Requirement already satisfied: jinja2 in c:\\users\\user\\anaconda3\\lib\\site-packages (from torch>=1.8.0->ultralytics) (3.1.6)\n",
            "Requirement already satisfied: fsspec in c:\\users\\user\\anaconda3\\lib\\site-packages (from torch>=1.8.0->ultralytics) (2025.3.2)\n",
            "Requirement already satisfied: setuptools in c:\\users\\user\\anaconda3\\lib\\site-packages (from torch>=1.8.0->ultralytics) (72.1.0)\n",
            "Requirement already satisfied: mpmath<1.4,>=1.1.0 in c:\\users\\user\\anaconda3\\lib\\site-packages (from sympy>=1.13.3->torch>=1.8.0->ultralytics) (1.3.0)\n",
            "Requirement already satisfied: colorama in c:\\users\\user\\anaconda3\\lib\\site-packages (from tqdm>=4.64.0->ultralytics) (0.4.6)\n",
            "Requirement already satisfied: MarkupSafe>=2.0 in c:\\users\\user\\anaconda3\\lib\\site-packages (from jinja2->torch>=1.8.0->ultralytics) (3.0.2)\n",
            "Note: you may need to restart the kernel to use updated packages.\n"
          ]
        }
      ],
      "source": [
        "%pip install ultralytics"
      ]
    },
    {
      "cell_type": "code",
      "execution_count": null,
      "metadata": {},
      "outputs": [
        {
          "name": "stdout",
          "output_type": "stream",
          "text": [
            "True\n",
            "NVIDIA RTX A4000\n"
          ]
        }
      ],
      "source": [
        "import torch\n",
        "\n",
        "print(torch.cuda.is_available())\n",
        "\n",
        "if torch.cuda.is_available():\n",
        "    print(torch.cuda.get_device_name(0))"
      ]
    },
    {
      "cell_type": "code",
      "execution_count": null,
      "metadata": {},
      "outputs": [],
      "source": [
        "import os\n",
        "import shutil\n",
        "from ultralytics import YOLO"
      ]
    },
    {
      "cell_type": "code",
      "execution_count": null,
      "metadata": {
        "colab": {
          "base_uri": "https://localhost:8080/"
        },
        "id": "NtD6aYN1cNxi",
        "outputId": "14e28fc4-0f43-4b66-c270-c62b70d1e38f"
      },
      "outputs": [
        {
          "name": "stdout",
          "output_type": "stream",
          "text": [
            "Ultralytics 8.3.177  Python-3.10.18 torch-2.5.1 CUDA:0 (NVIDIA RTX A4000, 16376MiB)\n",
            "\u001b[34m\u001b[1mengine\\trainer: \u001b[0magnostic_nms=False, amp=True, augment=False, auto_augment=randaugment, batch=16, bgr=0.0, box=7.5, cache=False, cfg=None, classes=None, close_mosaic=10, cls=0.5, conf=None, copy_paste=0.0, copy_paste_mode=flip, cos_lr=False, cutmix=0.0, data=coco8-pose.yaml, degrees=0.0, deterministic=True, device=None, dfl=1.5, dnn=False, dropout=0.0, dynamic=False, embed=None, epochs=100, erasing=0.4, exist_ok=False, fliplr=0.5, flipud=0.0, format=torchscript, fraction=1.0, freeze=None, half=False, hsv_h=0.015, hsv_s=0.7, hsv_v=0.4, imgsz=640, int8=False, iou=0.7, keras=False, kobj=1.0, line_width=None, lr0=0.01, lrf=0.01, mask_ratio=4, max_det=300, mixup=0.0, mode=train, model=yolo11n-pose.pt, momentum=0.937, mosaic=1.0, multi_scale=False, name=train3, nbs=64, nms=False, opset=None, optimize=False, optimizer=auto, overlap_mask=True, patience=100, perspective=0.0, plots=True, pose=12.0, pretrained=True, profile=False, project=None, rect=False, resume=False, retina_masks=False, save=True, save_conf=False, save_crop=False, save_dir=runs\\pose\\train3, save_frames=False, save_json=False, save_period=-1, save_txt=False, scale=0.5, seed=0, shear=0.0, show=False, show_boxes=True, show_conf=True, show_labels=True, simplify=True, single_cls=False, source=None, split=val, stream_buffer=False, task=pose, time=None, tracker=botsort.yaml, translate=0.1, val=True, verbose=True, vid_stride=1, visualize=False, warmup_bias_lr=0.1, warmup_epochs=3.0, warmup_momentum=0.8, weight_decay=0.0005, workers=8, workspace=None\n",
            "Overriding model.yaml nc=80 with nc=1\n",
            "\n",
            "                   from  n    params  module                                       arguments                     \n",
            "  0                  -1  1       464  ultralytics.nn.modules.conv.Conv             [3, 16, 3, 2]                 \n",
            "  1                  -1  1      4672  ultralytics.nn.modules.conv.Conv             [16, 32, 3, 2]                \n",
            "  2                  -1  1      6640  ultralytics.nn.modules.block.C3k2            [32, 64, 1, False, 0.25]      \n",
            "  3                  -1  1     36992  ultralytics.nn.modules.conv.Conv             [64, 64, 3, 2]                \n",
            "  4                  -1  1     26080  ultralytics.nn.modules.block.C3k2            [64, 128, 1, False, 0.25]     \n",
            "  5                  -1  1    147712  ultralytics.nn.modules.conv.Conv             [128, 128, 3, 2]              \n",
            "  6                  -1  1     87040  ultralytics.nn.modules.block.C3k2            [128, 128, 1, True]           \n",
            "  7                  -1  1    295424  ultralytics.nn.modules.conv.Conv             [128, 256, 3, 2]              \n",
            "  8                  -1  1    346112  ultralytics.nn.modules.block.C3k2            [256, 256, 1, True]           \n",
            "  9                  -1  1    164608  ultralytics.nn.modules.block.SPPF            [256, 256, 5]                 \n",
            " 10                  -1  1    249728  ultralytics.nn.modules.block.C2PSA           [256, 256, 1]                 \n",
            " 11                  -1  1         0  torch.nn.modules.upsampling.Upsample         [None, 2, 'nearest']          \n",
            " 12             [-1, 6]  1         0  ultralytics.nn.modules.conv.Concat           [1]                           \n",
            " 13                  -1  1    111296  ultralytics.nn.modules.block.C3k2            [384, 128, 1, False]          \n",
            " 14                  -1  1         0  torch.nn.modules.upsampling.Upsample         [None, 2, 'nearest']          \n",
            " 15             [-1, 4]  1         0  ultralytics.nn.modules.conv.Concat           [1]                           \n",
            " 16                  -1  1     32096  ultralytics.nn.modules.block.C3k2            [256, 64, 1, False]           \n",
            " 17                  -1  1     36992  ultralytics.nn.modules.conv.Conv             [64, 64, 3, 2]                \n",
            " 18            [-1, 13]  1         0  ultralytics.nn.modules.conv.Concat           [1]                           \n",
            " 19                  -1  1     86720  ultralytics.nn.modules.block.C3k2            [192, 128, 1, False]          \n",
            " 20                  -1  1    147712  ultralytics.nn.modules.conv.Conv             [128, 128, 3, 2]              \n",
            " 21            [-1, 10]  1         0  ultralytics.nn.modules.conv.Concat           [1]                           \n",
            " 22                  -1  1    378880  ultralytics.nn.modules.block.C3k2            [384, 256, 1, True]           \n",
            " 23        [16, 19, 22]  1    715294  ultralytics.nn.modules.head.Pose             [1, [17, 3], [64, 128, 256]]  \n",
            "YOLO11n-pose summary: 196 layers, 2,874,462 parameters, 2,874,446 gradients, 7.5 GFLOPs\n",
            "\n",
            "Transferred 541/541 items from pretrained weights\n",
            "Freezing layer 'model.23.dfl.conv.weight'\n",
            "\u001b[34m\u001b[1mAMP: \u001b[0mrunning Automatic Mixed Precision (AMP) checks...\n"
          ]
        },
        {
          "name": "stderr",
          "output_type": "stream",
          "text": [
            "Downloading https://github.com/ultralytics/assets/releases/download/v8.3.0/yolo11n.pt to 'yolo11n.pt': 100%|██████████| 5.35M/5.35M [00:00<00:00, 19.8MB/s]\n"
          ]
        },
        {
          "name": "stdout",
          "output_type": "stream",
          "text": [
            "\u001b[34m\u001b[1mAMP: \u001b[0mchecks passed \n",
            "\u001b[34m\u001b[1mtrain: \u001b[0mFast image access  (ping: 0.00.0 ms, read: 143.545.7 MB/s, size: 39.1 KB)\n"
          ]
        },
        {
          "name": "stderr",
          "output_type": "stream",
          "text": [
            "\u001b[34m\u001b[1mtrain: \u001b[0mScanning D:\\Aldi\\stairvision\\datasets\\coco8-pose\\labels\\train.cache... 4 images, 0 backgrounds, 0 corrupt: 100%|██████████| 4/4 [00:00<?, ?it/s]\n"
          ]
        },
        {
          "name": "stdout",
          "output_type": "stream",
          "text": [
            "\u001b[34m\u001b[1mval: \u001b[0mFast image access  (ping: 0.10.0 ms, read: 99.341.3 MB/s, size: 39.1 KB)\n"
          ]
        },
        {
          "name": "stderr",
          "output_type": "stream",
          "text": [
            "\u001b[34m\u001b[1mval: \u001b[0mScanning D:\\Aldi\\stairvision\\datasets\\coco8-pose\\labels\\val.cache... 4 images, 0 backgrounds, 0 corrupt: 100%|██████████| 4/4 [00:00<?, ?it/s]\n"
          ]
        },
        {
          "name": "stdout",
          "output_type": "stream",
          "text": [
            "Plotting labels to runs\\pose\\train3\\labels.jpg... \n",
            "\u001b[34m\u001b[1moptimizer:\u001b[0m 'optimizer=auto' found, ignoring 'lr0=0.01' and 'momentum=0.937' and determining best 'optimizer', 'lr0' and 'momentum' automatically... \n",
            "\u001b[34m\u001b[1moptimizer:\u001b[0m AdamW(lr=0.002, momentum=0.9) with parameter groups 87 weight(decay=0.0), 97 weight(decay=0.0005), 96 bias(decay=0.0)\n",
            "Image sizes 640 train, 640 val\n",
            "Using 8 dataloader workers\n",
            "Logging results to \u001b[1mruns\\pose\\train3\u001b[0m\n",
            "Starting training for 100 epochs...\n",
            "\n",
            "      Epoch    GPU_mem   box_loss  pose_loss  kobj_loss   cls_loss   dfl_loss  Instances       Size\n"
          ]
        },
        {
          "name": "stderr",
          "output_type": "stream",
          "text": [
            "      1/100     0.629G      1.304      3.158     0.4368      1.013      1.559         11        640: 100%|██████████| 1/1 [00:01<00:00,  1.38s/it]\n",
            "                 Class     Images  Instances      Box(P          R      mAP50  mAP50-95)     Pose(P          R      mAP50  mAP50-95): 100%|██████████| 1/1 [00:00<00:00,  2.81it/s]"
          ]
        },
        {
          "name": "stdout",
          "output_type": "stream",
          "text": [
            "                   all          4         14      0.806      0.894      0.907      0.718      0.982      0.643      0.763      0.356\n"
          ]
        },
        {
          "name": "stderr",
          "output_type": "stream",
          "text": [
            "\n"
          ]
        },
        {
          "name": "stdout",
          "output_type": "stream",
          "text": [
            "\n",
            "      Epoch    GPU_mem   box_loss  pose_loss  kobj_loss   cls_loss   dfl_loss  Instances       Size\n"
          ]
        },
        {
          "name": "stderr",
          "output_type": "stream",
          "text": [
            "      2/100     0.629G      1.671      4.094     0.3854      1.162      1.562          9        640: 100%|██████████| 1/1 [00:00<00:00,  3.97it/s]\n",
            "                 Class     Images  Instances      Box(P          R      mAP50  mAP50-95)     Pose(P          R      mAP50  mAP50-95): 100%|██████████| 1/1 [00:00<00:00,  9.73it/s]"
          ]
        },
        {
          "name": "stdout",
          "output_type": "stream",
          "text": [
            "                   all          4         14      0.806      0.889      0.907      0.713      0.981      0.643      0.763       0.36\n"
          ]
        },
        {
          "name": "stderr",
          "output_type": "stream",
          "text": [
            "\n"
          ]
        },
        {
          "name": "stdout",
          "output_type": "stream",
          "text": [
            "\n",
            "      Epoch    GPU_mem   box_loss  pose_loss  kobj_loss   cls_loss   dfl_loss  Instances       Size\n"
          ]
        },
        {
          "name": "stderr",
          "output_type": "stream",
          "text": [
            "      3/100     0.629G      1.687      1.929     0.2946      1.331      1.812          8        640: 100%|██████████| 1/1 [00:00<00:00,  8.84it/s]\n",
            "                 Class     Images  Instances      Box(P          R      mAP50  mAP50-95)     Pose(P          R      mAP50  mAP50-95): 100%|██████████| 1/1 [00:00<00:00,  9.99it/s]"
          ]
        },
        {
          "name": "stdout",
          "output_type": "stream",
          "text": [
            "                   all          4         14      0.825      0.857      0.907      0.709      0.981      0.643      0.763      0.346\n"
          ]
        },
        {
          "name": "stderr",
          "output_type": "stream",
          "text": [
            "\n"
          ]
        },
        {
          "name": "stdout",
          "output_type": "stream",
          "text": [
            "\n",
            "      Epoch    GPU_mem   box_loss  pose_loss  kobj_loss   cls_loss   dfl_loss  Instances       Size\n"
          ]
        },
        {
          "name": "stderr",
          "output_type": "stream",
          "text": [
            "      4/100     0.629G      1.379      3.759     0.4832      1.075      1.312         19        640: 100%|██████████| 1/1 [00:00<00:00,  9.45it/s]\n",
            "                 Class     Images  Instances      Box(P          R      mAP50  mAP50-95)     Pose(P          R      mAP50  mAP50-95): 100%|██████████| 1/1 [00:00<00:00, 15.02it/s]"
          ]
        },
        {
          "name": "stdout",
          "output_type": "stream",
          "text": [
            "                   all          4         14      0.812      0.857      0.907      0.711      0.981      0.643      0.763      0.357\n"
          ]
        },
        {
          "name": "stderr",
          "output_type": "stream",
          "text": [
            "\n"
          ]
        },
        {
          "name": "stdout",
          "output_type": "stream",
          "text": [
            "\n",
            "      Epoch    GPU_mem   box_loss  pose_loss  kobj_loss   cls_loss   dfl_loss  Instances       Size\n"
          ]
        },
        {
          "name": "stderr",
          "output_type": "stream",
          "text": [
            "      5/100     0.631G      1.531      4.207     0.3811      1.273      1.399         17        640: 100%|██████████| 1/1 [00:00<00:00, 10.73it/s]\n",
            "                 Class     Images  Instances      Box(P          R      mAP50  mAP50-95)     Pose(P          R      mAP50  mAP50-95): 100%|██████████| 1/1 [00:00<00:00, 13.66it/s]"
          ]
        },
        {
          "name": "stdout",
          "output_type": "stream",
          "text": [
            "                   all          4         14      0.853      0.929      0.927      0.705      0.982      0.643      0.766      0.369\n"
          ]
        },
        {
          "name": "stderr",
          "output_type": "stream",
          "text": [
            "\n"
          ]
        },
        {
          "name": "stdout",
          "output_type": "stream",
          "text": [
            "\n",
            "      Epoch    GPU_mem   box_loss  pose_loss  kobj_loss   cls_loss   dfl_loss  Instances       Size\n"
          ]
        },
        {
          "name": "stderr",
          "output_type": "stream",
          "text": [
            "      6/100     0.631G     0.9223      3.793     0.2618     0.6435      1.175         14        640: 100%|██████████| 1/1 [00:00<00:00,  9.74it/s]\n",
            "                 Class     Images  Instances      Box(P          R      mAP50  mAP50-95)     Pose(P          R      mAP50  mAP50-95): 100%|██████████| 1/1 [00:00<00:00, 22.22it/s]"
          ]
        },
        {
          "name": "stdout",
          "output_type": "stream",
          "text": [
            "                   all          4         14      0.855      0.929      0.928        0.7      0.983      0.643      0.766      0.369\n"
          ]
        },
        {
          "name": "stderr",
          "output_type": "stream",
          "text": [
            "\n"
          ]
        },
        {
          "name": "stdout",
          "output_type": "stream",
          "text": [
            "\n",
            "      Epoch    GPU_mem   box_loss  pose_loss  kobj_loss   cls_loss   dfl_loss  Instances       Size\n"
          ]
        },
        {
          "name": "stderr",
          "output_type": "stream",
          "text": [
            "      7/100     0.631G       1.58      3.725     0.2966     0.9015      1.533         13        640: 100%|██████████| 1/1 [00:00<00:00,  8.24it/s]\n",
            "                 Class     Images  Instances      Box(P          R      mAP50  mAP50-95)     Pose(P          R      mAP50  mAP50-95): 100%|██████████| 1/1 [00:00<00:00, 16.84it/s]"
          ]
        },
        {
          "name": "stdout",
          "output_type": "stream",
          "text": [
            "                   all          4         14      0.977      0.857       0.93      0.684      0.898      0.631      0.613      0.307\n"
          ]
        },
        {
          "name": "stderr",
          "output_type": "stream",
          "text": [
            "\n"
          ]
        },
        {
          "name": "stdout",
          "output_type": "stream",
          "text": [
            "\n",
            "      Epoch    GPU_mem   box_loss  pose_loss  kobj_loss   cls_loss   dfl_loss  Instances       Size\n"
          ]
        },
        {
          "name": "stderr",
          "output_type": "stream",
          "text": [
            "      8/100     0.646G      2.047      5.049      0.462      1.202      2.868          6        640: 100%|██████████| 1/1 [00:00<00:00,  9.44it/s]\n",
            "                 Class     Images  Instances      Box(P          R      mAP50  mAP50-95)     Pose(P          R      mAP50  mAP50-95): 100%|██████████| 1/1 [00:00<00:00, 18.60it/s]"
          ]
        },
        {
          "name": "stdout",
          "output_type": "stream",
          "text": [
            "                   all          4         14      0.981      0.857      0.931      0.684      0.897      0.626      0.613      0.317\n"
          ]
        },
        {
          "name": "stderr",
          "output_type": "stream",
          "text": [
            "\n"
          ]
        },
        {
          "name": "stdout",
          "output_type": "stream",
          "text": [
            "\n",
            "      Epoch    GPU_mem   box_loss  pose_loss  kobj_loss   cls_loss   dfl_loss  Instances       Size\n"
          ]
        },
        {
          "name": "stderr",
          "output_type": "stream",
          "text": [
            "      9/100      0.65G      1.408      3.585     0.4731      1.366      1.376         17        640: 100%|██████████| 1/1 [00:00<00:00,  9.97it/s]\n",
            "                 Class     Images  Instances      Box(P          R      mAP50  mAP50-95)     Pose(P          R      mAP50  mAP50-95): 100%|██████████| 1/1 [00:00<00:00, 17.46it/s]"
          ]
        },
        {
          "name": "stdout",
          "output_type": "stream",
          "text": [
            "                   all          4         14      0.947      0.857      0.925      0.654      0.774      0.571      0.541      0.265\n"
          ]
        },
        {
          "name": "stderr",
          "output_type": "stream",
          "text": [
            "\n"
          ]
        },
        {
          "name": "stdout",
          "output_type": "stream",
          "text": [
            "\n",
            "      Epoch    GPU_mem   box_loss  pose_loss  kobj_loss   cls_loss   dfl_loss  Instances       Size\n"
          ]
        },
        {
          "name": "stderr",
          "output_type": "stream",
          "text": [
            "     10/100      0.65G      1.292      3.188     0.2873     0.7346      1.552         17        640: 100%|██████████| 1/1 [00:00<00:00,  9.57it/s]\n",
            "                 Class     Images  Instances      Box(P          R      mAP50  mAP50-95)     Pose(P          R      mAP50  mAP50-95): 100%|██████████| 1/1 [00:00<00:00, 16.13it/s]"
          ]
        },
        {
          "name": "stdout",
          "output_type": "stream",
          "text": [
            "                   all          4         14      0.833      0.714      0.837      0.616      0.744        0.5      0.553      0.253\n"
          ]
        },
        {
          "name": "stderr",
          "output_type": "stream",
          "text": [
            "\n"
          ]
        },
        {
          "name": "stdout",
          "output_type": "stream",
          "text": [
            "\n",
            "      Epoch    GPU_mem   box_loss  pose_loss  kobj_loss   cls_loss   dfl_loss  Instances       Size\n"
          ]
        },
        {
          "name": "stderr",
          "output_type": "stream",
          "text": [
            "     11/100      0.65G      1.378      3.394     0.3777      1.094      1.473         12        640: 100%|██████████| 1/1 [00:00<00:00,  9.64it/s]\n",
            "                 Class     Images  Instances      Box(P          R      mAP50  mAP50-95)     Pose(P          R      mAP50  mAP50-95): 100%|██████████| 1/1 [00:00<00:00, 22.25it/s]"
          ]
        },
        {
          "name": "stdout",
          "output_type": "stream",
          "text": [
            "                   all          4         14      0.624      0.786      0.741      0.572      0.575        0.5      0.515      0.224\n"
          ]
        },
        {
          "name": "stderr",
          "output_type": "stream",
          "text": [
            "\n"
          ]
        },
        {
          "name": "stdout",
          "output_type": "stream",
          "text": [
            "\n",
            "      Epoch    GPU_mem   box_loss  pose_loss  kobj_loss   cls_loss   dfl_loss  Instances       Size\n"
          ]
        },
        {
          "name": "stderr",
          "output_type": "stream",
          "text": [
            "     12/100      0.65G      1.092      3.739     0.3586     0.7589      1.239         14        640: 100%|██████████| 1/1 [00:00<00:00,  4.59it/s]\n",
            "                 Class     Images  Instances      Box(P          R      mAP50  mAP50-95)     Pose(P          R      mAP50  mAP50-95): 100%|██████████| 1/1 [00:00<00:00, 16.54it/s]"
          ]
        },
        {
          "name": "stdout",
          "output_type": "stream",
          "text": [
            "                   all          4         14      0.629      0.786      0.747      0.574       0.73      0.429      0.501      0.211\n"
          ]
        },
        {
          "name": "stderr",
          "output_type": "stream",
          "text": [
            "\n"
          ]
        },
        {
          "name": "stdout",
          "output_type": "stream",
          "text": [
            "\n",
            "      Epoch    GPU_mem   box_loss  pose_loss  kobj_loss   cls_loss   dfl_loss  Instances       Size\n"
          ]
        },
        {
          "name": "stderr",
          "output_type": "stream",
          "text": [
            "     13/100      0.65G      0.967      3.056     0.3899      0.593      1.079         13        640: 100%|██████████| 1/1 [00:00<00:00, 10.53it/s]\n",
            "                 Class     Images  Instances      Box(P          R      mAP50  mAP50-95)     Pose(P          R      mAP50  mAP50-95): 100%|██████████| 1/1 [00:00<00:00, 21.74it/s]"
          ]
        },
        {
          "name": "stdout",
          "output_type": "stream",
          "text": [
            "                   all          4         14      0.698      0.714      0.766      0.582      0.752        0.5      0.513      0.199\n"
          ]
        },
        {
          "name": "stderr",
          "output_type": "stream",
          "text": [
            "\n"
          ]
        },
        {
          "name": "stdout",
          "output_type": "stream",
          "text": [
            "\n",
            "      Epoch    GPU_mem   box_loss  pose_loss  kobj_loss   cls_loss   dfl_loss  Instances       Size\n"
          ]
        },
        {
          "name": "stderr",
          "output_type": "stream",
          "text": [
            "     14/100      0.65G      1.233      1.823     0.3132     0.6672      1.313         12        640: 100%|██████████| 1/1 [00:00<00:00, 10.63it/s]\n",
            "                 Class     Images  Instances      Box(P          R      mAP50  mAP50-95)     Pose(P          R      mAP50  mAP50-95): 100%|██████████| 1/1 [00:00<00:00, 20.42it/s]"
          ]
        },
        {
          "name": "stdout",
          "output_type": "stream",
          "text": [
            "                   all          4         14      0.783      0.714      0.749      0.589       0.76        0.5      0.561      0.175\n"
          ]
        },
        {
          "name": "stderr",
          "output_type": "stream",
          "text": [
            "\n"
          ]
        },
        {
          "name": "stdout",
          "output_type": "stream",
          "text": [
            "\n",
            "      Epoch    GPU_mem   box_loss  pose_loss  kobj_loss   cls_loss   dfl_loss  Instances       Size\n"
          ]
        },
        {
          "name": "stderr",
          "output_type": "stream",
          "text": [
            "     15/100      0.65G      1.193      2.961     0.3406     0.7657      1.286          8        640: 100%|██████████| 1/1 [00:00<00:00, 11.50it/s]\n",
            "                 Class     Images  Instances      Box(P          R      mAP50  mAP50-95)     Pose(P          R      mAP50  mAP50-95): 100%|██████████| 1/1 [00:00<00:00, 22.23it/s]"
          ]
        },
        {
          "name": "stdout",
          "output_type": "stream",
          "text": [
            "                   all          4         14      0.735      0.714      0.735       0.54       0.84      0.429      0.415      0.116\n"
          ]
        },
        {
          "name": "stderr",
          "output_type": "stream",
          "text": [
            "\n"
          ]
        },
        {
          "name": "stdout",
          "output_type": "stream",
          "text": [
            "\n",
            "      Epoch    GPU_mem   box_loss  pose_loss  kobj_loss   cls_loss   dfl_loss  Instances       Size\n"
          ]
        },
        {
          "name": "stderr",
          "output_type": "stream",
          "text": [
            "     16/100      0.65G     0.9631      1.912     0.3066     0.5956      1.125         13        640: 100%|██████████| 1/1 [00:00<00:00,  9.26it/s]\n",
            "                 Class     Images  Instances      Box(P          R      mAP50  mAP50-95)     Pose(P          R      mAP50  mAP50-95): 100%|██████████| 1/1 [00:00<00:00, 20.39it/s]"
          ]
        },
        {
          "name": "stdout",
          "output_type": "stream",
          "text": [
            "                   all          4         14      0.762      0.688       0.73      0.513      0.577      0.214      0.223     0.0643\n"
          ]
        },
        {
          "name": "stderr",
          "output_type": "stream",
          "text": [
            "\n"
          ]
        },
        {
          "name": "stdout",
          "output_type": "stream",
          "text": [
            "\n",
            "      Epoch    GPU_mem   box_loss  pose_loss  kobj_loss   cls_loss   dfl_loss  Instances       Size\n"
          ]
        },
        {
          "name": "stderr",
          "output_type": "stream",
          "text": [
            "     17/100      0.65G      1.174      2.647     0.4409      0.769      1.167         13        640: 100%|██████████| 1/1 [00:00<00:00,  9.90it/s]\n",
            "                 Class     Images  Instances      Box(P          R      mAP50  mAP50-95)     Pose(P          R      mAP50  mAP50-95): 100%|██████████| 1/1 [00:00<00:00, 18.85it/s]"
          ]
        },
        {
          "name": "stdout",
          "output_type": "stream",
          "text": [
            "                   all          4         14      0.744      0.643      0.684      0.471      0.582      0.214      0.201     0.0642\n"
          ]
        },
        {
          "name": "stderr",
          "output_type": "stream",
          "text": [
            "\n"
          ]
        },
        {
          "name": "stdout",
          "output_type": "stream",
          "text": [
            "\n",
            "      Epoch    GPU_mem   box_loss  pose_loss  kobj_loss   cls_loss   dfl_loss  Instances       Size\n"
          ]
        },
        {
          "name": "stderr",
          "output_type": "stream",
          "text": [
            "     18/100      0.65G      1.018      3.741     0.2446      1.072      1.337          7        640: 100%|██████████| 1/1 [00:00<00:00, 12.65it/s]\n",
            "                 Class     Images  Instances      Box(P          R      mAP50  mAP50-95)     Pose(P          R      mAP50  mAP50-95): 100%|██████████| 1/1 [00:00<00:00, 18.51it/s]"
          ]
        },
        {
          "name": "stdout",
          "output_type": "stream",
          "text": [
            "                   all          4         14      0.744      0.643      0.684      0.471      0.582      0.214      0.201     0.0642\n"
          ]
        },
        {
          "name": "stderr",
          "output_type": "stream",
          "text": [
            "\n"
          ]
        },
        {
          "name": "stdout",
          "output_type": "stream",
          "text": [
            "\n",
            "      Epoch    GPU_mem   box_loss  pose_loss  kobj_loss   cls_loss   dfl_loss  Instances       Size\n"
          ]
        },
        {
          "name": "stderr",
          "output_type": "stream",
          "text": [
            "     19/100     0.658G      1.171      4.311     0.3934     0.9921      1.257         16        640: 100%|██████████| 1/1 [00:00<00:00, 10.45it/s]\n",
            "                 Class     Images  Instances      Box(P          R      mAP50  mAP50-95)     Pose(P          R      mAP50  mAP50-95): 100%|██████████| 1/1 [00:00<00:00, 20.42it/s]"
          ]
        },
        {
          "name": "stdout",
          "output_type": "stream",
          "text": [
            "                   all          4         14      0.653      0.571       0.64       0.44       0.58      0.214      0.175     0.0496\n"
          ]
        },
        {
          "name": "stderr",
          "output_type": "stream",
          "text": [
            "\n"
          ]
        },
        {
          "name": "stdout",
          "output_type": "stream",
          "text": [
            "\n",
            "      Epoch    GPU_mem   box_loss  pose_loss  kobj_loss   cls_loss   dfl_loss  Instances       Size\n"
          ]
        },
        {
          "name": "stderr",
          "output_type": "stream",
          "text": [
            "     20/100     0.658G      1.291      3.333     0.3864     0.8522      1.118         16        640: 100%|██████████| 1/1 [00:00<00:00, 12.79it/s]\n",
            "                 Class     Images  Instances      Box(P          R      mAP50  mAP50-95)     Pose(P          R      mAP50  mAP50-95): 100%|██████████| 1/1 [00:00<00:00, 17.22it/s]"
          ]
        },
        {
          "name": "stdout",
          "output_type": "stream",
          "text": [
            "                   all          4         14      0.653      0.571       0.64       0.44       0.58      0.214      0.175     0.0496\n"
          ]
        },
        {
          "name": "stderr",
          "output_type": "stream",
          "text": [
            "\n"
          ]
        },
        {
          "name": "stdout",
          "output_type": "stream",
          "text": [
            "\n",
            "      Epoch    GPU_mem   box_loss  pose_loss  kobj_loss   cls_loss   dfl_loss  Instances       Size\n"
          ]
        },
        {
          "name": "stderr",
          "output_type": "stream",
          "text": [
            "     21/100     0.658G     0.8093      2.931     0.3088     0.5891      1.145          9        640: 100%|██████████| 1/1 [00:00<00:00,  8.54it/s]\n",
            "                 Class     Images  Instances      Box(P          R      mAP50  mAP50-95)     Pose(P          R      mAP50  mAP50-95): 100%|██████████| 1/1 [00:00<00:00, 19.59it/s]"
          ]
        },
        {
          "name": "stdout",
          "output_type": "stream",
          "text": [
            "                   all          4         14      0.506      0.731      0.673      0.441      0.575      0.214      0.174     0.0556\n"
          ]
        },
        {
          "name": "stderr",
          "output_type": "stream",
          "text": [
            "\n"
          ]
        },
        {
          "name": "stdout",
          "output_type": "stream",
          "text": [
            "\n",
            "      Epoch    GPU_mem   box_loss  pose_loss  kobj_loss   cls_loss   dfl_loss  Instances       Size\n"
          ]
        },
        {
          "name": "stderr",
          "output_type": "stream",
          "text": [
            "     22/100     0.658G      1.129      2.316     0.3674     0.7405        1.4          8        640: 100%|██████████| 1/1 [00:00<00:00, 12.05it/s]\n",
            "                 Class     Images  Instances      Box(P          R      mAP50  mAP50-95)     Pose(P          R      mAP50  mAP50-95): 100%|██████████| 1/1 [00:00<00:00, 19.97it/s]"
          ]
        },
        {
          "name": "stdout",
          "output_type": "stream",
          "text": [
            "                   all          4         14      0.506      0.731      0.673      0.441      0.575      0.214      0.174     0.0556\n"
          ]
        },
        {
          "name": "stderr",
          "output_type": "stream",
          "text": [
            "\n"
          ]
        },
        {
          "name": "stdout",
          "output_type": "stream",
          "text": [
            "\n",
            "      Epoch    GPU_mem   box_loss  pose_loss  kobj_loss   cls_loss   dfl_loss  Instances       Size\n"
          ]
        },
        {
          "name": "stderr",
          "output_type": "stream",
          "text": [
            "     23/100     0.658G      1.126      2.061     0.3463     0.5634      1.076         15        640: 100%|██████████| 1/1 [00:00<00:00,  4.36it/s]\n",
            "                 Class     Images  Instances      Box(P          R      mAP50  mAP50-95)     Pose(P          R      mAP50  mAP50-95): 100%|██████████| 1/1 [00:00<00:00, 20.35it/s]"
          ]
        },
        {
          "name": "stdout",
          "output_type": "stream",
          "text": [
            "                   all          4         14      0.667        0.5       0.63       0.41      0.488      0.214      0.162     0.0469\n"
          ]
        },
        {
          "name": "stderr",
          "output_type": "stream",
          "text": [
            "\n"
          ]
        },
        {
          "name": "stdout",
          "output_type": "stream",
          "text": [
            "\n",
            "      Epoch    GPU_mem   box_loss  pose_loss  kobj_loss   cls_loss   dfl_loss  Instances       Size\n"
          ]
        },
        {
          "name": "stderr",
          "output_type": "stream",
          "text": [
            "     24/100     0.658G     0.9343      2.567     0.3625     0.7174      1.054         18        640: 100%|██████████| 1/1 [00:00<00:00, 16.07it/s]\n",
            "                 Class     Images  Instances      Box(P          R      mAP50  mAP50-95)     Pose(P          R      mAP50  mAP50-95): 100%|██████████| 1/1 [00:00<00:00, 22.70it/s]"
          ]
        },
        {
          "name": "stdout",
          "output_type": "stream",
          "text": [
            "                   all          4         14      0.667        0.5       0.63       0.41      0.488      0.214      0.162     0.0469\n"
          ]
        },
        {
          "name": "stderr",
          "output_type": "stream",
          "text": [
            "\n"
          ]
        },
        {
          "name": "stdout",
          "output_type": "stream",
          "text": [
            "\n",
            "      Epoch    GPU_mem   box_loss  pose_loss  kobj_loss   cls_loss   dfl_loss  Instances       Size\n"
          ]
        },
        {
          "name": "stderr",
          "output_type": "stream",
          "text": [
            "     25/100     0.658G      1.302      2.781     0.3701     0.7302      1.133         17        640: 100%|██████████| 1/1 [00:00<00:00,  9.25it/s]\n",
            "                 Class     Images  Instances      Box(P          R      mAP50  mAP50-95)     Pose(P          R      mAP50  mAP50-95): 100%|██████████| 1/1 [00:00<00:00, 20.89it/s]"
          ]
        },
        {
          "name": "stdout",
          "output_type": "stream",
          "text": [
            "                   all          4         14      0.633      0.618      0.662        0.4      0.276      0.214     0.0986     0.0288\n"
          ]
        },
        {
          "name": "stderr",
          "output_type": "stream",
          "text": [
            "\n"
          ]
        },
        {
          "name": "stdout",
          "output_type": "stream",
          "text": [
            "\n",
            "      Epoch    GPU_mem   box_loss  pose_loss  kobj_loss   cls_loss   dfl_loss  Instances       Size\n"
          ]
        },
        {
          "name": "stderr",
          "output_type": "stream",
          "text": [
            "     26/100     0.658G     0.8973      3.288     0.2638      0.761      1.122         17        640: 100%|██████████| 1/1 [00:00<00:00, 10.91it/s]\n",
            "                 Class     Images  Instances      Box(P          R      mAP50  mAP50-95)     Pose(P          R      mAP50  mAP50-95): 100%|██████████| 1/1 [00:00<00:00, 23.26it/s]"
          ]
        },
        {
          "name": "stdout",
          "output_type": "stream",
          "text": [
            "                   all          4         14      0.633      0.618      0.662        0.4      0.276      0.214     0.0986     0.0288\n"
          ]
        },
        {
          "name": "stderr",
          "output_type": "stream",
          "text": [
            "\n"
          ]
        },
        {
          "name": "stdout",
          "output_type": "stream",
          "text": [
            "\n",
            "      Epoch    GPU_mem   box_loss  pose_loss  kobj_loss   cls_loss   dfl_loss  Instances       Size\n"
          ]
        },
        {
          "name": "stderr",
          "output_type": "stream",
          "text": [
            "     27/100     0.658G      1.196      3.571      0.399     0.6985      1.195         16        640: 100%|██████████| 1/1 [00:00<00:00,  4.83it/s]\n",
            "                 Class     Images  Instances      Box(P          R      mAP50  mAP50-95)     Pose(P          R      mAP50  mAP50-95): 100%|██████████| 1/1 [00:00<00:00, 20.17it/s]"
          ]
        },
        {
          "name": "stdout",
          "output_type": "stream",
          "text": [
            "                   all          4         14       0.62      0.583      0.604      0.353       0.56      0.214      0.218     0.0365\n"
          ]
        },
        {
          "name": "stderr",
          "output_type": "stream",
          "text": [
            "\n"
          ]
        },
        {
          "name": "stdout",
          "output_type": "stream",
          "text": [
            "\n",
            "      Epoch    GPU_mem   box_loss  pose_loss  kobj_loss   cls_loss   dfl_loss  Instances       Size\n"
          ]
        },
        {
          "name": "stderr",
          "output_type": "stream",
          "text": [
            "     28/100     0.658G      1.397      2.796     0.3482     0.7568      1.218         15        640: 100%|██████████| 1/1 [00:00<00:00, 13.14it/s]\n",
            "                 Class     Images  Instances      Box(P          R      mAP50  mAP50-95)     Pose(P          R      mAP50  mAP50-95): 100%|██████████| 1/1 [00:00<00:00, 23.26it/s]"
          ]
        },
        {
          "name": "stdout",
          "output_type": "stream",
          "text": [
            "                   all          4         14       0.62      0.583      0.604      0.353       0.56      0.214      0.218     0.0365\n"
          ]
        },
        {
          "name": "stderr",
          "output_type": "stream",
          "text": [
            "\n"
          ]
        },
        {
          "name": "stdout",
          "output_type": "stream",
          "text": [
            "\n",
            "      Epoch    GPU_mem   box_loss  pose_loss  kobj_loss   cls_loss   dfl_loss  Instances       Size\n"
          ]
        },
        {
          "name": "stderr",
          "output_type": "stream",
          "text": [
            "     29/100      0.66G      0.879      3.905     0.3653     0.7675      1.039         17        640: 100%|██████████| 1/1 [00:00<00:00, 10.10it/s]\n",
            "                 Class     Images  Instances      Box(P          R      mAP50  mAP50-95)     Pose(P          R      mAP50  mAP50-95): 100%|██████████| 1/1 [00:00<00:00, 20.83it/s]"
          ]
        },
        {
          "name": "stdout",
          "output_type": "stream",
          "text": [
            "                   all          4         14      0.679        0.5      0.558      0.321       0.59      0.214      0.227     0.0517\n"
          ]
        },
        {
          "name": "stderr",
          "output_type": "stream",
          "text": [
            "\n"
          ]
        },
        {
          "name": "stdout",
          "output_type": "stream",
          "text": [
            "\n",
            "      Epoch    GPU_mem   box_loss  pose_loss  kobj_loss   cls_loss   dfl_loss  Instances       Size\n"
          ]
        },
        {
          "name": "stderr",
          "output_type": "stream",
          "text": [
            "     30/100      0.66G      1.006      3.587     0.3516     0.8525      1.125         11        640: 100%|██████████| 1/1 [00:00<00:00, 12.33it/s]\n",
            "                 Class     Images  Instances      Box(P          R      mAP50  mAP50-95)     Pose(P          R      mAP50  mAP50-95): 100%|██████████| 1/1 [00:00<00:00, 21.29it/s]"
          ]
        },
        {
          "name": "stdout",
          "output_type": "stream",
          "text": [
            "                   all          4         14      0.679        0.5      0.558      0.321       0.59      0.214      0.227     0.0517\n"
          ]
        },
        {
          "name": "stderr",
          "output_type": "stream",
          "text": [
            "\n"
          ]
        },
        {
          "name": "stdout",
          "output_type": "stream",
          "text": [
            "\n",
            "      Epoch    GPU_mem   box_loss  pose_loss  kobj_loss   cls_loss   dfl_loss  Instances       Size\n"
          ]
        },
        {
          "name": "stderr",
          "output_type": "stream",
          "text": [
            "     31/100      0.66G      1.247       2.86     0.3064     0.9104      1.255         11        640: 100%|██████████| 1/1 [00:00<00:00,  9.08it/s]\n",
            "                 Class     Images  Instances      Box(P          R      mAP50  mAP50-95)     Pose(P          R      mAP50  mAP50-95): 100%|██████████| 1/1 [00:00<00:00, 20.42it/s]"
          ]
        },
        {
          "name": "stdout",
          "output_type": "stream",
          "text": [
            "                   all          4         14        0.7        0.5      0.531      0.293      0.671      0.214      0.214     0.0422\n"
          ]
        },
        {
          "name": "stderr",
          "output_type": "stream",
          "text": [
            "\n"
          ]
        },
        {
          "name": "stdout",
          "output_type": "stream",
          "text": [
            "\n",
            "      Epoch    GPU_mem   box_loss  pose_loss  kobj_loss   cls_loss   dfl_loss  Instances       Size\n"
          ]
        },
        {
          "name": "stderr",
          "output_type": "stream",
          "text": [
            "     32/100      0.66G      1.035      2.136     0.5451     0.7336      1.348          6        640: 100%|██████████| 1/1 [00:00<00:00, 12.74it/s]\n",
            "                 Class     Images  Instances      Box(P          R      mAP50  mAP50-95)     Pose(P          R      mAP50  mAP50-95): 100%|██████████| 1/1 [00:00<00:00, 20.42it/s]"
          ]
        },
        {
          "name": "stdout",
          "output_type": "stream",
          "text": [
            "                   all          4         14        0.7        0.5      0.531      0.293      0.671      0.214      0.214     0.0422\n"
          ]
        },
        {
          "name": "stderr",
          "output_type": "stream",
          "text": [
            "\n"
          ]
        },
        {
          "name": "stdout",
          "output_type": "stream",
          "text": [
            "\n",
            "      Epoch    GPU_mem   box_loss  pose_loss  kobj_loss   cls_loss   dfl_loss  Instances       Size\n"
          ]
        },
        {
          "name": "stderr",
          "output_type": "stream",
          "text": [
            "     33/100      0.66G      1.209      3.757     0.3004     0.7024       1.15         15        640: 100%|██████████| 1/1 [00:00<00:00,  8.53it/s]\n",
            "                 Class     Images  Instances      Box(P          R      mAP50  mAP50-95)     Pose(P          R      mAP50  mAP50-95): 100%|██████████| 1/1 [00:00<00:00, 18.85it/s]"
          ]
        },
        {
          "name": "stdout",
          "output_type": "stream",
          "text": [
            "                   all          4         14       0.77      0.479      0.542      0.275      0.423      0.143     0.0789     0.0212\n"
          ]
        },
        {
          "name": "stderr",
          "output_type": "stream",
          "text": [
            "\n"
          ]
        },
        {
          "name": "stdout",
          "output_type": "stream",
          "text": [
            "\n",
            "      Epoch    GPU_mem   box_loss  pose_loss  kobj_loss   cls_loss   dfl_loss  Instances       Size\n"
          ]
        },
        {
          "name": "stderr",
          "output_type": "stream",
          "text": [
            "     34/100      0.66G      1.395      3.679     0.3041     0.8332      1.217         10        640: 100%|██████████| 1/1 [00:00<00:00, 13.16it/s]\n",
            "                 Class     Images  Instances      Box(P          R      mAP50  mAP50-95)     Pose(P          R      mAP50  mAP50-95): 100%|██████████| 1/1 [00:00<00:00, 20.41it/s]"
          ]
        },
        {
          "name": "stdout",
          "output_type": "stream",
          "text": [
            "                   all          4         14       0.77      0.479      0.542      0.275      0.423      0.143     0.0789     0.0212\n"
          ]
        },
        {
          "name": "stderr",
          "output_type": "stream",
          "text": [
            "\n"
          ]
        },
        {
          "name": "stdout",
          "output_type": "stream",
          "text": [
            "\n",
            "      Epoch    GPU_mem   box_loss  pose_loss  kobj_loss   cls_loss   dfl_loss  Instances       Size\n"
          ]
        },
        {
          "name": "stderr",
          "output_type": "stream",
          "text": [
            "     35/100      0.66G      1.028      2.899     0.2978      0.708      1.014         22        640: 100%|██████████| 1/1 [00:00<00:00, 10.41it/s]\n",
            "                 Class     Images  Instances      Box(P          R      mAP50  mAP50-95)     Pose(P          R      mAP50  mAP50-95): 100%|██████████| 1/1 [00:00<00:00, 19.62it/s]"
          ]
        },
        {
          "name": "stdout",
          "output_type": "stream",
          "text": [
            "                   all          4         14       0.71      0.357      0.438      0.183       0.32      0.143     0.0746     0.0223\n"
          ]
        },
        {
          "name": "stderr",
          "output_type": "stream",
          "text": [
            "\n"
          ]
        },
        {
          "name": "stdout",
          "output_type": "stream",
          "text": [
            "\n",
            "      Epoch    GPU_mem   box_loss  pose_loss  kobj_loss   cls_loss   dfl_loss  Instances       Size\n"
          ]
        },
        {
          "name": "stderr",
          "output_type": "stream",
          "text": [
            "     36/100      0.66G     0.9927      3.104      0.334     0.7416      1.095         22        640: 100%|██████████| 1/1 [00:00<00:00, 12.65it/s]\n",
            "                 Class     Images  Instances      Box(P          R      mAP50  mAP50-95)     Pose(P          R      mAP50  mAP50-95): 100%|██████████| 1/1 [00:00<00:00, 19.24it/s]"
          ]
        },
        {
          "name": "stdout",
          "output_type": "stream",
          "text": [
            "                   all          4         14       0.71      0.357      0.438      0.183       0.32      0.143     0.0746     0.0223\n"
          ]
        },
        {
          "name": "stderr",
          "output_type": "stream",
          "text": [
            "\n"
          ]
        },
        {
          "name": "stdout",
          "output_type": "stream",
          "text": [
            "\n",
            "      Epoch    GPU_mem   box_loss  pose_loss  kobj_loss   cls_loss   dfl_loss  Instances       Size\n"
          ]
        },
        {
          "name": "stderr",
          "output_type": "stream",
          "text": [
            "     37/100      0.66G      1.013      3.435     0.3176     0.7209      1.079          8        640: 100%|██████████| 1/1 [00:00<00:00,  9.43it/s]\n",
            "                 Class     Images  Instances      Box(P          R      mAP50  mAP50-95)     Pose(P          R      mAP50  mAP50-95): 100%|██████████| 1/1 [00:00<00:00, 20.78it/s]"
          ]
        },
        {
          "name": "stdout",
          "output_type": "stream",
          "text": [
            "                   all          4         14       0.92      0.286      0.479      0.192      0.621      0.143      0.105      0.028\n"
          ]
        },
        {
          "name": "stderr",
          "output_type": "stream",
          "text": [
            "\n"
          ]
        },
        {
          "name": "stdout",
          "output_type": "stream",
          "text": [
            "\n",
            "      Epoch    GPU_mem   box_loss  pose_loss  kobj_loss   cls_loss   dfl_loss  Instances       Size\n"
          ]
        },
        {
          "name": "stderr",
          "output_type": "stream",
          "text": [
            "     38/100      0.66G     0.9896      3.815     0.3096     0.7127      1.115         17        640: 100%|██████████| 1/1 [00:00<00:00,  5.23it/s]\n",
            "                 Class     Images  Instances      Box(P          R      mAP50  mAP50-95)     Pose(P          R      mAP50  mAP50-95): 100%|██████████| 1/1 [00:00<00:00, 21.24it/s]"
          ]
        },
        {
          "name": "stdout",
          "output_type": "stream",
          "text": [
            "                   all          4         14       0.92      0.286      0.479      0.192      0.621      0.143      0.105      0.028\n"
          ]
        },
        {
          "name": "stderr",
          "output_type": "stream",
          "text": [
            "\n"
          ]
        },
        {
          "name": "stdout",
          "output_type": "stream",
          "text": [
            "\n",
            "      Epoch    GPU_mem   box_loss  pose_loss  kobj_loss   cls_loss   dfl_loss  Instances       Size\n"
          ]
        },
        {
          "name": "stderr",
          "output_type": "stream",
          "text": [
            "     39/100      0.66G      1.182      3.666     0.2649     0.6598      1.176         20        640: 100%|██████████| 1/1 [00:00<00:00,  9.85it/s]\n",
            "                 Class     Images  Instances      Box(P          R      mAP50  mAP50-95)     Pose(P          R      mAP50  mAP50-95): 100%|██████████| 1/1 [00:00<00:00, 22.23it/s]"
          ]
        },
        {
          "name": "stdout",
          "output_type": "stream",
          "text": [
            "                   all          4         14      0.958      0.286      0.415      0.187      0.631      0.143      0.138     0.0227\n"
          ]
        },
        {
          "name": "stderr",
          "output_type": "stream",
          "text": [
            "\n"
          ]
        },
        {
          "name": "stdout",
          "output_type": "stream",
          "text": [
            "\n",
            "      Epoch    GPU_mem   box_loss  pose_loss  kobj_loss   cls_loss   dfl_loss  Instances       Size\n"
          ]
        },
        {
          "name": "stderr",
          "output_type": "stream",
          "text": [
            "     40/100      0.66G       1.09      2.351     0.3387     0.8791      1.063         12        640: 100%|██████████| 1/1 [00:00<00:00, 14.08it/s]\n",
            "                 Class     Images  Instances      Box(P          R      mAP50  mAP50-95)     Pose(P          R      mAP50  mAP50-95): 100%|██████████| 1/1 [00:00<00:00, 22.74it/s]"
          ]
        },
        {
          "name": "stdout",
          "output_type": "stream",
          "text": [
            "                   all          4         14      0.958      0.286      0.415      0.187      0.631      0.143      0.138     0.0227\n"
          ]
        },
        {
          "name": "stderr",
          "output_type": "stream",
          "text": [
            "\n"
          ]
        },
        {
          "name": "stdout",
          "output_type": "stream",
          "text": [
            "\n",
            "      Epoch    GPU_mem   box_loss  pose_loss  kobj_loss   cls_loss   dfl_loss  Instances       Size\n"
          ]
        },
        {
          "name": "stderr",
          "output_type": "stream",
          "text": [
            "     41/100      0.66G     0.8826      2.649     0.3037     0.6826      1.043         21        640: 100%|██████████| 1/1 [00:00<00:00,  8.76it/s]\n",
            "                 Class     Images  Instances      Box(P          R      mAP50  mAP50-95)     Pose(P          R      mAP50  mAP50-95): 100%|██████████| 1/1 [00:00<00:00, 22.75it/s]"
          ]
        },
        {
          "name": "stdout",
          "output_type": "stream",
          "text": [
            "                   all          4         14      0.744      0.286      0.426      0.184       0.32     0.0714     0.0297    0.00595\n"
          ]
        },
        {
          "name": "stderr",
          "output_type": "stream",
          "text": [
            "\n"
          ]
        },
        {
          "name": "stdout",
          "output_type": "stream",
          "text": [
            "\n",
            "      Epoch    GPU_mem   box_loss  pose_loss  kobj_loss   cls_loss   dfl_loss  Instances       Size\n"
          ]
        },
        {
          "name": "stderr",
          "output_type": "stream",
          "text": [
            "     42/100      0.66G      1.337      3.095     0.3475     0.9298      1.318         18        640: 100%|██████████| 1/1 [00:00<00:00, 13.31it/s]\n",
            "                 Class     Images  Instances      Box(P          R      mAP50  mAP50-95)     Pose(P          R      mAP50  mAP50-95): 100%|██████████| 1/1 [00:00<00:00, 18.88it/s]"
          ]
        },
        {
          "name": "stdout",
          "output_type": "stream",
          "text": [
            "                   all          4         14      0.744      0.286      0.426      0.184       0.32     0.0714     0.0297    0.00595\n"
          ]
        },
        {
          "name": "stderr",
          "output_type": "stream",
          "text": [
            "\n"
          ]
        },
        {
          "name": "stdout",
          "output_type": "stream",
          "text": [
            "\n",
            "      Epoch    GPU_mem   box_loss  pose_loss  kobj_loss   cls_loss   dfl_loss  Instances       Size\n"
          ]
        },
        {
          "name": "stderr",
          "output_type": "stream",
          "text": [
            "     43/100      0.66G      1.037      3.051     0.3292     0.7367      1.061         16        640: 100%|██████████| 1/1 [00:00<00:00,  9.25it/s]\n",
            "                 Class     Images  Instances      Box(P          R      mAP50  mAP50-95)     Pose(P          R      mAP50  mAP50-95): 100%|██████████| 1/1 [00:00<00:00, 21.26it/s]\n"
          ]
        },
        {
          "name": "stdout",
          "output_type": "stream",
          "text": [
            "                   all          4         14      0.559      0.357      0.439      0.196      0.317     0.0714     0.0304    0.00607\n",
            "\n",
            "      Epoch    GPU_mem   box_loss  pose_loss  kobj_loss   cls_loss   dfl_loss  Instances       Size\n"
          ]
        },
        {
          "name": "stderr",
          "output_type": "stream",
          "text": [
            "     44/100      0.66G      0.841      3.791     0.2625     0.7321      1.108         11        640: 100%|██████████| 1/1 [00:00<00:00, 12.34it/s]\n",
            "                 Class     Images  Instances      Box(P          R      mAP50  mAP50-95)     Pose(P          R      mAP50  mAP50-95): 100%|██████████| 1/1 [00:00<00:00, 17.23it/s]"
          ]
        },
        {
          "name": "stdout",
          "output_type": "stream",
          "text": [
            "                   all          4         14      0.559      0.357      0.439      0.196      0.317     0.0714     0.0304    0.00607\n"
          ]
        },
        {
          "name": "stderr",
          "output_type": "stream",
          "text": [
            "\n"
          ]
        },
        {
          "name": "stdout",
          "output_type": "stream",
          "text": [
            "\n",
            "      Epoch    GPU_mem   box_loss  pose_loss  kobj_loss   cls_loss   dfl_loss  Instances       Size\n"
          ]
        },
        {
          "name": "stderr",
          "output_type": "stream",
          "text": [
            "     45/100      0.66G     0.7934      2.842     0.3092      0.778     0.9772         23        640: 100%|██████████| 1/1 [00:00<00:00,  4.63it/s]\n",
            "                 Class     Images  Instances      Box(P          R      mAP50  mAP50-95)     Pose(P          R      mAP50  mAP50-95): 100%|██████████| 1/1 [00:00<00:00, 12.82it/s]"
          ]
        },
        {
          "name": "stdout",
          "output_type": "stream",
          "text": [
            "                   all          4         14      0.707      0.286      0.417      0.235      0.688      0.143      0.166     0.0341\n"
          ]
        },
        {
          "name": "stderr",
          "output_type": "stream",
          "text": [
            "\n"
          ]
        },
        {
          "name": "stdout",
          "output_type": "stream",
          "text": [
            "\n",
            "      Epoch    GPU_mem   box_loss  pose_loss  kobj_loss   cls_loss   dfl_loss  Instances       Size\n"
          ]
        },
        {
          "name": "stderr",
          "output_type": "stream",
          "text": [
            "     46/100      0.66G      1.152      4.434     0.3497      1.197      1.276         15        640: 100%|██████████| 1/1 [00:00<00:00, 14.49it/s]\n",
            "                 Class     Images  Instances      Box(P          R      mAP50  mAP50-95)     Pose(P          R      mAP50  mAP50-95): 100%|██████████| 1/1 [00:00<00:00, 18.84it/s]"
          ]
        },
        {
          "name": "stdout",
          "output_type": "stream",
          "text": [
            "                   all          4         14      0.707      0.286      0.417      0.235      0.688      0.143      0.166     0.0341\n"
          ]
        },
        {
          "name": "stderr",
          "output_type": "stream",
          "text": [
            "\n"
          ]
        },
        {
          "name": "stdout",
          "output_type": "stream",
          "text": [
            "\n",
            "      Epoch    GPU_mem   box_loss  pose_loss  kobj_loss   cls_loss   dfl_loss  Instances       Size\n"
          ]
        },
        {
          "name": "stderr",
          "output_type": "stream",
          "text": [
            "     47/100      0.66G     0.7398      2.512     0.3815     0.6047     0.8943         12        640: 100%|██████████| 1/1 [00:00<00:00, 10.46it/s]\n",
            "                 Class     Images  Instances      Box(P          R      mAP50  mAP50-95)     Pose(P          R      mAP50  mAP50-95): 100%|██████████| 1/1 [00:00<00:00, 21.70it/s]"
          ]
        },
        {
          "name": "stdout",
          "output_type": "stream",
          "text": [
            "                   all          4         14       0.96      0.286       0.41      0.231      0.857      0.143      0.157     0.0403\n"
          ]
        },
        {
          "name": "stderr",
          "output_type": "stream",
          "text": [
            "\n"
          ]
        },
        {
          "name": "stdout",
          "output_type": "stream",
          "text": [
            "\n",
            "      Epoch    GPU_mem   box_loss  pose_loss  kobj_loss   cls_loss   dfl_loss  Instances       Size\n"
          ]
        },
        {
          "name": "stderr",
          "output_type": "stream",
          "text": [
            "     48/100      0.66G     0.8047      2.729     0.3441      0.661     0.9781         13        640: 100%|██████████| 1/1 [00:00<00:00, 12.51it/s]\n",
            "                 Class     Images  Instances      Box(P          R      mAP50  mAP50-95)     Pose(P          R      mAP50  mAP50-95): 100%|██████████| 1/1 [00:00<00:00, 19.22it/s]"
          ]
        },
        {
          "name": "stdout",
          "output_type": "stream",
          "text": [
            "                   all          4         14       0.96      0.286       0.41      0.231      0.857      0.143      0.157     0.0403\n"
          ]
        },
        {
          "name": "stderr",
          "output_type": "stream",
          "text": [
            "\n"
          ]
        },
        {
          "name": "stdout",
          "output_type": "stream",
          "text": [
            "\n",
            "      Epoch    GPU_mem   box_loss  pose_loss  kobj_loss   cls_loss   dfl_loss  Instances       Size\n"
          ]
        },
        {
          "name": "stderr",
          "output_type": "stream",
          "text": [
            "     49/100      0.66G     0.7778       2.52     0.3032     0.6402      1.008         15        640: 100%|██████████| 1/1 [00:00<00:00, 10.15it/s]\n",
            "                 Class     Images  Instances      Box(P          R      mAP50  mAP50-95)     Pose(P          R      mAP50  mAP50-95): 100%|██████████| 1/1 [00:00<00:00, 21.29it/s]"
          ]
        },
        {
          "name": "stdout",
          "output_type": "stream",
          "text": [
            "                   all          4         14          1      0.285      0.402      0.221       0.65      0.143      0.157     0.0245\n"
          ]
        },
        {
          "name": "stderr",
          "output_type": "stream",
          "text": [
            "\n"
          ]
        },
        {
          "name": "stdout",
          "output_type": "stream",
          "text": [
            "\n",
            "      Epoch    GPU_mem   box_loss  pose_loss  kobj_loss   cls_loss   dfl_loss  Instances       Size\n"
          ]
        },
        {
          "name": "stderr",
          "output_type": "stream",
          "text": [
            "     50/100      0.66G     0.7266      3.385      0.301     0.5438      1.061         11        640: 100%|██████████| 1/1 [00:00<00:00, 13.15it/s]\n",
            "                 Class     Images  Instances      Box(P          R      mAP50  mAP50-95)     Pose(P          R      mAP50  mAP50-95): 100%|██████████| 1/1 [00:00<00:00, 19.63it/s]"
          ]
        },
        {
          "name": "stdout",
          "output_type": "stream",
          "text": [
            "                   all          4         14          1      0.285      0.402      0.221       0.65      0.143      0.157     0.0245\n"
          ]
        },
        {
          "name": "stderr",
          "output_type": "stream",
          "text": [
            "\n"
          ]
        },
        {
          "name": "stdout",
          "output_type": "stream",
          "text": [
            "\n",
            "      Epoch    GPU_mem   box_loss  pose_loss  kobj_loss   cls_loss   dfl_loss  Instances       Size\n"
          ]
        },
        {
          "name": "stderr",
          "output_type": "stream",
          "text": [
            "     51/100      0.66G     0.8838      2.795     0.3892     0.5928     0.9752         18        640: 100%|██████████| 1/1 [00:00<00:00,  7.41it/s]\n",
            "                 Class     Images  Instances      Box(P          R      mAP50  mAP50-95)     Pose(P          R      mAP50  mAP50-95): 100%|██████████| 1/1 [00:00<00:00, 16.47it/s]"
          ]
        },
        {
          "name": "stdout",
          "output_type": "stream",
          "text": [
            "                   all          4         14      0.773      0.286      0.398       0.21      0.649      0.143      0.173     0.0262\n"
          ]
        },
        {
          "name": "stderr",
          "output_type": "stream",
          "text": [
            "\n"
          ]
        },
        {
          "name": "stdout",
          "output_type": "stream",
          "text": [
            "\n",
            "      Epoch    GPU_mem   box_loss  pose_loss  kobj_loss   cls_loss   dfl_loss  Instances       Size\n"
          ]
        },
        {
          "name": "stderr",
          "output_type": "stream",
          "text": [
            "     52/100      0.66G     0.8744      2.915     0.3225     0.6103      1.263         11        640: 100%|██████████| 1/1 [00:00<00:00, 12.69it/s]\n",
            "                 Class     Images  Instances      Box(P          R      mAP50  mAP50-95)     Pose(P          R      mAP50  mAP50-95): 100%|██████████| 1/1 [00:00<00:00, 19.87it/s]"
          ]
        },
        {
          "name": "stdout",
          "output_type": "stream",
          "text": [
            "                   all          4         14      0.773      0.286      0.398       0.21      0.649      0.143      0.173     0.0262\n"
          ]
        },
        {
          "name": "stderr",
          "output_type": "stream",
          "text": [
            "\n"
          ]
        },
        {
          "name": "stdout",
          "output_type": "stream",
          "text": [
            "\n",
            "      Epoch    GPU_mem   box_loss  pose_loss  kobj_loss   cls_loss   dfl_loss  Instances       Size\n"
          ]
        },
        {
          "name": "stderr",
          "output_type": "stream",
          "text": [
            "     53/100      0.66G      1.077      2.669     0.3796     0.7458       1.03         18        640: 100%|██████████| 1/1 [00:00<00:00,  5.40it/s]\n",
            "                 Class     Images  Instances      Box(P          R      mAP50  mAP50-95)     Pose(P          R      mAP50  mAP50-95): 100%|██████████| 1/1 [00:00<00:00, 20.00it/s]"
          ]
        },
        {
          "name": "stdout",
          "output_type": "stream",
          "text": [
            "                   all          4         14      0.773      0.286      0.398       0.21      0.649      0.143      0.173     0.0262\n"
          ]
        },
        {
          "name": "stderr",
          "output_type": "stream",
          "text": [
            "\n"
          ]
        },
        {
          "name": "stdout",
          "output_type": "stream",
          "text": [
            "\n",
            "      Epoch    GPU_mem   box_loss  pose_loss  kobj_loss   cls_loss   dfl_loss  Instances       Size\n"
          ]
        },
        {
          "name": "stderr",
          "output_type": "stream",
          "text": [
            "     54/100      0.66G     0.7644      2.209     0.4198     0.5844     0.9619         10        640: 100%|██████████| 1/1 [00:00<00:00, 11.12it/s]\n",
            "                 Class     Images  Instances      Box(P          R      mAP50  mAP50-95)     Pose(P          R      mAP50  mAP50-95): 100%|██████████| 1/1 [00:00<00:00, 19.98it/s]"
          ]
        },
        {
          "name": "stdout",
          "output_type": "stream",
          "text": [
            "                   all          4         14      0.398      0.429      0.374      0.176      0.761      0.143      0.157     0.0288\n"
          ]
        },
        {
          "name": "stderr",
          "output_type": "stream",
          "text": [
            "\n"
          ]
        },
        {
          "name": "stdout",
          "output_type": "stream",
          "text": [
            "\n",
            "      Epoch    GPU_mem   box_loss  pose_loss  kobj_loss   cls_loss   dfl_loss  Instances       Size\n"
          ]
        },
        {
          "name": "stderr",
          "output_type": "stream",
          "text": [
            "     55/100      0.66G     0.8431      3.493     0.2412     0.6486      1.065         13        640: 100%|██████████| 1/1 [00:00<00:00, 12.50it/s]\n",
            "                 Class     Images  Instances      Box(P          R      mAP50  mAP50-95)     Pose(P          R      mAP50  mAP50-95): 100%|██████████| 1/1 [00:00<00:00, 19.80it/s]"
          ]
        },
        {
          "name": "stdout",
          "output_type": "stream",
          "text": [
            "                   all          4         14      0.398      0.429      0.374      0.176      0.761      0.143      0.157     0.0288\n"
          ]
        },
        {
          "name": "stderr",
          "output_type": "stream",
          "text": [
            "\n"
          ]
        },
        {
          "name": "stdout",
          "output_type": "stream",
          "text": [
            "\n",
            "      Epoch    GPU_mem   box_loss  pose_loss  kobj_loss   cls_loss   dfl_loss  Instances       Size\n"
          ]
        },
        {
          "name": "stderr",
          "output_type": "stream",
          "text": [
            "     56/100      0.66G     0.7544      2.669     0.3199     0.6166     0.9972         16        640: 100%|██████████| 1/1 [00:00<00:00, 10.00it/s]\n",
            "                 Class     Images  Instances      Box(P          R      mAP50  mAP50-95)     Pose(P          R      mAP50  mAP50-95): 100%|██████████| 1/1 [00:00<00:00, 22.69it/s]"
          ]
        },
        {
          "name": "stdout",
          "output_type": "stream",
          "text": [
            "                   all          4         14      0.398      0.429      0.374      0.176      0.761      0.143      0.157     0.0288\n"
          ]
        },
        {
          "name": "stderr",
          "output_type": "stream",
          "text": [
            "\n"
          ]
        },
        {
          "name": "stdout",
          "output_type": "stream",
          "text": [
            "\n",
            "      Epoch    GPU_mem   box_loss  pose_loss  kobj_loss   cls_loss   dfl_loss  Instances       Size\n"
          ]
        },
        {
          "name": "stderr",
          "output_type": "stream",
          "text": [
            "     57/100      0.66G     0.9761      3.662      0.332      0.657      1.081         16        640: 100%|██████████| 1/1 [00:00<00:00,  8.62it/s]\n",
            "                 Class     Images  Instances      Box(P          R      mAP50  mAP50-95)     Pose(P          R      mAP50  mAP50-95): 100%|██████████| 1/1 [00:00<00:00, 20.01it/s]"
          ]
        },
        {
          "name": "stdout",
          "output_type": "stream",
          "text": [
            "                   all          4         14      0.555      0.356      0.393      0.179      0.906      0.143      0.154     0.0549\n"
          ]
        },
        {
          "name": "stderr",
          "output_type": "stream",
          "text": [
            "\n"
          ]
        },
        {
          "name": "stdout",
          "output_type": "stream",
          "text": [
            "\n",
            "      Epoch    GPU_mem   box_loss  pose_loss  kobj_loss   cls_loss   dfl_loss  Instances       Size\n"
          ]
        },
        {
          "name": "stderr",
          "output_type": "stream",
          "text": [
            "     58/100      0.66G     0.7527      3.365     0.3395     0.6082     0.9352         15        640: 100%|██████████| 1/1 [00:00<00:00, 14.07it/s]\n",
            "                 Class     Images  Instances      Box(P          R      mAP50  mAP50-95)     Pose(P          R      mAP50  mAP50-95): 100%|██████████| 1/1 [00:00<00:00, 19.62it/s]"
          ]
        },
        {
          "name": "stdout",
          "output_type": "stream",
          "text": [
            "                   all          4         14      0.555      0.356      0.393      0.179      0.906      0.143      0.154     0.0549\n"
          ]
        },
        {
          "name": "stderr",
          "output_type": "stream",
          "text": [
            "\n"
          ]
        },
        {
          "name": "stdout",
          "output_type": "stream",
          "text": [
            "\n",
            "      Epoch    GPU_mem   box_loss  pose_loss  kobj_loss   cls_loss   dfl_loss  Instances       Size\n"
          ]
        },
        {
          "name": "stderr",
          "output_type": "stream",
          "text": [
            "     59/100      0.66G     0.8948      2.365      0.343     0.7242     0.9861         14        640: 100%|██████████| 1/1 [00:00<00:00, 12.50it/s]\n",
            "                 Class     Images  Instances      Box(P          R      mAP50  mAP50-95)     Pose(P          R      mAP50  mAP50-95): 100%|██████████| 1/1 [00:00<00:00, 16.91it/s]"
          ]
        },
        {
          "name": "stdout",
          "output_type": "stream",
          "text": [
            "                   all          4         14      0.555      0.356      0.393      0.179      0.906      0.143      0.154     0.0549\n"
          ]
        },
        {
          "name": "stderr",
          "output_type": "stream",
          "text": [
            "\n"
          ]
        },
        {
          "name": "stdout",
          "output_type": "stream",
          "text": [
            "\n",
            "      Epoch    GPU_mem   box_loss  pose_loss  kobj_loss   cls_loss   dfl_loss  Instances       Size\n"
          ]
        },
        {
          "name": "stderr",
          "output_type": "stream",
          "text": [
            "     60/100      0.66G     0.8493      1.954     0.2777     0.6049      1.173         11        640: 100%|██████████| 1/1 [00:00<00:00,  9.17it/s]\n",
            "                 Class     Images  Instances      Box(P          R      mAP50  mAP50-95)     Pose(P          R      mAP50  mAP50-95): 100%|██████████| 1/1 [00:00<00:00, 19.25it/s]"
          ]
        },
        {
          "name": "stdout",
          "output_type": "stream",
          "text": [
            "                   all          4         14      0.392      0.429       0.34      0.167      0.357      0.214      0.194     0.0584\n"
          ]
        },
        {
          "name": "stderr",
          "output_type": "stream",
          "text": [
            "\n"
          ]
        },
        {
          "name": "stdout",
          "output_type": "stream",
          "text": [
            "\n",
            "      Epoch    GPU_mem   box_loss  pose_loss  kobj_loss   cls_loss   dfl_loss  Instances       Size\n"
          ]
        },
        {
          "name": "stderr",
          "output_type": "stream",
          "text": [
            "     61/100      0.66G     0.8683      2.574      0.344     0.5812      1.019         18        640: 100%|██████████| 1/1 [00:00<00:00, 10.98it/s]\n",
            "                 Class     Images  Instances      Box(P          R      mAP50  mAP50-95)     Pose(P          R      mAP50  mAP50-95): 100%|██████████| 1/1 [00:00<00:00, 18.88it/s]"
          ]
        },
        {
          "name": "stdout",
          "output_type": "stream",
          "text": [
            "                   all          4         14      0.392      0.429       0.34      0.167      0.357      0.214      0.194     0.0584\n"
          ]
        },
        {
          "name": "stderr",
          "output_type": "stream",
          "text": [
            "\n"
          ]
        },
        {
          "name": "stdout",
          "output_type": "stream",
          "text": [
            "\n",
            "      Epoch    GPU_mem   box_loss  pose_loss  kobj_loss   cls_loss   dfl_loss  Instances       Size\n"
          ]
        },
        {
          "name": "stderr",
          "output_type": "stream",
          "text": [
            "     62/100      0.66G     0.7586      2.583     0.2445      0.536     0.9324         17        640: 100%|██████████| 1/1 [00:00<00:00, 11.91it/s]\n",
            "                 Class     Images  Instances      Box(P          R      mAP50  mAP50-95)     Pose(P          R      mAP50  mAP50-95): 100%|██████████| 1/1 [00:00<00:00, 19.24it/s]"
          ]
        },
        {
          "name": "stdout",
          "output_type": "stream",
          "text": [
            "                   all          4         14      0.392      0.429       0.34      0.167      0.357      0.214      0.194     0.0584\n"
          ]
        },
        {
          "name": "stderr",
          "output_type": "stream",
          "text": [
            "\n"
          ]
        },
        {
          "name": "stdout",
          "output_type": "stream",
          "text": [
            "\n",
            "      Epoch    GPU_mem   box_loss  pose_loss  kobj_loss   cls_loss   dfl_loss  Instances       Size\n"
          ]
        },
        {
          "name": "stderr",
          "output_type": "stream",
          "text": [
            "     63/100      0.66G     0.6444      2.608      0.396     0.5775       1.14          6        640: 100%|██████████| 1/1 [00:00<00:00,  4.51it/s]\n",
            "                 Class     Images  Instances      Box(P          R      mAP50  mAP50-95)     Pose(P          R      mAP50  mAP50-95): 100%|██████████| 1/1 [00:00<00:00, 20.02it/s]"
          ]
        },
        {
          "name": "stdout",
          "output_type": "stream",
          "text": [
            "                   all          4         14      0.339      0.429      0.345      0.189       0.41      0.214       0.19     0.0618\n"
          ]
        },
        {
          "name": "stderr",
          "output_type": "stream",
          "text": [
            "\n"
          ]
        },
        {
          "name": "stdout",
          "output_type": "stream",
          "text": [
            "\n",
            "      Epoch    GPU_mem   box_loss  pose_loss  kobj_loss   cls_loss   dfl_loss  Instances       Size\n"
          ]
        },
        {
          "name": "stderr",
          "output_type": "stream",
          "text": [
            "     64/100      0.66G     0.7485      2.733     0.4262     0.5825      1.094         11        640: 100%|██████████| 1/1 [00:00<00:00, 12.33it/s]\n",
            "                 Class     Images  Instances      Box(P          R      mAP50  mAP50-95)     Pose(P          R      mAP50  mAP50-95): 100%|██████████| 1/1 [00:00<00:00, 21.94it/s]"
          ]
        },
        {
          "name": "stdout",
          "output_type": "stream",
          "text": [
            "                   all          4         14      0.339      0.429      0.345      0.189       0.41      0.214       0.19     0.0618\n"
          ]
        },
        {
          "name": "stderr",
          "output_type": "stream",
          "text": [
            "\n"
          ]
        },
        {
          "name": "stdout",
          "output_type": "stream",
          "text": [
            "\n",
            "      Epoch    GPU_mem   box_loss  pose_loss  kobj_loss   cls_loss   dfl_loss  Instances       Size\n"
          ]
        },
        {
          "name": "stderr",
          "output_type": "stream",
          "text": [
            "     65/100      0.66G     0.7534      1.651     0.2589     0.5649      1.031          9        640: 100%|██████████| 1/1 [00:00<00:00, 11.74it/s]\n",
            "                 Class     Images  Instances      Box(P          R      mAP50  mAP50-95)     Pose(P          R      mAP50  mAP50-95): 100%|██████████| 1/1 [00:00<00:00, 18.85it/s]"
          ]
        },
        {
          "name": "stdout",
          "output_type": "stream",
          "text": [
            "                   all          4         14      0.339      0.429      0.345      0.189       0.41      0.214       0.19     0.0618\n"
          ]
        },
        {
          "name": "stderr",
          "output_type": "stream",
          "text": [
            "\n"
          ]
        },
        {
          "name": "stdout",
          "output_type": "stream",
          "text": [
            "\n",
            "      Epoch    GPU_mem   box_loss  pose_loss  kobj_loss   cls_loss   dfl_loss  Instances       Size\n"
          ]
        },
        {
          "name": "stderr",
          "output_type": "stream",
          "text": [
            "     66/100      0.66G     0.8106       2.76     0.3405     0.5587      1.147         13        640: 100%|██████████| 1/1 [00:00<00:00, 10.64it/s]\n",
            "                 Class     Images  Instances      Box(P          R      mAP50  mAP50-95)     Pose(P          R      mAP50  mAP50-95): 100%|██████████| 1/1 [00:00<00:00, 20.84it/s]"
          ]
        },
        {
          "name": "stdout",
          "output_type": "stream",
          "text": [
            "                   all          4         14      0.553      0.286      0.304      0.148      0.414      0.214      0.173      0.038\n"
          ]
        },
        {
          "name": "stderr",
          "output_type": "stream",
          "text": [
            "\n"
          ]
        },
        {
          "name": "stdout",
          "output_type": "stream",
          "text": [
            "\n",
            "      Epoch    GPU_mem   box_loss  pose_loss  kobj_loss   cls_loss   dfl_loss  Instances       Size\n"
          ]
        },
        {
          "name": "stderr",
          "output_type": "stream",
          "text": [
            "     67/100      0.66G      1.045      3.588     0.2477     0.6429      1.215         11        640: 100%|██████████| 1/1 [00:00<00:00, 14.05it/s]\n",
            "                 Class     Images  Instances      Box(P          R      mAP50  mAP50-95)     Pose(P          R      mAP50  mAP50-95): 100%|██████████| 1/1 [00:00<00:00, 18.88it/s]"
          ]
        },
        {
          "name": "stdout",
          "output_type": "stream",
          "text": [
            "                   all          4         14      0.553      0.286      0.304      0.148      0.414      0.214      0.173      0.038\n"
          ]
        },
        {
          "name": "stderr",
          "output_type": "stream",
          "text": [
            "\n"
          ]
        },
        {
          "name": "stdout",
          "output_type": "stream",
          "text": [
            "\n",
            "      Epoch    GPU_mem   box_loss  pose_loss  kobj_loss   cls_loss   dfl_loss  Instances       Size\n"
          ]
        },
        {
          "name": "stderr",
          "output_type": "stream",
          "text": [
            "     68/100      0.66G     0.7445      2.051     0.3401     0.5578       1.08         12        640: 100%|██████████| 1/1 [00:00<00:00, 12.99it/s]\n",
            "                 Class     Images  Instances      Box(P          R      mAP50  mAP50-95)     Pose(P          R      mAP50  mAP50-95): 100%|██████████| 1/1 [00:00<00:00, 18.53it/s]"
          ]
        },
        {
          "name": "stdout",
          "output_type": "stream",
          "text": [
            "                   all          4         14      0.553      0.286      0.304      0.148      0.414      0.214      0.173      0.038\n"
          ]
        },
        {
          "name": "stderr",
          "output_type": "stream",
          "text": [
            "\n"
          ]
        },
        {
          "name": "stdout",
          "output_type": "stream",
          "text": [
            "\n",
            "      Epoch    GPU_mem   box_loss  pose_loss  kobj_loss   cls_loss   dfl_loss  Instances       Size\n"
          ]
        },
        {
          "name": "stderr",
          "output_type": "stream",
          "text": [
            "     69/100      0.66G      1.088      2.977     0.3074     0.6743      1.155         19        640: 100%|██████████| 1/1 [00:00<00:00,  8.69it/s]\n",
            "                 Class     Images  Instances      Box(P          R      mAP50  mAP50-95)     Pose(P          R      mAP50  mAP50-95): 100%|██████████| 1/1 [00:00<00:00, 21.29it/s]"
          ]
        },
        {
          "name": "stdout",
          "output_type": "stream",
          "text": [
            "                   all          4         14      0.425      0.429      0.282      0.135      0.222      0.214      0.121     0.0256\n"
          ]
        },
        {
          "name": "stderr",
          "output_type": "stream",
          "text": [
            "\n"
          ]
        },
        {
          "name": "stdout",
          "output_type": "stream",
          "text": [
            "\n",
            "      Epoch    GPU_mem   box_loss  pose_loss  kobj_loss   cls_loss   dfl_loss  Instances       Size\n"
          ]
        },
        {
          "name": "stderr",
          "output_type": "stream",
          "text": [
            "     70/100      0.66G     0.6939      2.086     0.2204     0.5762     0.9664         13        640: 100%|██████████| 1/1 [00:00<00:00,  5.26it/s]\n",
            "                 Class     Images  Instances      Box(P          R      mAP50  mAP50-95)     Pose(P          R      mAP50  mAP50-95): 100%|██████████| 1/1 [00:00<00:00, 17.23it/s]"
          ]
        },
        {
          "name": "stdout",
          "output_type": "stream",
          "text": [
            "                   all          4         14      0.425      0.429      0.282      0.135      0.222      0.214      0.121     0.0256\n"
          ]
        },
        {
          "name": "stderr",
          "output_type": "stream",
          "text": [
            "\n"
          ]
        },
        {
          "name": "stdout",
          "output_type": "stream",
          "text": [
            "\n",
            "      Epoch    GPU_mem   box_loss  pose_loss  kobj_loss   cls_loss   dfl_loss  Instances       Size\n"
          ]
        },
        {
          "name": "stderr",
          "output_type": "stream",
          "text": [
            "     71/100      0.66G     0.8798       2.71     0.2917      0.708      1.046         15        640: 100%|██████████| 1/1 [00:00<00:00, 13.33it/s]\n",
            "                 Class     Images  Instances      Box(P          R      mAP50  mAP50-95)     Pose(P          R      mAP50  mAP50-95): 100%|██████████| 1/1 [00:00<00:00, 21.29it/s]"
          ]
        },
        {
          "name": "stdout",
          "output_type": "stream",
          "text": [
            "                   all          4         14      0.425      0.429      0.282      0.135      0.222      0.214      0.121     0.0256\n"
          ]
        },
        {
          "name": "stderr",
          "output_type": "stream",
          "text": [
            "\n"
          ]
        },
        {
          "name": "stdout",
          "output_type": "stream",
          "text": [
            "\n",
            "      Epoch    GPU_mem   box_loss  pose_loss  kobj_loss   cls_loss   dfl_loss  Instances       Size\n"
          ]
        },
        {
          "name": "stderr",
          "output_type": "stream",
          "text": [
            "     72/100      0.66G     0.9209      2.581     0.2951      0.674      1.057         20        640: 100%|██████████| 1/1 [00:00<00:00, 10.21it/s]\n",
            "                 Class     Images  Instances      Box(P          R      mAP50  mAP50-95)     Pose(P          R      mAP50  mAP50-95): 100%|██████████| 1/1 [00:00<00:00, 23.26it/s]"
          ]
        },
        {
          "name": "stdout",
          "output_type": "stream",
          "text": [
            "                   all          4         14      0.392      0.416      0.331      0.186      0.564      0.214      0.195     0.0411\n"
          ]
        },
        {
          "name": "stderr",
          "output_type": "stream",
          "text": [
            "\n"
          ]
        },
        {
          "name": "stdout",
          "output_type": "stream",
          "text": [
            "\n",
            "      Epoch    GPU_mem   box_loss  pose_loss  kobj_loss   cls_loss   dfl_loss  Instances       Size\n"
          ]
        },
        {
          "name": "stderr",
          "output_type": "stream",
          "text": [
            "     73/100      0.66G      0.785      2.784     0.2993     0.5585      1.063         11        640: 100%|██████████| 1/1 [00:00<00:00, 11.70it/s]\n",
            "                 Class     Images  Instances      Box(P          R      mAP50  mAP50-95)     Pose(P          R      mAP50  mAP50-95): 100%|██████████| 1/1 [00:00<00:00, 21.28it/s]"
          ]
        },
        {
          "name": "stdout",
          "output_type": "stream",
          "text": [
            "                   all          4         14      0.392      0.416      0.331      0.186      0.564      0.214      0.195     0.0411\n"
          ]
        },
        {
          "name": "stderr",
          "output_type": "stream",
          "text": [
            "\n"
          ]
        },
        {
          "name": "stdout",
          "output_type": "stream",
          "text": [
            "\n",
            "      Epoch    GPU_mem   box_loss  pose_loss  kobj_loss   cls_loss   dfl_loss  Instances       Size\n"
          ]
        },
        {
          "name": "stderr",
          "output_type": "stream",
          "text": [
            "     74/100      0.66G     0.8227      2.317     0.2907     0.5556     0.9985         18        640: 100%|██████████| 1/1 [00:00<00:00, 10.74it/s]\n",
            "                 Class     Images  Instances      Box(P          R      mAP50  mAP50-95)     Pose(P          R      mAP50  mAP50-95): 100%|██████████| 1/1 [00:00<00:00, 20.42it/s]"
          ]
        },
        {
          "name": "stdout",
          "output_type": "stream",
          "text": [
            "                   all          4         14      0.392      0.416      0.331      0.186      0.564      0.214      0.195     0.0411\n"
          ]
        },
        {
          "name": "stderr",
          "output_type": "stream",
          "text": [
            "\n"
          ]
        },
        {
          "name": "stdout",
          "output_type": "stream",
          "text": [
            "\n",
            "      Epoch    GPU_mem   box_loss  pose_loss  kobj_loss   cls_loss   dfl_loss  Instances       Size\n"
          ]
        },
        {
          "name": "stderr",
          "output_type": "stream",
          "text": [
            "     75/100      0.66G     0.9972      3.375     0.3124     0.8468      1.092         16        640: 100%|██████████| 1/1 [00:00<00:00,  7.69it/s]\n",
            "                 Class     Images  Instances      Box(P          R      mAP50  mAP50-95)     Pose(P          R      mAP50  mAP50-95): 100%|██████████| 1/1 [00:00<00:00, 18.89it/s]"
          ]
        },
        {
          "name": "stdout",
          "output_type": "stream",
          "text": [
            "                   all          4         14      0.587      0.357      0.403      0.221      0.553      0.214      0.213     0.0517\n"
          ]
        },
        {
          "name": "stderr",
          "output_type": "stream",
          "text": [
            "\n"
          ]
        },
        {
          "name": "stdout",
          "output_type": "stream",
          "text": [
            "\n",
            "      Epoch    GPU_mem   box_loss  pose_loss  kobj_loss   cls_loss   dfl_loss  Instances       Size\n"
          ]
        },
        {
          "name": "stderr",
          "output_type": "stream",
          "text": [
            "     76/100      0.66G     0.5864      1.636     0.2613      0.463     0.8738         14        640: 100%|██████████| 1/1 [00:00<00:00, 10.62it/s]\n",
            "                 Class     Images  Instances      Box(P          R      mAP50  mAP50-95)     Pose(P          R      mAP50  mAP50-95): 100%|██████████| 1/1 [00:00<00:00, 18.85it/s]"
          ]
        },
        {
          "name": "stdout",
          "output_type": "stream",
          "text": [
            "                   all          4         14      0.587      0.357      0.403      0.221      0.553      0.214      0.213     0.0517\n"
          ]
        },
        {
          "name": "stderr",
          "output_type": "stream",
          "text": [
            "\n"
          ]
        },
        {
          "name": "stdout",
          "output_type": "stream",
          "text": [
            "\n",
            "      Epoch    GPU_mem   box_loss  pose_loss  kobj_loss   cls_loss   dfl_loss  Instances       Size\n"
          ]
        },
        {
          "name": "stderr",
          "output_type": "stream",
          "text": [
            "     77/100      0.66G     0.7795      2.366     0.2608     0.6967      1.036         18        640: 100%|██████████| 1/1 [00:00<00:00, 11.65it/s]\n",
            "                 Class     Images  Instances      Box(P          R      mAP50  mAP50-95)     Pose(P          R      mAP50  mAP50-95): 100%|██████████| 1/1 [00:00<00:00, 20.01it/s]"
          ]
        },
        {
          "name": "stdout",
          "output_type": "stream",
          "text": [
            "                   all          4         14      0.587      0.357      0.403      0.221      0.553      0.214      0.213     0.0517\n"
          ]
        },
        {
          "name": "stderr",
          "output_type": "stream",
          "text": [
            "\n"
          ]
        },
        {
          "name": "stdout",
          "output_type": "stream",
          "text": [
            "\n",
            "      Epoch    GPU_mem   box_loss  pose_loss  kobj_loss   cls_loss   dfl_loss  Instances       Size\n"
          ]
        },
        {
          "name": "stderr",
          "output_type": "stream",
          "text": [
            "     78/100      0.66G       1.07      2.544     0.3818     0.9167      1.172         13        640: 100%|██████████| 1/1 [00:00<00:00,  4.76it/s]\n",
            "                 Class     Images  Instances      Box(P          R      mAP50  mAP50-95)     Pose(P          R      mAP50  mAP50-95): 100%|██████████| 1/1 [00:00<00:00, 19.02it/s]"
          ]
        },
        {
          "name": "stdout",
          "output_type": "stream",
          "text": [
            "                   all          4         14      0.547      0.357      0.446      0.233      0.819      0.143      0.165     0.0548\n"
          ]
        },
        {
          "name": "stderr",
          "output_type": "stream",
          "text": [
            "\n"
          ]
        },
        {
          "name": "stdout",
          "output_type": "stream",
          "text": [
            "\n",
            "      Epoch    GPU_mem   box_loss  pose_loss  kobj_loss   cls_loss   dfl_loss  Instances       Size\n"
          ]
        },
        {
          "name": "stderr",
          "output_type": "stream",
          "text": [
            "     79/100      0.66G     0.7259      2.599     0.2791     0.5336      1.025         20        640: 100%|██████████| 1/1 [00:00<00:00, 13.32it/s]\n",
            "                 Class     Images  Instances      Box(P          R      mAP50  mAP50-95)     Pose(P          R      mAP50  mAP50-95): 100%|██████████| 1/1 [00:00<00:00, 20.85it/s]"
          ]
        },
        {
          "name": "stdout",
          "output_type": "stream",
          "text": [
            "                   all          4         14      0.547      0.357      0.446      0.233      0.819      0.143      0.165     0.0548\n"
          ]
        },
        {
          "name": "stderr",
          "output_type": "stream",
          "text": [
            "\n"
          ]
        },
        {
          "name": "stdout",
          "output_type": "stream",
          "text": [
            "\n",
            "      Epoch    GPU_mem   box_loss  pose_loss  kobj_loss   cls_loss   dfl_loss  Instances       Size\n"
          ]
        },
        {
          "name": "stderr",
          "output_type": "stream",
          "text": [
            "     80/100      0.66G     0.6851      1.795      0.318     0.4069     0.8876         13        640: 100%|██████████| 1/1 [00:00<00:00, 12.49it/s]\n",
            "                 Class     Images  Instances      Box(P          R      mAP50  mAP50-95)     Pose(P          R      mAP50  mAP50-95): 100%|██████████| 1/1 [00:00<00:00, 20.81it/s]"
          ]
        },
        {
          "name": "stdout",
          "output_type": "stream",
          "text": [
            "                   all          4         14      0.547      0.357      0.446      0.233      0.819      0.143      0.165     0.0548\n"
          ]
        },
        {
          "name": "stderr",
          "output_type": "stream",
          "text": [
            "\n"
          ]
        },
        {
          "name": "stdout",
          "output_type": "stream",
          "text": [
            "\n",
            "      Epoch    GPU_mem   box_loss  pose_loss  kobj_loss   cls_loss   dfl_loss  Instances       Size\n"
          ]
        },
        {
          "name": "stderr",
          "output_type": "stream",
          "text": [
            "     81/100      0.66G     0.8259      2.312     0.3398      0.675       1.07         13        640: 100%|██████████| 1/1 [00:00<00:00,  4.00it/s]\n",
            "                 Class     Images  Instances      Box(P          R      mAP50  mAP50-95)     Pose(P          R      mAP50  mAP50-95): 100%|██████████| 1/1 [00:00<00:00, 18.86it/s]"
          ]
        },
        {
          "name": "stdout",
          "output_type": "stream",
          "text": [
            "                   all          4         14          1      0.347      0.494      0.256      0.625      0.143       0.14     0.0527\n"
          ]
        },
        {
          "name": "stderr",
          "output_type": "stream",
          "text": [
            "\n"
          ]
        },
        {
          "name": "stdout",
          "output_type": "stream",
          "text": [
            "\n",
            "      Epoch    GPU_mem   box_loss  pose_loss  kobj_loss   cls_loss   dfl_loss  Instances       Size\n"
          ]
        },
        {
          "name": "stderr",
          "output_type": "stream",
          "text": [
            "     82/100      0.66G      0.582      1.682     0.1937     0.4233     0.8717          7        640: 100%|██████████| 1/1 [00:00<00:00, 13.16it/s]\n",
            "                 Class     Images  Instances      Box(P          R      mAP50  mAP50-95)     Pose(P          R      mAP50  mAP50-95): 100%|██████████| 1/1 [00:00<00:00, 19.94it/s]"
          ]
        },
        {
          "name": "stdout",
          "output_type": "stream",
          "text": [
            "                   all          4         14          1      0.347      0.494      0.256      0.625      0.143       0.14     0.0527\n"
          ]
        },
        {
          "name": "stderr",
          "output_type": "stream",
          "text": [
            "\n"
          ]
        },
        {
          "name": "stdout",
          "output_type": "stream",
          "text": [
            "\n",
            "      Epoch    GPU_mem   box_loss  pose_loss  kobj_loss   cls_loss   dfl_loss  Instances       Size\n"
          ]
        },
        {
          "name": "stderr",
          "output_type": "stream",
          "text": [
            "     83/100      0.66G     0.7182      1.849     0.3326     0.4378     0.9778          9        640: 100%|██████████| 1/1 [00:00<00:00, 11.48it/s]\n",
            "                 Class     Images  Instances      Box(P          R      mAP50  mAP50-95)     Pose(P          R      mAP50  mAP50-95): 100%|██████████| 1/1 [00:00<00:00, 20.02it/s]"
          ]
        },
        {
          "name": "stdout",
          "output_type": "stream",
          "text": [
            "                   all          4         14          1      0.347      0.494      0.256      0.625      0.143       0.14     0.0527\n"
          ]
        },
        {
          "name": "stderr",
          "output_type": "stream",
          "text": [
            "\n"
          ]
        },
        {
          "name": "stdout",
          "output_type": "stream",
          "text": [
            "\n",
            "      Epoch    GPU_mem   box_loss  pose_loss  kobj_loss   cls_loss   dfl_loss  Instances       Size\n"
          ]
        },
        {
          "name": "stderr",
          "output_type": "stream",
          "text": [
            "     84/100      0.66G     0.7049      2.645     0.2465      0.551      1.032         10        640: 100%|██████████| 1/1 [00:00<00:00,  7.52it/s]\n",
            "                 Class     Images  Instances      Box(P          R      mAP50  mAP50-95)     Pose(P          R      mAP50  mAP50-95): 100%|██████████| 1/1 [00:00<00:00, 19.24it/s]"
          ]
        },
        {
          "name": "stdout",
          "output_type": "stream",
          "text": [
            "                   all          4         14      0.993      0.357      0.503      0.264      0.575      0.143      0.148     0.0534\n"
          ]
        },
        {
          "name": "stderr",
          "output_type": "stream",
          "text": [
            "\n"
          ]
        },
        {
          "name": "stdout",
          "output_type": "stream",
          "text": [
            "\n",
            "      Epoch    GPU_mem   box_loss  pose_loss  kobj_loss   cls_loss   dfl_loss  Instances       Size\n"
          ]
        },
        {
          "name": "stderr",
          "output_type": "stream",
          "text": [
            "     85/100      0.66G     0.5528      1.713     0.2616     0.4267     0.8616         15        640: 100%|██████████| 1/1 [00:00<00:00, 11.63it/s]\n",
            "                 Class     Images  Instances      Box(P          R      mAP50  mAP50-95)     Pose(P          R      mAP50  mAP50-95): 100%|██████████| 1/1 [00:00<00:00, 19.24it/s]"
          ]
        },
        {
          "name": "stdout",
          "output_type": "stream",
          "text": [
            "                   all          4         14      0.993      0.357      0.503      0.264      0.575      0.143      0.148     0.0534\n"
          ]
        },
        {
          "name": "stderr",
          "output_type": "stream",
          "text": [
            "\n"
          ]
        },
        {
          "name": "stdout",
          "output_type": "stream",
          "text": [
            "\n",
            "      Epoch    GPU_mem   box_loss  pose_loss  kobj_loss   cls_loss   dfl_loss  Instances       Size\n"
          ]
        },
        {
          "name": "stderr",
          "output_type": "stream",
          "text": [
            "     86/100      0.66G      0.583      2.149     0.2296     0.4338     0.9503         14        640: 100%|██████████| 1/1 [00:00<00:00,  5.26it/s]\n",
            "                 Class     Images  Instances      Box(P          R      mAP50  mAP50-95)     Pose(P          R      mAP50  mAP50-95): 100%|██████████| 1/1 [00:00<00:00, 16.14it/s]"
          ]
        },
        {
          "name": "stdout",
          "output_type": "stream",
          "text": [
            "                   all          4         14      0.993      0.357      0.503      0.264      0.575      0.143      0.148     0.0534\n"
          ]
        },
        {
          "name": "stderr",
          "output_type": "stream",
          "text": [
            "\n"
          ]
        },
        {
          "name": "stdout",
          "output_type": "stream",
          "text": [
            "\n",
            "      Epoch    GPU_mem   box_loss  pose_loss  kobj_loss   cls_loss   dfl_loss  Instances       Size\n"
          ]
        },
        {
          "name": "stderr",
          "output_type": "stream",
          "text": [
            "     87/100      0.66G      1.322      3.716     0.3291     0.9585      1.355          6        640: 100%|██████████| 1/1 [00:00<00:00, 13.50it/s]\n",
            "                 Class     Images  Instances      Box(P          R      mAP50  mAP50-95)     Pose(P          R      mAP50  mAP50-95): 100%|██████████| 1/1 [00:00<00:00, 21.75it/s]"
          ]
        },
        {
          "name": "stdout",
          "output_type": "stream",
          "text": [
            "                   all          4         14      0.993      0.357      0.503      0.264      0.575      0.143      0.148     0.0534\n"
          ]
        },
        {
          "name": "stderr",
          "output_type": "stream",
          "text": [
            "\n"
          ]
        },
        {
          "name": "stdout",
          "output_type": "stream",
          "text": [
            "\n",
            "      Epoch    GPU_mem   box_loss  pose_loss  kobj_loss   cls_loss   dfl_loss  Instances       Size\n"
          ]
        },
        {
          "name": "stderr",
          "output_type": "stream",
          "text": [
            "     88/100      0.66G     0.6272      1.727     0.2897     0.4157     0.9276         16        640: 100%|██████████| 1/1 [00:00<00:00,  9.21it/s]\n",
            "                 Class     Images  Instances      Box(P          R      mAP50  mAP50-95)     Pose(P          R      mAP50  mAP50-95): 100%|██████████| 1/1 [00:00<00:00, 21.74it/s]"
          ]
        },
        {
          "name": "stdout",
          "output_type": "stream",
          "text": [
            "                   all          4         14      0.722      0.357      0.503      0.236      0.719      0.214      0.223     0.0702\n"
          ]
        },
        {
          "name": "stderr",
          "output_type": "stream",
          "text": [
            "\n"
          ]
        },
        {
          "name": "stdout",
          "output_type": "stream",
          "text": [
            "\n",
            "      Epoch    GPU_mem   box_loss  pose_loss  kobj_loss   cls_loss   dfl_loss  Instances       Size\n"
          ]
        },
        {
          "name": "stderr",
          "output_type": "stream",
          "text": [
            "     89/100      0.66G     0.6509      2.304     0.2714     0.4327     0.9301         12        640: 100%|██████████| 1/1 [00:00<00:00, 12.98it/s]\n",
            "                 Class     Images  Instances      Box(P          R      mAP50  mAP50-95)     Pose(P          R      mAP50  mAP50-95): 100%|██████████| 1/1 [00:00<00:00, 19.97it/s]"
          ]
        },
        {
          "name": "stdout",
          "output_type": "stream",
          "text": [
            "                   all          4         14      0.722      0.357      0.503      0.236      0.719      0.214      0.223     0.0702\n"
          ]
        },
        {
          "name": "stderr",
          "output_type": "stream",
          "text": [
            "\n"
          ]
        },
        {
          "name": "stdout",
          "output_type": "stream",
          "text": [
            "\n",
            "      Epoch    GPU_mem   box_loss  pose_loss  kobj_loss   cls_loss   dfl_loss  Instances       Size\n"
          ]
        },
        {
          "name": "stderr",
          "output_type": "stream",
          "text": [
            "     90/100      0.66G     0.8641      2.296     0.3526     0.5391      1.136         11        640: 100%|██████████| 1/1 [00:00<00:00,  9.08it/s]\n",
            "                 Class     Images  Instances      Box(P          R      mAP50  mAP50-95)     Pose(P          R      mAP50  mAP50-95): 100%|██████████| 1/1 [00:00<00:00, 17.84it/s]"
          ]
        },
        {
          "name": "stdout",
          "output_type": "stream",
          "text": [
            "                   all          4         14      0.722      0.357      0.503      0.236      0.719      0.214      0.223     0.0702\n"
          ]
        },
        {
          "name": "stderr",
          "output_type": "stream",
          "text": [
            "\n"
          ]
        },
        {
          "name": "stdout",
          "output_type": "stream",
          "text": [
            "Closing dataloader mosaic\n",
            "\n",
            "      Epoch    GPU_mem   box_loss  pose_loss  kobj_loss   cls_loss   dfl_loss  Instances       Size\n"
          ]
        },
        {
          "name": "stderr",
          "output_type": "stream",
          "text": [
            "     91/100      0.66G     0.5334      1.325     0.2285      0.437     0.8756          7        640: 100%|██████████| 1/1 [00:03<00:00,  3.23s/it]\n",
            "                 Class     Images  Instances      Box(P          R      mAP50  mAP50-95)     Pose(P          R      mAP50  mAP50-95): 100%|██████████| 1/1 [00:00<00:00, 11.15it/s]"
          ]
        },
        {
          "name": "stdout",
          "output_type": "stream",
          "text": [
            "                   all          4         14      0.722      0.357      0.503      0.236      0.719      0.214      0.223     0.0702\n"
          ]
        },
        {
          "name": "stderr",
          "output_type": "stream",
          "text": [
            "\n"
          ]
        },
        {
          "name": "stdout",
          "output_type": "stream",
          "text": [
            "\n",
            "      Epoch    GPU_mem   box_loss  pose_loss  kobj_loss   cls_loss   dfl_loss  Instances       Size\n"
          ]
        },
        {
          "name": "stderr",
          "output_type": "stream",
          "text": [
            "     92/100      0.66G     0.5712      1.524     0.2247     0.4096     0.8567          7        640: 100%|██████████| 1/1 [00:00<00:00, 10.08it/s]\n",
            "                 Class     Images  Instances      Box(P          R      mAP50  mAP50-95)     Pose(P          R      mAP50  mAP50-95): 100%|██████████| 1/1 [00:00<00:00, 12.57it/s]"
          ]
        },
        {
          "name": "stdout",
          "output_type": "stream",
          "text": [
            "                   all          4         14      0.704      0.429      0.528      0.253      0.702      0.214      0.225     0.0755\n"
          ]
        },
        {
          "name": "stderr",
          "output_type": "stream",
          "text": [
            "\n"
          ]
        },
        {
          "name": "stdout",
          "output_type": "stream",
          "text": [
            "\n",
            "      Epoch    GPU_mem   box_loss  pose_loss  kobj_loss   cls_loss   dfl_loss  Instances       Size\n"
          ]
        },
        {
          "name": "stderr",
          "output_type": "stream",
          "text": [
            "     93/100      0.66G     0.7586       1.61     0.2353     0.5411     0.9219          7        640: 100%|██████████| 1/1 [00:00<00:00, 14.70it/s]\n",
            "                 Class     Images  Instances      Box(P          R      mAP50  mAP50-95)     Pose(P          R      mAP50  mAP50-95): 100%|██████████| 1/1 [00:00<00:00, 11.33it/s]"
          ]
        },
        {
          "name": "stdout",
          "output_type": "stream",
          "text": [
            "                   all          4         14      0.704      0.429      0.528      0.253      0.702      0.214      0.225     0.0755\n"
          ]
        },
        {
          "name": "stderr",
          "output_type": "stream",
          "text": [
            "\n"
          ]
        },
        {
          "name": "stdout",
          "output_type": "stream",
          "text": [
            "\n",
            "      Epoch    GPU_mem   box_loss  pose_loss  kobj_loss   cls_loss   dfl_loss  Instances       Size\n"
          ]
        },
        {
          "name": "stderr",
          "output_type": "stream",
          "text": [
            "     94/100      0.66G     0.4877      1.492     0.2906     0.3877     0.9346          7        640: 100%|██████████| 1/1 [00:00<00:00, 11.41it/s]\n",
            "                 Class     Images  Instances      Box(P          R      mAP50  mAP50-95)     Pose(P          R      mAP50  mAP50-95): 100%|██████████| 1/1 [00:00<00:00, 24.22it/s]"
          ]
        },
        {
          "name": "stdout",
          "output_type": "stream",
          "text": [
            "                   all          4         14      0.704      0.429      0.528      0.253      0.702      0.214      0.225     0.0755\n"
          ]
        },
        {
          "name": "stderr",
          "output_type": "stream",
          "text": [
            "\n"
          ]
        },
        {
          "name": "stdout",
          "output_type": "stream",
          "text": [
            "\n",
            "      Epoch    GPU_mem   box_loss  pose_loss  kobj_loss   cls_loss   dfl_loss  Instances       Size\n"
          ]
        },
        {
          "name": "stderr",
          "output_type": "stream",
          "text": [
            "     95/100      0.66G     0.5416      1.385     0.2602      0.407     0.9386          7        640: 100%|██████████| 1/1 [00:00<00:00, 10.35it/s]\n",
            "                 Class     Images  Instances      Box(P          R      mAP50  mAP50-95)     Pose(P          R      mAP50  mAP50-95): 100%|██████████| 1/1 [00:00<00:00, 18.30it/s]"
          ]
        },
        {
          "name": "stdout",
          "output_type": "stream",
          "text": [
            "                   all          4         14      0.704      0.429      0.528      0.253      0.702      0.214      0.225     0.0755\n"
          ]
        },
        {
          "name": "stderr",
          "output_type": "stream",
          "text": [
            "\n"
          ]
        },
        {
          "name": "stdout",
          "output_type": "stream",
          "text": [
            "\n",
            "      Epoch    GPU_mem   box_loss  pose_loss  kobj_loss   cls_loss   dfl_loss  Instances       Size\n"
          ]
        },
        {
          "name": "stderr",
          "output_type": "stream",
          "text": [
            "     96/100      0.66G     0.5516      1.654     0.2532     0.4262     0.9299          7        640: 100%|██████████| 1/1 [00:00<00:00,  8.63it/s]\n",
            "                 Class     Images  Instances      Box(P          R      mAP50  mAP50-95)     Pose(P          R      mAP50  mAP50-95): 100%|██████████| 1/1 [00:00<00:00, 15.47it/s]"
          ]
        },
        {
          "name": "stdout",
          "output_type": "stream",
          "text": [
            "                   all          4         14      0.753      0.429      0.596        0.3      0.696      0.214      0.234     0.0697\n"
          ]
        },
        {
          "name": "stderr",
          "output_type": "stream",
          "text": [
            "\n"
          ]
        },
        {
          "name": "stdout",
          "output_type": "stream",
          "text": [
            "\n",
            "      Epoch    GPU_mem   box_loss  pose_loss  kobj_loss   cls_loss   dfl_loss  Instances       Size\n"
          ]
        },
        {
          "name": "stderr",
          "output_type": "stream",
          "text": [
            "     97/100      0.66G     0.5164      1.443     0.2658     0.3784     0.8996          7        640: 100%|██████████| 1/1 [00:00<00:00, 10.63it/s]\n",
            "                 Class     Images  Instances      Box(P          R      mAP50  mAP50-95)     Pose(P          R      mAP50  mAP50-95): 100%|██████████| 1/1 [00:00<00:00, 21.39it/s]"
          ]
        },
        {
          "name": "stdout",
          "output_type": "stream",
          "text": [
            "                   all          4         14      0.753      0.429      0.596        0.3      0.696      0.214      0.234     0.0697\n"
          ]
        },
        {
          "name": "stderr",
          "output_type": "stream",
          "text": [
            "\n"
          ]
        },
        {
          "name": "stdout",
          "output_type": "stream",
          "text": [
            "\n",
            "      Epoch    GPU_mem   box_loss  pose_loss  kobj_loss   cls_loss   dfl_loss  Instances       Size\n"
          ]
        },
        {
          "name": "stderr",
          "output_type": "stream",
          "text": [
            "     98/100      0.66G     0.5535      1.224     0.2597     0.4053     0.9398          7        640: 100%|██████████| 1/1 [00:00<00:00,  8.10it/s]\n",
            "                 Class     Images  Instances      Box(P          R      mAP50  mAP50-95)     Pose(P          R      mAP50  mAP50-95): 100%|██████████| 1/1 [00:00<00:00, 18.60it/s]"
          ]
        },
        {
          "name": "stdout",
          "output_type": "stream",
          "text": [
            "                   all          4         14      0.753      0.429      0.596        0.3      0.696      0.214      0.234     0.0697\n"
          ]
        },
        {
          "name": "stderr",
          "output_type": "stream",
          "text": [
            "\n"
          ]
        },
        {
          "name": "stdout",
          "output_type": "stream",
          "text": [
            "\n",
            "      Epoch    GPU_mem   box_loss  pose_loss  kobj_loss   cls_loss   dfl_loss  Instances       Size\n"
          ]
        },
        {
          "name": "stderr",
          "output_type": "stream",
          "text": [
            "     99/100      0.66G     0.5752      1.489     0.2168     0.3915     0.9631          7        640: 100%|██████████| 1/1 [00:00<00:00,  4.99it/s]\n",
            "                 Class     Images  Instances      Box(P          R      mAP50  mAP50-95)     Pose(P          R      mAP50  mAP50-95): 100%|██████████| 1/1 [00:00<00:00, 19.29it/s]"
          ]
        },
        {
          "name": "stdout",
          "output_type": "stream",
          "text": [
            "                   all          4         14      0.753      0.429      0.596        0.3      0.696      0.214      0.234     0.0697\n"
          ]
        },
        {
          "name": "stderr",
          "output_type": "stream",
          "text": [
            "\n"
          ]
        },
        {
          "name": "stdout",
          "output_type": "stream",
          "text": [
            "\n",
            "      Epoch    GPU_mem   box_loss  pose_loss  kobj_loss   cls_loss   dfl_loss  Instances       Size\n"
          ]
        },
        {
          "name": "stderr",
          "output_type": "stream",
          "text": [
            "    100/100      0.66G     0.4789      1.327     0.2553     0.3702     0.8466          7        640: 100%|██████████| 1/1 [00:00<00:00, 11.05it/s]\n",
            "                 Class     Images  Instances      Box(P          R      mAP50  mAP50-95)     Pose(P          R      mAP50  mAP50-95): 100%|██████████| 1/1 [00:00<00:00, 14.55it/s]"
          ]
        },
        {
          "name": "stdout",
          "output_type": "stream",
          "text": [
            "                   all          4         14      0.842        0.5      0.608      0.312      0.431      0.286      0.238     0.0701\n"
          ]
        },
        {
          "name": "stderr",
          "output_type": "stream",
          "text": [
            "\n"
          ]
        },
        {
          "name": "stdout",
          "output_type": "stream",
          "text": [
            "\n",
            "100 epochs completed in 0.016 hours.\n",
            "Optimizer stripped from runs\\pose\\train3\\weights\\last.pt, 6.1MB\n",
            "Optimizer stripped from runs\\pose\\train3\\weights\\best.pt, 6.1MB\n",
            "\n",
            "Validating runs\\pose\\train3\\weights\\best.pt...\n",
            "Ultralytics 8.3.177  Python-3.10.18 torch-2.5.1 CUDA:0 (NVIDIA RTX A4000, 16376MiB)\n",
            "YOLO11n-pose summary (fused): 109 layers, 2,866,468 parameters, 0 gradients, 7.4 GFLOPs\n"
          ]
        },
        {
          "name": "stderr",
          "output_type": "stream",
          "text": [
            "                 Class     Images  Instances      Box(P          R      mAP50  mAP50-95)     Pose(P          R      mAP50  mAP50-95): 100%|██████████| 1/1 [00:00<00:00, 23.04it/s]\n"
          ]
        },
        {
          "name": "stdout",
          "output_type": "stream",
          "text": [
            "                   all          4         14      0.853      0.929      0.927      0.705      0.982      0.643      0.766      0.363\n",
            "Speed: 0.4ms preprocess, 4.5ms inference, 0.0ms loss, 1.8ms postprocess per image\n",
            "Results saved to \u001b[1mruns\\pose\\train3\u001b[0m\n"
          ]
        }
      ],
      "source": [
        "model = YOLO(\"yolo11n-pose.pt\")\n",
        "\n",
        "results = model.train(\n",
        "              data=\"coco8-pose.yaml\",\n",
        "              epochs=100,\n",
        "              imgsz=640\n",
        "          )"
      ]
    },
    {
      "cell_type": "code",
      "execution_count": 4,
      "metadata": {
        "colab": {
          "base_uri": "https://localhost:8080/"
        },
        "id": "5o6SOB9XAY3z",
        "outputId": "4b13f289-a1dc-43d2-d93d-f6ef7eb8c55e"
      },
      "outputs": [
        {
          "name": "stdout",
          "output_type": "stream",
          "text": [
            "Ultralytics 8.3.177  Python-3.10.18 torch-2.5.1 CUDA:0 (NVIDIA RTX A4000, 16376MiB)\n",
            "YOLO11n-pose summary (fused): 109 layers, 2,866,468 parameters, 0 gradients, 7.4 GFLOPs\n",
            "\u001b[34m\u001b[1mval: \u001b[0mFast image access  (ping: 0.00.0 ms, read: 147.8115.1 MB/s, size: 39.1 KB)\n"
          ]
        },
        {
          "name": "stderr",
          "output_type": "stream",
          "text": [
            "\u001b[34m\u001b[1mval: \u001b[0mScanning D:\\Aldi\\stairvision\\datasets\\coco8-pose\\labels\\val.cache... 4 images, 0 backgrounds, 0 corrupt: 100%|██████████| 4/4 [00:00<?, ?it/s]\n",
            "                 Class     Images  Instances      Box(P          R      mAP50  mAP50-95)     Pose(P          R      mAP50  mAP50-95): 100%|██████████| 1/1 [00:03<00:00,  3.73s/it]\n"
          ]
        },
        {
          "name": "stdout",
          "output_type": "stream",
          "text": [
            "                   all          4         14      0.852      0.929      0.927      0.705      0.982      0.643      0.766      0.369\n",
            "Speed: 3.7ms preprocess, 77.3ms inference, 0.0ms loss, 4.3ms postprocess per image\n",
            "Results saved to \u001b[1mruns\\pose\\train32\u001b[0m\n"
          ]
        }
      ],
      "source": [
        "metrics = model.val()"
      ]
    },
    {
      "cell_type": "code",
      "execution_count": null,
      "metadata": {
        "colab": {
          "base_uri": "https://localhost:8080/"
        },
        "id": "IWGSkKlXAshb",
        "outputId": "c43b02e7-c70a-452c-c892-fc66ee689e4d"
      },
      "outputs": [
        {
          "name": "stdout",
          "output_type": "stream",
          "text": [
            "\n",
            "WARNING ⚠️ \n",
            "inference results will accumulate in RAM unless `stream=True` is passed, causing potential out-of-memory\n",
            "errors for large sources or long-running streams and videos. See https://docs.ultralytics.com/modes/predict/ for help.\n",
            "\n",
            "Example:\n",
            "    results = model(source=..., stream=True)  # generator of Results objects\n",
            "    for r in results:\n",
            "        boxes = r.boxes  # Boxes object for bbox outputs\n",
            "        masks = r.masks  # Masks object for segment masks outputs\n",
            "        probs = r.probs  # Class probabilities for classification outputs\n",
            "\n",
            "video 1/1 (frame 1/361) /content/drive/MyDrive/stairvision/dataset/east/videos/Copy of Copy of IMG_3084.MOV: 384x640 2 persons, 11.4ms\n",
            "video 1/1 (frame 2/361) /content/drive/MyDrive/stairvision/dataset/east/videos/Copy of Copy of IMG_3084.MOV: 384x640 2 persons, 15.7ms\n",
            "video 1/1 (frame 3/361) /content/drive/MyDrive/stairvision/dataset/east/videos/Copy of Copy of IMG_3084.MOV: 384x640 2 persons, 15.5ms\n",
            "video 1/1 (frame 4/361) /content/drive/MyDrive/stairvision/dataset/east/videos/Copy of Copy of IMG_3084.MOV: 384x640 2 persons, 19.1ms\n",
            "video 1/1 (frame 5/361) /content/drive/MyDrive/stairvision/dataset/east/videos/Copy of Copy of IMG_3084.MOV: 384x640 2 persons, 16.0ms\n",
            "video 1/1 (frame 6/361) /content/drive/MyDrive/stairvision/dataset/east/videos/Copy of Copy of IMG_3084.MOV: 384x640 2 persons, 16.0ms\n",
            "video 1/1 (frame 7/361) /content/drive/MyDrive/stairvision/dataset/east/videos/Copy of Copy of IMG_3084.MOV: 384x640 2 persons, 17.3ms\n",
            "video 1/1 (frame 8/361) /content/drive/MyDrive/stairvision/dataset/east/videos/Copy of Copy of IMG_3084.MOV: 384x640 2 persons, 16.6ms\n",
            "video 1/1 (frame 9/361) /content/drive/MyDrive/stairvision/dataset/east/videos/Copy of Copy of IMG_3084.MOV: 384x640 2 persons, 16.0ms\n",
            "video 1/1 (frame 10/361) /content/drive/MyDrive/stairvision/dataset/east/videos/Copy of Copy of IMG_3084.MOV: 384x640 2 persons, 41.3ms\n",
            "video 1/1 (frame 11/361) /content/drive/MyDrive/stairvision/dataset/east/videos/Copy of Copy of IMG_3084.MOV: 384x640 2 persons, 16.2ms\n",
            "video 1/1 (frame 12/361) /content/drive/MyDrive/stairvision/dataset/east/videos/Copy of Copy of IMG_3084.MOV: 384x640 2 persons, 15.7ms\n",
            "video 1/1 (frame 13/361) /content/drive/MyDrive/stairvision/dataset/east/videos/Copy of Copy of IMG_3084.MOV: 384x640 2 persons, 16.2ms\n",
            "video 1/1 (frame 14/361) /content/drive/MyDrive/stairvision/dataset/east/videos/Copy of Copy of IMG_3084.MOV: 384x640 2 persons, 16.2ms\n",
            "video 1/1 (frame 15/361) /content/drive/MyDrive/stairvision/dataset/east/videos/Copy of Copy of IMG_3084.MOV: 384x640 2 persons, 16.2ms\n",
            "video 1/1 (frame 16/361) /content/drive/MyDrive/stairvision/dataset/east/videos/Copy of Copy of IMG_3084.MOV: 384x640 2 persons, 17.4ms\n",
            "video 1/1 (frame 17/361) /content/drive/MyDrive/stairvision/dataset/east/videos/Copy of Copy of IMG_3084.MOV: 384x640 2 persons, 40.7ms\n",
            "video 1/1 (frame 18/361) /content/drive/MyDrive/stairvision/dataset/east/videos/Copy of Copy of IMG_3084.MOV: 384x640 2 persons, 36.9ms\n",
            "video 1/1 (frame 19/361) /content/drive/MyDrive/stairvision/dataset/east/videos/Copy of Copy of IMG_3084.MOV: 384x640 2 persons, 41.1ms\n",
            "video 1/1 (frame 20/361) /content/drive/MyDrive/stairvision/dataset/east/videos/Copy of Copy of IMG_3084.MOV: 384x640 2 persons, 18.2ms\n",
            "video 1/1 (frame 21/361) /content/drive/MyDrive/stairvision/dataset/east/videos/Copy of Copy of IMG_3084.MOV: 384x640 2 persons, 16.8ms\n",
            "video 1/1 (frame 22/361) /content/drive/MyDrive/stairvision/dataset/east/videos/Copy of Copy of IMG_3084.MOV: 384x640 2 persons, 20.1ms\n",
            "video 1/1 (frame 23/361) /content/drive/MyDrive/stairvision/dataset/east/videos/Copy of Copy of IMG_3084.MOV: 384x640 2 persons, 31.0ms\n",
            "video 1/1 (frame 24/361) /content/drive/MyDrive/stairvision/dataset/east/videos/Copy of Copy of IMG_3084.MOV: 384x640 2 persons, 22.0ms\n",
            "video 1/1 (frame 25/361) /content/drive/MyDrive/stairvision/dataset/east/videos/Copy of Copy of IMG_3084.MOV: 384x640 2 persons, 15.2ms\n",
            "video 1/1 (frame 26/361) /content/drive/MyDrive/stairvision/dataset/east/videos/Copy of Copy of IMG_3084.MOV: 384x640 2 persons, 24.7ms\n",
            "video 1/1 (frame 27/361) /content/drive/MyDrive/stairvision/dataset/east/videos/Copy of Copy of IMG_3084.MOV: 384x640 2 persons, 19.0ms\n",
            "video 1/1 (frame 28/361) /content/drive/MyDrive/stairvision/dataset/east/videos/Copy of Copy of IMG_3084.MOV: 384x640 2 persons, 27.6ms\n",
            "video 1/1 (frame 29/361) /content/drive/MyDrive/stairvision/dataset/east/videos/Copy of Copy of IMG_3084.MOV: 384x640 2 persons, 13.8ms\n",
            "video 1/1 (frame 30/361) /content/drive/MyDrive/stairvision/dataset/east/videos/Copy of Copy of IMG_3084.MOV: 384x640 2 persons, 22.1ms\n",
            "video 1/1 (frame 31/361) /content/drive/MyDrive/stairvision/dataset/east/videos/Copy of Copy of IMG_3084.MOV: 384x640 2 persons, 30.9ms\n",
            "video 1/1 (frame 32/361) /content/drive/MyDrive/stairvision/dataset/east/videos/Copy of Copy of IMG_3084.MOV: 384x640 2 persons, 16.5ms\n",
            "video 1/1 (frame 33/361) /content/drive/MyDrive/stairvision/dataset/east/videos/Copy of Copy of IMG_3084.MOV: 384x640 2 persons, 25.0ms\n",
            "video 1/1 (frame 34/361) /content/drive/MyDrive/stairvision/dataset/east/videos/Copy of Copy of IMG_3084.MOV: 384x640 2 persons, 15.1ms\n",
            "video 1/1 (frame 35/361) /content/drive/MyDrive/stairvision/dataset/east/videos/Copy of Copy of IMG_3084.MOV: 384x640 2 persons, 26.0ms\n",
            "video 1/1 (frame 36/361) /content/drive/MyDrive/stairvision/dataset/east/videos/Copy of Copy of IMG_3084.MOV: 384x640 2 persons, 17.4ms\n",
            "video 1/1 (frame 37/361) /content/drive/MyDrive/stairvision/dataset/east/videos/Copy of Copy of IMG_3084.MOV: 384x640 2 persons, 15.8ms\n",
            "video 1/1 (frame 38/361) /content/drive/MyDrive/stairvision/dataset/east/videos/Copy of Copy of IMG_3084.MOV: 384x640 2 persons, 16.5ms\n",
            "video 1/1 (frame 39/361) /content/drive/MyDrive/stairvision/dataset/east/videos/Copy of Copy of IMG_3084.MOV: 384x640 2 persons, 15.8ms\n",
            "video 1/1 (frame 40/361) /content/drive/MyDrive/stairvision/dataset/east/videos/Copy of Copy of IMG_3084.MOV: 384x640 2 persons, 15.6ms\n",
            "video 1/1 (frame 41/361) /content/drive/MyDrive/stairvision/dataset/east/videos/Copy of Copy of IMG_3084.MOV: 384x640 2 persons, 16.3ms\n",
            "video 1/1 (frame 42/361) /content/drive/MyDrive/stairvision/dataset/east/videos/Copy of Copy of IMG_3084.MOV: 384x640 2 persons, 16.2ms\n",
            "video 1/1 (frame 43/361) /content/drive/MyDrive/stairvision/dataset/east/videos/Copy of Copy of IMG_3084.MOV: 384x640 2 persons, 15.6ms\n",
            "video 1/1 (frame 44/361) /content/drive/MyDrive/stairvision/dataset/east/videos/Copy of Copy of IMG_3084.MOV: 384x640 2 persons, 15.5ms\n",
            "video 1/1 (frame 45/361) /content/drive/MyDrive/stairvision/dataset/east/videos/Copy of Copy of IMG_3084.MOV: 384x640 2 persons, 15.8ms\n",
            "video 1/1 (frame 46/361) /content/drive/MyDrive/stairvision/dataset/east/videos/Copy of Copy of IMG_3084.MOV: 384x640 2 persons, 15.9ms\n",
            "video 1/1 (frame 47/361) /content/drive/MyDrive/stairvision/dataset/east/videos/Copy of Copy of IMG_3084.MOV: 384x640 2 persons, 15.6ms\n",
            "video 1/1 (frame 48/361) /content/drive/MyDrive/stairvision/dataset/east/videos/Copy of Copy of IMG_3084.MOV: 384x640 2 persons, 16.3ms\n",
            "video 1/1 (frame 49/361) /content/drive/MyDrive/stairvision/dataset/east/videos/Copy of Copy of IMG_3084.MOV: 384x640 2 persons, 15.7ms\n",
            "video 1/1 (frame 50/361) /content/drive/MyDrive/stairvision/dataset/east/videos/Copy of Copy of IMG_3084.MOV: 384x640 2 persons, 15.5ms\n",
            "video 1/1 (frame 51/361) /content/drive/MyDrive/stairvision/dataset/east/videos/Copy of Copy of IMG_3084.MOV: 384x640 2 persons, 15.1ms\n",
            "video 1/1 (frame 52/361) /content/drive/MyDrive/stairvision/dataset/east/videos/Copy of Copy of IMG_3084.MOV: 384x640 2 persons, 15.6ms\n",
            "video 1/1 (frame 53/361) /content/drive/MyDrive/stairvision/dataset/east/videos/Copy of Copy of IMG_3084.MOV: 384x640 2 persons, 15.7ms\n",
            "video 1/1 (frame 54/361) /content/drive/MyDrive/stairvision/dataset/east/videos/Copy of Copy of IMG_3084.MOV: 384x640 2 persons, 25.7ms\n",
            "video 1/1 (frame 55/361) /content/drive/MyDrive/stairvision/dataset/east/videos/Copy of Copy of IMG_3084.MOV: 384x640 2 persons, 68.8ms\n",
            "video 1/1 (frame 56/361) /content/drive/MyDrive/stairvision/dataset/east/videos/Copy of Copy of IMG_3084.MOV: 384x640 2 persons, 16.6ms\n",
            "video 1/1 (frame 57/361) /content/drive/MyDrive/stairvision/dataset/east/videos/Copy of Copy of IMG_3084.MOV: 384x640 2 persons, 15.9ms\n",
            "video 1/1 (frame 58/361) /content/drive/MyDrive/stairvision/dataset/east/videos/Copy of Copy of IMG_3084.MOV: 384x640 2 persons, 15.7ms\n",
            "video 1/1 (frame 59/361) /content/drive/MyDrive/stairvision/dataset/east/videos/Copy of Copy of IMG_3084.MOV: 384x640 2 persons, 15.3ms\n",
            "video 1/1 (frame 60/361) /content/drive/MyDrive/stairvision/dataset/east/videos/Copy of Copy of IMG_3084.MOV: 384x640 2 persons, 16.3ms\n",
            "video 1/1 (frame 61/361) /content/drive/MyDrive/stairvision/dataset/east/videos/Copy of Copy of IMG_3084.MOV: 384x640 2 persons, 16.2ms\n",
            "video 1/1 (frame 62/361) /content/drive/MyDrive/stairvision/dataset/east/videos/Copy of Copy of IMG_3084.MOV: 384x640 2 persons, 16.2ms\n",
            "video 1/1 (frame 63/361) /content/drive/MyDrive/stairvision/dataset/east/videos/Copy of Copy of IMG_3084.MOV: 384x640 2 persons, 18.1ms\n",
            "video 1/1 (frame 64/361) /content/drive/MyDrive/stairvision/dataset/east/videos/Copy of Copy of IMG_3084.MOV: 384x640 2 persons, 32.2ms\n",
            "video 1/1 (frame 65/361) /content/drive/MyDrive/stairvision/dataset/east/videos/Copy of Copy of IMG_3084.MOV: 384x640 2 persons, 15.3ms\n",
            "video 1/1 (frame 66/361) /content/drive/MyDrive/stairvision/dataset/east/videos/Copy of Copy of IMG_3084.MOV: 384x640 2 persons, 20.3ms\n",
            "video 1/1 (frame 67/361) /content/drive/MyDrive/stairvision/dataset/east/videos/Copy of Copy of IMG_3084.MOV: 384x640 2 persons, 16.2ms\n",
            "video 1/1 (frame 68/361) /content/drive/MyDrive/stairvision/dataset/east/videos/Copy of Copy of IMG_3084.MOV: 384x640 2 persons, 16.1ms\n",
            "video 1/1 (frame 69/361) /content/drive/MyDrive/stairvision/dataset/east/videos/Copy of Copy of IMG_3084.MOV: 384x640 2 persons, 17.2ms\n",
            "video 1/1 (frame 70/361) /content/drive/MyDrive/stairvision/dataset/east/videos/Copy of Copy of IMG_3084.MOV: 384x640 2 persons, 16.7ms\n",
            "video 1/1 (frame 71/361) /content/drive/MyDrive/stairvision/dataset/east/videos/Copy of Copy of IMG_3084.MOV: 384x640 2 persons, 16.3ms\n",
            "video 1/1 (frame 72/361) /content/drive/MyDrive/stairvision/dataset/east/videos/Copy of Copy of IMG_3084.MOV: 384x640 2 persons, 17.8ms\n",
            "video 1/1 (frame 73/361) /content/drive/MyDrive/stairvision/dataset/east/videos/Copy of Copy of IMG_3084.MOV: 384x640 2 persons, 16.5ms\n",
            "video 1/1 (frame 74/361) /content/drive/MyDrive/stairvision/dataset/east/videos/Copy of Copy of IMG_3084.MOV: 384x640 2 persons, 18.8ms\n",
            "video 1/1 (frame 75/361) /content/drive/MyDrive/stairvision/dataset/east/videos/Copy of Copy of IMG_3084.MOV: 384x640 2 persons, 16.5ms\n",
            "video 1/1 (frame 76/361) /content/drive/MyDrive/stairvision/dataset/east/videos/Copy of Copy of IMG_3084.MOV: 384x640 2 persons, 16.0ms\n",
            "video 1/1 (frame 77/361) /content/drive/MyDrive/stairvision/dataset/east/videos/Copy of Copy of IMG_3084.MOV: 384x640 2 persons, 17.5ms\n",
            "video 1/1 (frame 78/361) /content/drive/MyDrive/stairvision/dataset/east/videos/Copy of Copy of IMG_3084.MOV: 384x640 2 persons, 21.5ms\n",
            "video 1/1 (frame 79/361) /content/drive/MyDrive/stairvision/dataset/east/videos/Copy of Copy of IMG_3084.MOV: 384x640 2 persons, 21.0ms\n",
            "video 1/1 (frame 80/361) /content/drive/MyDrive/stairvision/dataset/east/videos/Copy of Copy of IMG_3084.MOV: 384x640 2 persons, 16.2ms\n",
            "video 1/1 (frame 81/361) /content/drive/MyDrive/stairvision/dataset/east/videos/Copy of Copy of IMG_3084.MOV: 384x640 2 persons, 16.1ms\n",
            "video 1/1 (frame 82/361) /content/drive/MyDrive/stairvision/dataset/east/videos/Copy of Copy of IMG_3084.MOV: 384x640 2 persons, 16.0ms\n",
            "video 1/1 (frame 83/361) /content/drive/MyDrive/stairvision/dataset/east/videos/Copy of Copy of IMG_3084.MOV: 384x640 2 persons, 16.9ms\n",
            "video 1/1 (frame 84/361) /content/drive/MyDrive/stairvision/dataset/east/videos/Copy of Copy of IMG_3084.MOV: 384x640 2 persons, 20.9ms\n",
            "video 1/1 (frame 85/361) /content/drive/MyDrive/stairvision/dataset/east/videos/Copy of Copy of IMG_3084.MOV: 384x640 2 persons, 15.0ms\n",
            "video 1/1 (frame 86/361) /content/drive/MyDrive/stairvision/dataset/east/videos/Copy of Copy of IMG_3084.MOV: 384x640 2 persons, 16.2ms\n",
            "video 1/1 (frame 87/361) /content/drive/MyDrive/stairvision/dataset/east/videos/Copy of Copy of IMG_3084.MOV: 384x640 2 persons, 26.0ms\n",
            "video 1/1 (frame 88/361) /content/drive/MyDrive/stairvision/dataset/east/videos/Copy of Copy of IMG_3084.MOV: 384x640 2 persons, 14.9ms\n",
            "video 1/1 (frame 89/361) /content/drive/MyDrive/stairvision/dataset/east/videos/Copy of Copy of IMG_3084.MOV: 384x640 2 persons, 13.9ms\n",
            "video 1/1 (frame 90/361) /content/drive/MyDrive/stairvision/dataset/east/videos/Copy of Copy of IMG_3084.MOV: 384x640 2 persons, 28.2ms\n",
            "video 1/1 (frame 91/361) /content/drive/MyDrive/stairvision/dataset/east/videos/Copy of Copy of IMG_3084.MOV: 384x640 2 persons, 22.6ms\n",
            "video 1/1 (frame 92/361) /content/drive/MyDrive/stairvision/dataset/east/videos/Copy of Copy of IMG_3084.MOV: 384x640 2 persons, 23.6ms\n",
            "video 1/1 (frame 93/361) /content/drive/MyDrive/stairvision/dataset/east/videos/Copy of Copy of IMG_3084.MOV: 384x640 2 persons, 29.8ms\n",
            "video 1/1 (frame 94/361) /content/drive/MyDrive/stairvision/dataset/east/videos/Copy of Copy of IMG_3084.MOV: 384x640 2 persons, 24.5ms\n",
            "video 1/1 (frame 95/361) /content/drive/MyDrive/stairvision/dataset/east/videos/Copy of Copy of IMG_3084.MOV: 384x640 2 persons, 15.8ms\n",
            "video 1/1 (frame 96/361) /content/drive/MyDrive/stairvision/dataset/east/videos/Copy of Copy of IMG_3084.MOV: 384x640 2 persons, 15.6ms\n",
            "video 1/1 (frame 97/361) /content/drive/MyDrive/stairvision/dataset/east/videos/Copy of Copy of IMG_3084.MOV: 384x640 2 persons, 16.4ms\n",
            "video 1/1 (frame 98/361) /content/drive/MyDrive/stairvision/dataset/east/videos/Copy of Copy of IMG_3084.MOV: 384x640 2 persons, 18.4ms\n",
            "video 1/1 (frame 99/361) /content/drive/MyDrive/stairvision/dataset/east/videos/Copy of Copy of IMG_3084.MOV: 384x640 2 persons, 16.5ms\n",
            "video 1/1 (frame 100/361) /content/drive/MyDrive/stairvision/dataset/east/videos/Copy of Copy of IMG_3084.MOV: 384x640 2 persons, 16.9ms\n",
            "video 1/1 (frame 101/361) /content/drive/MyDrive/stairvision/dataset/east/videos/Copy of Copy of IMG_3084.MOV: 384x640 2 persons, 15.7ms\n",
            "video 1/1 (frame 102/361) /content/drive/MyDrive/stairvision/dataset/east/videos/Copy of Copy of IMG_3084.MOV: 384x640 2 persons, 15.5ms\n",
            "video 1/1 (frame 103/361) /content/drive/MyDrive/stairvision/dataset/east/videos/Copy of Copy of IMG_3084.MOV: 384x640 2 persons, 16.2ms\n",
            "video 1/1 (frame 104/361) /content/drive/MyDrive/stairvision/dataset/east/videos/Copy of Copy of IMG_3084.MOV: 384x640 2 persons, 16.1ms\n",
            "video 1/1 (frame 105/361) /content/drive/MyDrive/stairvision/dataset/east/videos/Copy of Copy of IMG_3084.MOV: 384x640 2 persons, 15.6ms\n",
            "video 1/1 (frame 106/361) /content/drive/MyDrive/stairvision/dataset/east/videos/Copy of Copy of IMG_3084.MOV: 384x640 2 persons, 17.0ms\n",
            "video 1/1 (frame 107/361) /content/drive/MyDrive/stairvision/dataset/east/videos/Copy of Copy of IMG_3084.MOV: 384x640 2 persons, 15.3ms\n",
            "video 1/1 (frame 108/361) /content/drive/MyDrive/stairvision/dataset/east/videos/Copy of Copy of IMG_3084.MOV: 384x640 2 persons, 16.5ms\n",
            "video 1/1 (frame 109/361) /content/drive/MyDrive/stairvision/dataset/east/videos/Copy of Copy of IMG_3084.MOV: 384x640 2 persons, 16.3ms\n",
            "video 1/1 (frame 110/361) /content/drive/MyDrive/stairvision/dataset/east/videos/Copy of Copy of IMG_3084.MOV: 384x640 2 persons, 16.2ms\n",
            "video 1/1 (frame 111/361) /content/drive/MyDrive/stairvision/dataset/east/videos/Copy of Copy of IMG_3084.MOV: 384x640 2 persons, 16.1ms\n",
            "video 1/1 (frame 112/361) /content/drive/MyDrive/stairvision/dataset/east/videos/Copy of Copy of IMG_3084.MOV: 384x640 2 persons, 16.6ms\n",
            "video 1/1 (frame 113/361) /content/drive/MyDrive/stairvision/dataset/east/videos/Copy of Copy of IMG_3084.MOV: 384x640 2 persons, 16.8ms\n",
            "video 1/1 (frame 114/361) /content/drive/MyDrive/stairvision/dataset/east/videos/Copy of Copy of IMG_3084.MOV: 384x640 2 persons, 16.2ms\n",
            "video 1/1 (frame 115/361) /content/drive/MyDrive/stairvision/dataset/east/videos/Copy of Copy of IMG_3084.MOV: 384x640 2 persons, 15.6ms\n",
            "video 1/1 (frame 116/361) /content/drive/MyDrive/stairvision/dataset/east/videos/Copy of Copy of IMG_3084.MOV: 384x640 2 persons, 15.7ms\n",
            "video 1/1 (frame 117/361) /content/drive/MyDrive/stairvision/dataset/east/videos/Copy of Copy of IMG_3084.MOV: 384x640 2 persons, 15.6ms\n",
            "video 1/1 (frame 118/361) /content/drive/MyDrive/stairvision/dataset/east/videos/Copy of Copy of IMG_3084.MOV: 384x640 2 persons, 16.2ms\n",
            "video 1/1 (frame 119/361) /content/drive/MyDrive/stairvision/dataset/east/videos/Copy of Copy of IMG_3084.MOV: 384x640 2 persons, 16.3ms\n",
            "video 1/1 (frame 120/361) /content/drive/MyDrive/stairvision/dataset/east/videos/Copy of Copy of IMG_3084.MOV: 384x640 2 persons, 15.9ms\n",
            "video 1/1 (frame 121/361) /content/drive/MyDrive/stairvision/dataset/east/videos/Copy of Copy of IMG_3084.MOV: 384x640 2 persons, 17.2ms\n",
            "video 1/1 (frame 122/361) /content/drive/MyDrive/stairvision/dataset/east/videos/Copy of Copy of IMG_3084.MOV: 384x640 2 persons, 15.9ms\n",
            "video 1/1 (frame 123/361) /content/drive/MyDrive/stairvision/dataset/east/videos/Copy of Copy of IMG_3084.MOV: 384x640 2 persons, 15.3ms\n",
            "video 1/1 (frame 124/361) /content/drive/MyDrive/stairvision/dataset/east/videos/Copy of Copy of IMG_3084.MOV: 384x640 2 persons, 16.8ms\n",
            "video 1/1 (frame 125/361) /content/drive/MyDrive/stairvision/dataset/east/videos/Copy of Copy of IMG_3084.MOV: 384x640 2 persons, 16.9ms\n",
            "video 1/1 (frame 126/361) /content/drive/MyDrive/stairvision/dataset/east/videos/Copy of Copy of IMG_3084.MOV: 384x640 2 persons, 16.7ms\n",
            "video 1/1 (frame 127/361) /content/drive/MyDrive/stairvision/dataset/east/videos/Copy of Copy of IMG_3084.MOV: 384x640 2 persons, 19.7ms\n",
            "video 1/1 (frame 128/361) /content/drive/MyDrive/stairvision/dataset/east/videos/Copy of Copy of IMG_3084.MOV: 384x640 2 persons, 16.0ms\n",
            "video 1/1 (frame 129/361) /content/drive/MyDrive/stairvision/dataset/east/videos/Copy of Copy of IMG_3084.MOV: 384x640 2 persons, 15.4ms\n",
            "video 1/1 (frame 130/361) /content/drive/MyDrive/stairvision/dataset/east/videos/Copy of Copy of IMG_3084.MOV: 384x640 2 persons, 16.9ms\n",
            "video 1/1 (frame 131/361) /content/drive/MyDrive/stairvision/dataset/east/videos/Copy of Copy of IMG_3084.MOV: 384x640 2 persons, 16.5ms\n",
            "video 1/1 (frame 132/361) /content/drive/MyDrive/stairvision/dataset/east/videos/Copy of Copy of IMG_3084.MOV: 384x640 2 persons, 17.5ms\n",
            "video 1/1 (frame 133/361) /content/drive/MyDrive/stairvision/dataset/east/videos/Copy of Copy of IMG_3084.MOV: 384x640 2 persons, 17.5ms\n",
            "video 1/1 (frame 134/361) /content/drive/MyDrive/stairvision/dataset/east/videos/Copy of Copy of IMG_3084.MOV: 384x640 2 persons, 15.8ms\n",
            "video 1/1 (frame 135/361) /content/drive/MyDrive/stairvision/dataset/east/videos/Copy of Copy of IMG_3084.MOV: 384x640 2 persons, 15.9ms\n",
            "video 1/1 (frame 136/361) /content/drive/MyDrive/stairvision/dataset/east/videos/Copy of Copy of IMG_3084.MOV: 384x640 2 persons, 16.9ms\n",
            "video 1/1 (frame 137/361) /content/drive/MyDrive/stairvision/dataset/east/videos/Copy of Copy of IMG_3084.MOV: 384x640 2 persons, 16.4ms\n",
            "video 1/1 (frame 138/361) /content/drive/MyDrive/stairvision/dataset/east/videos/Copy of Copy of IMG_3084.MOV: 384x640 2 persons, 16.0ms\n",
            "video 1/1 (frame 139/361) /content/drive/MyDrive/stairvision/dataset/east/videos/Copy of Copy of IMG_3084.MOV: 384x640 2 persons, 17.9ms\n",
            "video 1/1 (frame 140/361) /content/drive/MyDrive/stairvision/dataset/east/videos/Copy of Copy of IMG_3084.MOV: 384x640 2 persons, 16.5ms\n",
            "video 1/1 (frame 141/361) /content/drive/MyDrive/stairvision/dataset/east/videos/Copy of Copy of IMG_3084.MOV: 384x640 2 persons, 14.1ms\n",
            "video 1/1 (frame 142/361) /content/drive/MyDrive/stairvision/dataset/east/videos/Copy of Copy of IMG_3084.MOV: 384x640 2 persons, 38.7ms\n",
            "video 1/1 (frame 143/361) /content/drive/MyDrive/stairvision/dataset/east/videos/Copy of Copy of IMG_3084.MOV: 384x640 2 persons, 27.1ms\n",
            "video 1/1 (frame 144/361) /content/drive/MyDrive/stairvision/dataset/east/videos/Copy of Copy of IMG_3084.MOV: 384x640 2 persons, 26.1ms\n",
            "video 1/1 (frame 145/361) /content/drive/MyDrive/stairvision/dataset/east/videos/Copy of Copy of IMG_3084.MOV: 384x640 2 persons, 15.0ms\n",
            "video 1/1 (frame 146/361) /content/drive/MyDrive/stairvision/dataset/east/videos/Copy of Copy of IMG_3084.MOV: 384x640 2 persons, 26.0ms\n",
            "video 1/1 (frame 147/361) /content/drive/MyDrive/stairvision/dataset/east/videos/Copy of Copy of IMG_3084.MOV: 384x640 2 persons, 26.2ms\n",
            "video 1/1 (frame 148/361) /content/drive/MyDrive/stairvision/dataset/east/videos/Copy of Copy of IMG_3084.MOV: 384x640 2 persons, 26.1ms\n",
            "video 1/1 (frame 149/361) /content/drive/MyDrive/stairvision/dataset/east/videos/Copy of Copy of IMG_3084.MOV: 384x640 2 persons, 14.5ms\n",
            "video 1/1 (frame 150/361) /content/drive/MyDrive/stairvision/dataset/east/videos/Copy of Copy of IMG_3084.MOV: 384x640 2 persons, 30.3ms\n",
            "video 1/1 (frame 151/361) /content/drive/MyDrive/stairvision/dataset/east/videos/Copy of Copy of IMG_3084.MOV: 384x640 2 persons, 35.5ms\n",
            "video 1/1 (frame 152/361) /content/drive/MyDrive/stairvision/dataset/east/videos/Copy of Copy of IMG_3084.MOV: 384x640 2 persons, 27.6ms\n",
            "video 1/1 (frame 153/361) /content/drive/MyDrive/stairvision/dataset/east/videos/Copy of Copy of IMG_3084.MOV: 384x640 2 persons, 16.0ms\n",
            "video 1/1 (frame 154/361) /content/drive/MyDrive/stairvision/dataset/east/videos/Copy of Copy of IMG_3084.MOV: 384x640 2 persons, 15.9ms\n",
            "video 1/1 (frame 155/361) /content/drive/MyDrive/stairvision/dataset/east/videos/Copy of Copy of IMG_3084.MOV: 384x640 2 persons, 15.9ms\n",
            "video 1/1 (frame 156/361) /content/drive/MyDrive/stairvision/dataset/east/videos/Copy of Copy of IMG_3084.MOV: 384x640 2 persons, 16.1ms\n",
            "video 1/1 (frame 157/361) /content/drive/MyDrive/stairvision/dataset/east/videos/Copy of Copy of IMG_3084.MOV: 384x640 2 persons, 16.9ms\n",
            "video 1/1 (frame 158/361) /content/drive/MyDrive/stairvision/dataset/east/videos/Copy of Copy of IMG_3084.MOV: 384x640 2 persons, 15.4ms\n",
            "video 1/1 (frame 159/361) /content/drive/MyDrive/stairvision/dataset/east/videos/Copy of Copy of IMG_3084.MOV: 384x640 2 persons, 16.2ms\n",
            "video 1/1 (frame 160/361) /content/drive/MyDrive/stairvision/dataset/east/videos/Copy of Copy of IMG_3084.MOV: 384x640 2 persons, 15.7ms\n",
            "video 1/1 (frame 161/361) /content/drive/MyDrive/stairvision/dataset/east/videos/Copy of Copy of IMG_3084.MOV: 384x640 2 persons, 15.7ms\n",
            "video 1/1 (frame 162/361) /content/drive/MyDrive/stairvision/dataset/east/videos/Copy of Copy of IMG_3084.MOV: 384x640 2 persons, 16.7ms\n",
            "video 1/1 (frame 163/361) /content/drive/MyDrive/stairvision/dataset/east/videos/Copy of Copy of IMG_3084.MOV: 384x640 2 persons, 15.9ms\n",
            "video 1/1 (frame 164/361) /content/drive/MyDrive/stairvision/dataset/east/videos/Copy of Copy of IMG_3084.MOV: 384x640 2 persons, 19.5ms\n",
            "video 1/1 (frame 165/361) /content/drive/MyDrive/stairvision/dataset/east/videos/Copy of Copy of IMG_3084.MOV: 384x640 2 persons, 23.0ms\n",
            "video 1/1 (frame 166/361) /content/drive/MyDrive/stairvision/dataset/east/videos/Copy of Copy of IMG_3084.MOV: 384x640 2 persons, 15.5ms\n",
            "video 1/1 (frame 167/361) /content/drive/MyDrive/stairvision/dataset/east/videos/Copy of Copy of IMG_3084.MOV: 384x640 2 persons, 15.8ms\n",
            "video 1/1 (frame 168/361) /content/drive/MyDrive/stairvision/dataset/east/videos/Copy of Copy of IMG_3084.MOV: 384x640 2 persons, 16.1ms\n",
            "video 1/1 (frame 169/361) /content/drive/MyDrive/stairvision/dataset/east/videos/Copy of Copy of IMG_3084.MOV: 384x640 2 persons, 16.2ms\n",
            "video 1/1 (frame 170/361) /content/drive/MyDrive/stairvision/dataset/east/videos/Copy of Copy of IMG_3084.MOV: 384x640 2 persons, 16.7ms\n",
            "video 1/1 (frame 171/361) /content/drive/MyDrive/stairvision/dataset/east/videos/Copy of Copy of IMG_3084.MOV: 384x640 2 persons, 16.0ms\n",
            "video 1/1 (frame 172/361) /content/drive/MyDrive/stairvision/dataset/east/videos/Copy of Copy of IMG_3084.MOV: 384x640 2 persons, 15.7ms\n",
            "video 1/1 (frame 173/361) /content/drive/MyDrive/stairvision/dataset/east/videos/Copy of Copy of IMG_3084.MOV: 384x640 2 persons, 15.9ms\n",
            "video 1/1 (frame 174/361) /content/drive/MyDrive/stairvision/dataset/east/videos/Copy of Copy of IMG_3084.MOV: 384x640 2 persons, 16.3ms\n",
            "video 1/1 (frame 175/361) /content/drive/MyDrive/stairvision/dataset/east/videos/Copy of Copy of IMG_3084.MOV: 384x640 2 persons, 16.0ms\n",
            "video 1/1 (frame 176/361) /content/drive/MyDrive/stairvision/dataset/east/videos/Copy of Copy of IMG_3084.MOV: 384x640 2 persons, 16.1ms\n",
            "video 1/1 (frame 177/361) /content/drive/MyDrive/stairvision/dataset/east/videos/Copy of Copy of IMG_3084.MOV: 384x640 2 persons, 19.9ms\n",
            "video 1/1 (frame 178/361) /content/drive/MyDrive/stairvision/dataset/east/videos/Copy of Copy of IMG_3084.MOV: 384x640 2 persons, 15.4ms\n",
            "video 1/1 (frame 179/361) /content/drive/MyDrive/stairvision/dataset/east/videos/Copy of Copy of IMG_3084.MOV: 384x640 2 persons, 16.2ms\n",
            "video 1/1 (frame 180/361) /content/drive/MyDrive/stairvision/dataset/east/videos/Copy of Copy of IMG_3084.MOV: 384x640 2 persons, 16.0ms\n",
            "video 1/1 (frame 181/361) /content/drive/MyDrive/stairvision/dataset/east/videos/Copy of Copy of IMG_3084.MOV: 384x640 2 persons, 16.0ms\n",
            "video 1/1 (frame 182/361) /content/drive/MyDrive/stairvision/dataset/east/videos/Copy of Copy of IMG_3084.MOV: 384x640 2 persons, 16.4ms\n",
            "video 1/1 (frame 183/361) /content/drive/MyDrive/stairvision/dataset/east/videos/Copy of Copy of IMG_3084.MOV: 384x640 2 persons, 16.4ms\n",
            "video 1/1 (frame 184/361) /content/drive/MyDrive/stairvision/dataset/east/videos/Copy of Copy of IMG_3084.MOV: 384x640 2 persons, 16.5ms\n",
            "video 1/1 (frame 185/361) /content/drive/MyDrive/stairvision/dataset/east/videos/Copy of Copy of IMG_3084.MOV: 384x640 2 persons, 16.6ms\n",
            "video 1/1 (frame 186/361) /content/drive/MyDrive/stairvision/dataset/east/videos/Copy of Copy of IMG_3084.MOV: 384x640 2 persons, 15.7ms\n",
            "video 1/1 (frame 187/361) /content/drive/MyDrive/stairvision/dataset/east/videos/Copy of Copy of IMG_3084.MOV: 384x640 2 persons, 16.3ms\n",
            "video 1/1 (frame 188/361) /content/drive/MyDrive/stairvision/dataset/east/videos/Copy of Copy of IMG_3084.MOV: 384x640 2 persons, 15.7ms\n",
            "video 1/1 (frame 189/361) /content/drive/MyDrive/stairvision/dataset/east/videos/Copy of Copy of IMG_3084.MOV: 384x640 2 persons, 21.4ms\n",
            "video 1/1 (frame 190/361) /content/drive/MyDrive/stairvision/dataset/east/videos/Copy of Copy of IMG_3084.MOV: 384x640 2 persons, 16.4ms\n",
            "video 1/1 (frame 191/361) /content/drive/MyDrive/stairvision/dataset/east/videos/Copy of Copy of IMG_3084.MOV: 384x640 2 persons, 16.2ms\n",
            "video 1/1 (frame 192/361) /content/drive/MyDrive/stairvision/dataset/east/videos/Copy of Copy of IMG_3084.MOV: 384x640 2 persons, 15.9ms\n",
            "video 1/1 (frame 193/361) /content/drive/MyDrive/stairvision/dataset/east/videos/Copy of Copy of IMG_3084.MOV: 384x640 2 persons, 16.1ms\n",
            "video 1/1 (frame 194/361) /content/drive/MyDrive/stairvision/dataset/east/videos/Copy of Copy of IMG_3084.MOV: 384x640 2 persons, 25.9ms\n",
            "video 1/1 (frame 195/361) /content/drive/MyDrive/stairvision/dataset/east/videos/Copy of Copy of IMG_3084.MOV: 384x640 2 persons, 53.6ms\n",
            "video 1/1 (frame 196/361) /content/drive/MyDrive/stairvision/dataset/east/videos/Copy of Copy of IMG_3084.MOV: 384x640 2 persons, 31.0ms\n",
            "video 1/1 (frame 197/361) /content/drive/MyDrive/stairvision/dataset/east/videos/Copy of Copy of IMG_3084.MOV: 384x640 2 persons, 16.5ms\n",
            "video 1/1 (frame 198/361) /content/drive/MyDrive/stairvision/dataset/east/videos/Copy of Copy of IMG_3084.MOV: 384x640 2 persons, 15.8ms\n",
            "video 1/1 (frame 199/361) /content/drive/MyDrive/stairvision/dataset/east/videos/Copy of Copy of IMG_3084.MOV: 384x640 2 persons, 17.1ms\n",
            "video 1/1 (frame 200/361) /content/drive/MyDrive/stairvision/dataset/east/videos/Copy of Copy of IMG_3084.MOV: 384x640 2 persons, 31.6ms\n",
            "video 1/1 (frame 201/361) /content/drive/MyDrive/stairvision/dataset/east/videos/Copy of Copy of IMG_3084.MOV: 384x640 2 persons, 324.7ms\n",
            "video 1/1 (frame 202/361) /content/drive/MyDrive/stairvision/dataset/east/videos/Copy of Copy of IMG_3084.MOV: 384x640 2 persons, 14.8ms\n",
            "video 1/1 (frame 203/361) /content/drive/MyDrive/stairvision/dataset/east/videos/Copy of Copy of IMG_3084.MOV: 384x640 2 persons, 19.7ms\n",
            "video 1/1 (frame 204/361) /content/drive/MyDrive/stairvision/dataset/east/videos/Copy of Copy of IMG_3084.MOV: 384x640 2 persons, 39.2ms\n",
            "video 1/1 (frame 205/361) /content/drive/MyDrive/stairvision/dataset/east/videos/Copy of Copy of IMG_3084.MOV: 384x640 2 persons, 20.9ms\n",
            "video 1/1 (frame 206/361) /content/drive/MyDrive/stairvision/dataset/east/videos/Copy of Copy of IMG_3084.MOV: 384x640 2 persons, 21.2ms\n",
            "video 1/1 (frame 207/361) /content/drive/MyDrive/stairvision/dataset/east/videos/Copy of Copy of IMG_3084.MOV: 384x640 2 persons, 17.0ms\n",
            "video 1/1 (frame 208/361) /content/drive/MyDrive/stairvision/dataset/east/videos/Copy of Copy of IMG_3084.MOV: 384x640 2 persons, 16.2ms\n",
            "video 1/1 (frame 209/361) /content/drive/MyDrive/stairvision/dataset/east/videos/Copy of Copy of IMG_3084.MOV: 384x640 2 persons, 15.6ms\n",
            "video 1/1 (frame 210/361) /content/drive/MyDrive/stairvision/dataset/east/videos/Copy of Copy of IMG_3084.MOV: 384x640 2 persons, 16.7ms\n",
            "video 1/1 (frame 211/361) /content/drive/MyDrive/stairvision/dataset/east/videos/Copy of Copy of IMG_3084.MOV: 384x640 2 persons, 15.6ms\n",
            "video 1/1 (frame 212/361) /content/drive/MyDrive/stairvision/dataset/east/videos/Copy of Copy of IMG_3084.MOV: 384x640 2 persons, 15.7ms\n",
            "video 1/1 (frame 213/361) /content/drive/MyDrive/stairvision/dataset/east/videos/Copy of Copy of IMG_3084.MOV: 384x640 2 persons, 15.4ms\n",
            "video 1/1 (frame 214/361) /content/drive/MyDrive/stairvision/dataset/east/videos/Copy of Copy of IMG_3084.MOV: 384x640 2 persons, 15.2ms\n",
            "video 1/1 (frame 215/361) /content/drive/MyDrive/stairvision/dataset/east/videos/Copy of Copy of IMG_3084.MOV: 384x640 2 persons, 15.9ms\n",
            "video 1/1 (frame 216/361) /content/drive/MyDrive/stairvision/dataset/east/videos/Copy of Copy of IMG_3084.MOV: 384x640 2 persons, 16.0ms\n",
            "video 1/1 (frame 217/361) /content/drive/MyDrive/stairvision/dataset/east/videos/Copy of Copy of IMG_3084.MOV: 384x640 2 persons, 16.1ms\n",
            "video 1/1 (frame 218/361) /content/drive/MyDrive/stairvision/dataset/east/videos/Copy of Copy of IMG_3084.MOV: 384x640 2 persons, 15.8ms\n",
            "video 1/1 (frame 219/361) /content/drive/MyDrive/stairvision/dataset/east/videos/Copy of Copy of IMG_3084.MOV: 384x640 2 persons, 15.0ms\n",
            "video 1/1 (frame 220/361) /content/drive/MyDrive/stairvision/dataset/east/videos/Copy of Copy of IMG_3084.MOV: 384x640 2 persons, 16.4ms\n",
            "video 1/1 (frame 221/361) /content/drive/MyDrive/stairvision/dataset/east/videos/Copy of Copy of IMG_3084.MOV: 384x640 2 persons, 16.2ms\n",
            "video 1/1 (frame 222/361) /content/drive/MyDrive/stairvision/dataset/east/videos/Copy of Copy of IMG_3084.MOV: 384x640 2 persons, 15.9ms\n",
            "video 1/1 (frame 223/361) /content/drive/MyDrive/stairvision/dataset/east/videos/Copy of Copy of IMG_3084.MOV: 384x640 2 persons, 15.8ms\n",
            "video 1/1 (frame 224/361) /content/drive/MyDrive/stairvision/dataset/east/videos/Copy of Copy of IMG_3084.MOV: 384x640 2 persons, 15.9ms\n",
            "video 1/1 (frame 225/361) /content/drive/MyDrive/stairvision/dataset/east/videos/Copy of Copy of IMG_3084.MOV: 384x640 2 persons, 15.8ms\n",
            "video 1/1 (frame 226/361) /content/drive/MyDrive/stairvision/dataset/east/videos/Copy of Copy of IMG_3084.MOV: 384x640 2 persons, 16.6ms\n",
            "video 1/1 (frame 227/361) /content/drive/MyDrive/stairvision/dataset/east/videos/Copy of Copy of IMG_3084.MOV: 384x640 2 persons, 16.1ms\n",
            "video 1/1 (frame 228/361) /content/drive/MyDrive/stairvision/dataset/east/videos/Copy of Copy of IMG_3084.MOV: 384x640 2 persons, 16.2ms\n",
            "video 1/1 (frame 229/361) /content/drive/MyDrive/stairvision/dataset/east/videos/Copy of Copy of IMG_3084.MOV: 384x640 2 persons, 17.8ms\n",
            "video 1/1 (frame 230/361) /content/drive/MyDrive/stairvision/dataset/east/videos/Copy of Copy of IMG_3084.MOV: 384x640 2 persons, 16.8ms\n",
            "video 1/1 (frame 231/361) /content/drive/MyDrive/stairvision/dataset/east/videos/Copy of Copy of IMG_3084.MOV: 384x640 2 persons, 16.1ms\n",
            "video 1/1 (frame 232/361) /content/drive/MyDrive/stairvision/dataset/east/videos/Copy of Copy of IMG_3084.MOV: 384x640 2 persons, 16.0ms\n",
            "video 1/1 (frame 233/361) /content/drive/MyDrive/stairvision/dataset/east/videos/Copy of Copy of IMG_3084.MOV: 384x640 2 persons, 15.4ms\n",
            "video 1/1 (frame 234/361) /content/drive/MyDrive/stairvision/dataset/east/videos/Copy of Copy of IMG_3084.MOV: 384x640 2 persons, 19.1ms\n",
            "video 1/1 (frame 235/361) /content/drive/MyDrive/stairvision/dataset/east/videos/Copy of Copy of IMG_3084.MOV: 384x640 2 persons, 15.6ms\n",
            "video 1/1 (frame 236/361) /content/drive/MyDrive/stairvision/dataset/east/videos/Copy of Copy of IMG_3084.MOV: 384x640 2 persons, 16.1ms\n",
            "video 1/1 (frame 237/361) /content/drive/MyDrive/stairvision/dataset/east/videos/Copy of Copy of IMG_3084.MOV: 384x640 2 persons, 17.4ms\n",
            "video 1/1 (frame 238/361) /content/drive/MyDrive/stairvision/dataset/east/videos/Copy of Copy of IMG_3084.MOV: 384x640 2 persons, 15.6ms\n",
            "video 1/1 (frame 239/361) /content/drive/MyDrive/stairvision/dataset/east/videos/Copy of Copy of IMG_3084.MOV: 384x640 2 persons, 16.4ms\n"
          ]
        }
      ],
      "source": [
        "import shutil\n",
        "from ultralytics import YOLO\n",
        "\n",
        "video_path = \"/src/dataset/east/videos/Copy of Copy of IMG_3084.MOV\"\n",
        "output_path = \"/src/dataset/east/videos/output_with_poses.mp4\"\n",
        "\n",
        "results = model.predict(\n",
        "    source=video_path,\n",
        "    save=True,\n",
        "    save_dir=\"/src/dataset/east/videos/\",\n",
        "    project=\"pose_estimation_output\",\n",
        "    name=\"video_results\",\n",
        "    conf=0.3,\n",
        "    show_labels=True,\n",
        "    show_conf=True,\n",
        "    line_width=2\n",
        ")"
      ]
    }
  ],
  "metadata": {
    "accelerator": "GPU",
    "colab": {
      "authorship_tag": "ABX9TyPQV9nIrV37hGitHglap3lv",
      "gpuType": "T4",
      "include_colab_link": true,
      "provenance": []
    },
    "kernelspec": {
      "display_name": "stairvision_env",
      "language": "python",
      "name": "python3"
    },
    "language_info": {
      "codemirror_mode": {
        "name": "ipython",
        "version": 3
      },
      "file_extension": ".py",
      "mimetype": "text/x-python",
      "name": "python",
      "nbconvert_exporter": "python",
      "pygments_lexer": "ipython3",
      "version": "3.10.18"
    }
  },
  "nbformat": 4,
  "nbformat_minor": 0
}
